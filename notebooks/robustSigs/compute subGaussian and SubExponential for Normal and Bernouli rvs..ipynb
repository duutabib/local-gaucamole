{
 "cells": [
  {
   "cell_type": "code",
   "execution_count": 2,
   "id": "8d7b73d3",
   "metadata": {},
   "outputs": [
    {
     "name": "stdout",
     "output_type": "stream",
     "text": [
      "%pylab is deprecated, use %matplotlib inline and import the required libraries.\n",
      "Populating the interactive namespace from numpy and matplotlib\n"
     ]
    }
   ],
   "source": [
    "%pylab inline\n",
    "from scipy.special import erf"
   ]
  },
  {
   "cell_type": "markdown",
   "id": "53051273",
   "metadata": {},
   "source": [
    "# Defining functions for computations"
   ]
  },
  {
   "cell_type": "code",
   "execution_count": 32,
   "id": "f32ba49c",
   "metadata": {},
   "outputs": [],
   "source": [
    "def orlicz(x, psi, ts = logspace(-1, 1, 10000)):\n",
    "    for t in ts:\n",
    "        d = psi(abs(x)/t)\n",
    "        m = mean(d)\n",
    "        if m <= 1:\n",
    "            return t     \n",
    "    return np.inf\n",
    "\n",
    "def subG(x, **qargs):\n",
    "    f = lambda x: exp(x**2) -1 \n",
    "    return orlicz(x, f, **qargs)\n",
    "\n",
    "def subE(x, **qargs):\n",
    "    f = lambda x: exp(x) -1\n",
    "    return orlicz(x, f, **qargs)"
   ]
  },
  {
   "cell_type": "code",
   "execution_count": 51,
   "id": "1a97fe4b",
   "metadata": {},
   "outputs": [],
   "source": [
    "def subG_(xs, t=linspace(0.01, 1000, 10000)):\n",
    "    sxs = xs**2\n",
    "    for j in t:\n",
    "        d = exp(sxs/j**2)\n",
    "        if mean(d) <= 2:\n",
    "            return j        \n",
    "    return np.inf\n",
    "\n",
    "def subE_(xs, t = linspace(0.01, 1000, 100000)):\n",
    "    for j in t:\n",
    "        d = exp(abs(xs)/j)\n",
    "        m = mean(d)\n",
    "        if m <= 2:\n",
    "            return j\n",
    "    return np.inf"
   ]
  },
  {
   "cell_type": "markdown",
   "id": "3dfe3b86",
   "metadata": {},
   "source": [
    "# Computing subG for Bernouli and Gaussian\n",
    "\n",
    "(Bernouli)\n",
    "$$ X \\sim Ber(p)$$\n",
    "where  X = {-1, 1} and p = 1/2  is the parameter of the distribution.\n",
    "\n",
    "The subGaussian norm denoted $||\\cdot||_{\\psi_{2}}$, is defined as  $$||X||_{\\psi_{2}} = \\inf\\{t>0 : E[e^{X^{2}/t^{2}}] \\le 2\\}$$ \n",
    "\n",
    "Consider, $$E[e^{X^{2}/t^{2}}] = E[e^{1/t^{2}} ] = e^{1/t^{2}}$$\n",
    "\n",
    " \n",
    "$$\\implies  e^{1/t^{2}} \\le 2 $$ and \n",
    "$$ t = 1/\\sqrt{\\log 2}$$\n",
    "\n",
    "hence, \n",
    "$$||X||_{\\psi_{2}} = \\inf\\{t>0: E[e^{X^{2}/t^{2}}] \\le 2 \\} = \\frac{1}{\\sqrt{\\log2}}$$\n",
    "\n",
    "\n",
    "\n",
    "\n",
    "(Gaussian)\n",
    "$$ X \\sim N(0, 1) $$\n",
    " and \n",
    "$$||X||_{\\psi_{2}} = \\inf\\{t>0 : E[e^{X^{2}/t^{2}}] \\le 2\\}$$\n",
    "\n",
    "we have,\n",
    "\n",
    "\\begin{eqnarray} \n",
    "E[e^{X^{2}/t^{2}}] =  \\frac{1}{\\sqrt{2\\pi }}\\int_{-\\infty}^{+\\infty} e^{x^2/t^{2}} e^{-x^{2}/{2}} \\,dx \n",
    "= \\left(1 - \\frac{2}{t^{2}}\\right)^{\\!-1/2} \n",
    "\\end{eqnarray}\n",
    "\n",
    "Therefore, \n",
    "$$ \\left(1 - \\frac{2}{t^{2}}\\right)^{\\!-1/2} \\le 2 $$\n",
    "\n",
    "or \n",
    "$$ 1 \\le 2 \\left( 1 - \\frac{2}{t^{2}}\\right) $$ \n",
    "\n",
    "hence $$||X||_{\\psi_{2}} = \\inf\\{t>0 : E[e^{X^{2}/t^{2}}] \\le 2\\} = \\sqrt{2} $$"
   ]
  },
  {
   "cell_type": "code",
   "execution_count": 6,
   "id": "107bdac2",
   "metadata": {},
   "outputs": [],
   "source": [
    "r = randn(10000, )"
   ]
  },
  {
   "cell_type": "code",
   "execution_count": 7,
   "id": "27198a94",
   "metadata": {},
   "outputs": [
    {
     "name": "stderr",
     "output_type": "stream",
     "text": [
      "/var/folders/f4/q6n418p95nb77wmf4l9zydddrkwtmh/T/ipykernel_77381/3393977430.py:10: RuntimeWarning: overflow encountered in exp\n",
      "  f = lambda x: exp(x**2) -1\n",
      "/Users/duuta/ppp/venv/lib/python3.9/site-packages/numpy/core/_methods.py:180: RuntimeWarning: overflow encountered in reduce\n",
      "  ret = umr_sum(arr, axis, dtype, out, keepdims, where=where)\n"
     ]
    },
    {
     "data": {
      "text/plain": [
       "(0.9547682968596055, 1.9951473064122784)"
      ]
     },
     "execution_count": 7,
     "metadata": {},
     "output_type": "execute_result"
    }
   ],
   "source": [
    "subG(ber, ts=logspace(-3, 1, 10000))\n"
   ]
  },
  {
   "cell_type": "code",
   "execution_count": 26,
   "id": "e3ca9595",
   "metadata": {},
   "outputs": [
    {
     "name": "stderr",
     "output_type": "stream",
     "text": [
      "/var/folders/f4/q6n418p95nb77wmf4l9zydddrkwtmh/T/ipykernel_77381/401856976.py:4: RuntimeWarning: overflow encountered in exp\n",
      "  d = exp(sxs/j**2)\n"
     ]
    },
    {
     "data": {
      "text/plain": [
       "1.6421096528392098"
      ]
     },
     "execution_count": 26,
     "metadata": {},
     "output_type": "execute_result"
    }
   ],
   "source": [
    "subG_(r, t=logspace(-100, 4, 100000))"
   ]
  },
  {
   "cell_type": "code",
   "execution_count": 9,
   "id": "53ccb913",
   "metadata": {},
   "outputs": [
    {
     "name": "stderr",
     "output_type": "stream",
     "text": [
      "/var/folders/f4/q6n418p95nb77wmf4l9zydddrkwtmh/T/ipykernel_73964/401856976.py:4: RuntimeWarning: overflow encountered in exp\n",
      "  d = exp(sxs/j**2)\n"
     ]
    },
    {
     "data": {
      "text/plain": [
       "1.2020097510386374"
      ]
     },
     "execution_count": 9,
     "metadata": {},
     "output_type": "execute_result"
    }
   ],
   "source": [
    "subG_(ber, t=logspace(-3, 1, 10000))"
   ]
  },
  {
   "cell_type": "code",
   "execution_count": 3,
   "id": "49729c6e",
   "metadata": {},
   "outputs": [
    {
     "data": {
      "text/plain": [
       "1.2011224087864498"
      ]
     },
     "execution_count": 3,
     "metadata": {},
     "output_type": "execute_result"
    }
   ],
   "source": [
    "1/np.sqrt(log(2))"
   ]
  },
  {
   "cell_type": "code",
   "execution_count": 25,
   "id": "736a2282",
   "metadata": {},
   "outputs": [
    {
     "data": {
      "text/plain": [
       "(1.6396392042153667, 0.9993461111228625)"
      ]
     },
     "execution_count": 25,
     "metadata": {},
     "output_type": "execute_result"
    }
   ],
   "source": [
    "subG(r, ts = linspace(sqrt(2)/2,2*sqrt(2),10001))"
   ]
  },
  {
   "cell_type": "markdown",
   "id": "0c6bc614",
   "metadata": {},
   "source": [
    "# compute subExponential norm for Bernouli and Gaussian  "
   ]
  },
  {
   "cell_type": "markdown",
   "id": "252daedb",
   "metadata": {},
   "source": [
    "(Bernouli)\n",
    "\n",
    "\n",
    "$$ X \\sim Ber(p)$$\n",
    "where  X = {-1, 1} and p = 1/2  is the parameter of the distribution.\n",
    "\n",
    "The subGaussian norm denoted $||\\cdot||_{\\psi_{2}}$, is defined as  $$||X||_{\\psi_{1}} = \\inf\\{t>0 : E[e^{|X|/t}] \\le 2\\}$$ \n",
    "\n",
    "Consider, $$E[e^{|X|/t}] = \\frac{1}{2} e^{1/t} + \\frac{1}{2}e^{|-1|/t}$$\n",
    "\n",
    " \n",
    "$$\\implies  \\cosh{\\frac{1}{t}} \\le 2 $$ and \n",
    "$$ 1/ t = \\log{ 2}  $$\n",
    "\n",
    "hence, \n",
    "$$||X||_{\\psi_{1}} = \\inf\\{t>0: E[e^{|X|/t}] \\le 2 \\} = \\frac{1}{\\log2}$$\n",
    "\n",
    "\n",
    "\n",
    "\n",
    "(Gaussian)\n",
    "\n",
    "Given $$ X \\sim N(0, 1) $$\n",
    " and \n",
    "$$||X||_{\\psi_{1}} = \\inf\\{t>0 : E[e^{|X|/t}] \\le 2\\}$$\n",
    "we have that,\n",
    "\n",
    "\\begin{eqnarray} \n",
    "E[e^{|X|/t}] =  \\frac{1}{\\sqrt{2\\pi }}\\int_{-\\infty}^{+\\infty} e^{|x|/t} e^{-x^{2}/{2}} \\,dx \n",
    "=  e^{1/2t^{2}}\\left(\\text{erf}\\left(\\frac{1}{\\sqrt{2}t}\\right) + 1 \\right)\n",
    "\\end{eqnarray}\n",
    "\n",
    "\n",
    "$$||X||_{\\psi_{1}} = \\inf\\{t>0: E[e^{|X|/t}] \\le 2 \\} = e^{1/2t^{2}}\\left( \\text{erf}\\left(\\frac{1}{\\sqrt{2}t}\\right) + 1 \\right)$$"
   ]
  },
  {
   "cell_type": "code",
   "execution_count": 35,
   "id": "56efefcb",
   "metadata": {},
   "outputs": [
    {
     "data": {
      "text/plain": [
       "1.4431648135339923"
      ]
     },
     "execution_count": 35,
     "metadata": {},
     "output_type": "execute_result"
    }
   ],
   "source": [
    "subE(ber)"
   ]
  },
  {
   "cell_type": "code",
   "execution_count": 36,
   "id": "cb7576f0",
   "metadata": {},
   "outputs": [
    {
     "data": {
      "text/plain": [
       "1.3618002555526134"
      ]
     },
     "execution_count": 36,
     "metadata": {},
     "output_type": "execute_result"
    }
   ],
   "source": [
    "subE(r)"
   ]
  },
  {
   "cell_type": "code",
   "execution_count": 46,
   "id": "e2cc02b4",
   "metadata": {},
   "outputs": [
    {
     "data": {
      "text/plain": [
       "1.45"
      ]
     },
     "execution_count": 46,
     "metadata": {},
     "output_type": "execute_result"
    }
   ],
   "source": [
    "subE_(ber)"
   ]
  },
  {
   "cell_type": "code",
   "execution_count": 47,
   "id": "45d193eb",
   "metadata": {},
   "outputs": [
    {
     "data": {
      "text/plain": [
       "1.37"
      ]
     },
     "execution_count": 47,
     "metadata": {},
     "output_type": "execute_result"
    }
   ],
   "source": [
    "subE_(r)"
   ]
  },
  {
   "cell_type": "code",
   "execution_count": 52,
   "id": "5b994807",
   "metadata": {},
   "outputs": [
    {
     "data": {
      "text/plain": [
       "0.0"
      ]
     },
     "execution_count": 52,
     "metadata": {},
     "output_type": "execute_result"
    }
   ],
   "source": [
    "log(1)"
   ]
  },
  {
   "cell_type": "code",
   "execution_count": 57,
   "id": "d284a143",
   "metadata": {},
   "outputs": [
    {
     "data": {
      "text/plain": [
       "0.7213475204444817"
      ]
     },
     "execution_count": 57,
     "metadata": {},
     "output_type": "execute_result"
    }
   ],
   "source": [
    "1/(2*log(2))"
   ]
  },
  {
   "cell_type": "code",
   "execution_count": 60,
   "id": "c6938df5",
   "metadata": {},
   "outputs": [
    {
     "data": {
      "text/plain": [
       "0.8493218002880191"
      ]
     },
     "execution_count": 60,
     "metadata": {},
     "output_type": "execute_result"
    }
   ],
   "source": [
    "sqrt(1/log(2)/2)"
   ]
  },
  {
   "cell_type": "code",
   "execution_count": 70,
   "id": "a6b32d21",
   "metadata": {},
   "outputs": [],
   "source": [
    "def expectedV(t):\n",
    "    return exp(1/(2*t**2))*(erf(1/(sqrt(2) * t)) + 1)\n",
    "    "
   ]
  },
  {
   "cell_type": "code",
   "execution_count": 78,
   "id": "5498bae8",
   "metadata": {},
   "outputs": [
    {
     "data": {
      "text/plain": [
       "[<matplotlib.lines.Line2D at 0x125a05940>]"
      ]
     },
     "execution_count": 78,
     "metadata": {},
     "output_type": "execute_result"
    },
    {
     "data": {
      "image/png": "[encoded data removed]",
      "text/plain": [
       "<Figure size 640x480 with 1 Axes>"
      ]
     },
     "metadata": {},
     "output_type": "display_data"
    }
   ],
   "source": [
    "t = logspace(0, 1, 1001)\n",
    "plot(t, expectedV(t))"
   ]
  },
  {
   "cell_type": "code",
   "execution_count": 79,
   "id": "e43f8108",
   "metadata": {},
   "outputs": [
    {
     "data": {
      "text/plain": [
       "2.002995479202538"
      ]
     },
     "execution_count": 79,
     "metadata": {},
     "output_type": "execute_result"
    }
   ],
   "source": [
    "expectedV(1.37)"
   ]
  },
  {
   "cell_type": "code",
   "execution_count": 76,
   "id": "90e9c5aa",
   "metadata": {},
   "outputs": [
    {
     "name": "stdout",
     "output_type": "stream",
     "text": [
      "1.5670459383730346 1.5670592366928562 0.9999915138371861\n"
     ]
    }
   ],
   "source": [
    "t= 2\n",
    "x = linspace(-10, 10, 1001)\n",
    "dx = mean(diff(x))\n",
    "v = exp(abs(x)/t - x**2/2)/ sqrt(2 * pi)\n",
    "vint = sum(v)*dx\n",
    "print(vint, expectedV(t), vint/expectedV(t))"
   ]
  },
  {
   "cell_type": "code",
   "execution_count": 72,
   "id": "76cb0bfd",
   "metadata": {},
   "outputs": [
    {
     "data": {
      "text/plain": [
       "[<matplotlib.lines.Line2D at 0x12557fe20>]"
      ]
     },
     "execution_count": 72,
     "metadata": {},
     "output_type": "execute_result"
    },
    {
     "data": {
      "image/png": "[encoded data removed]",
      "text/plain": [
       "<Figure size 640x480 with 1 Axes>"
      ]
     },
     "metadata": {},
     "output_type": "display_data"
    }
   ],
   "source": [
    "plot(x, v)"
   ]
  }
 ],
 "metadata": {
  "kernelspec": {
   "display_name": "Python 3 (ipykernel)",
   "language": "python",
   "name": "python3"
  },
  "language_info": {
   "codemirror_mode": {
    "name": "ipython",
    "version": 3
   },
   "file_extension": ".py",
   "mimetype": "text/x-python",
   "name": "python",
   "nbconvert_exporter": "python",
   "pygments_lexer": "ipython3",
   "version": "3.9.16"
  }
 },
 "nbformat": 4,
 "nbformat_minor": 5
}
