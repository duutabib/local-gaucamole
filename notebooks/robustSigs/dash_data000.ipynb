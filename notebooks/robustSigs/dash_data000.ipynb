{
 "cells": [
  {
   "cell_type": "code",
   "execution_count": 2,
   "id": "fce0b43b",
   "metadata": {},
   "outputs": [
    {
     "name": "stdout",
     "output_type": "stream",
     "text": [
      "%pylab is deprecated, use %matplotlib inline and import the required libraries.\n",
      "Populating the interactive namespace from numpy and matplotlib\n"
     ]
    }
   ],
   "source": [
    "%pylab inline\n",
    "plt.style.use(\"default\")\n",
    "import os, sys\n",
    "import scipy\n",
    "import helpers as h\n",
    "import numpy.ma as ma\n",
    "from glob import glob\n",
    "from scipy.io import loadmat\n",
    "from scipy.stats import skew, kurtosis\n",
    "\n",
    "plt.rcParams['figure.figsize'] = (15, 10) "
   ]
  },
  {
   "cell_type": "code",
   "execution_count": 3,
   "id": "76a9c34e",
   "metadata": {},
   "outputs": [],
   "source": [
    "data_root = \"/Users/duuta/ppp/data/data000/mat_neural_data/\"\n",
    "data_files = [fname.split(\"/\")[-1] for fname in glob(f\"{data_root}*.mat\")]"
   ]
  },
  {
   "cell_type": "code",
   "execution_count": 6,
   "id": "49e20689",
   "metadata": {},
   "outputs": [
    {
     "data": {
      "text/plain": [
       "['106r002p70.mat',\n",
       " '105l001p16.mat',\n",
       " '107l003p143.mat',\n",
       " '106r001p26.mat',\n",
       " '107l002p67.mat']"
      ]
     },
     "execution_count": 6,
     "metadata": {},
     "output_type": "execute_result"
    }
   ],
   "source": [
    "data_files"
   ]
  },
  {
   "cell_type": "code",
   "execution_count": 34,
   "id": "fee37189",
   "metadata": {},
   "outputs": [
    {
     "data": {
      "text/plain": [
       "5"
      ]
     },
     "execution_count": 34,
     "metadata": {},
     "output_type": "execute_result"
    }
   ],
   "source": [
    "len(data_files)"
   ]
  },
  {
   "cell_type": "code",
   "execution_count": 8,
   "id": "f25aa46e",
   "metadata": {},
   "outputs": [],
   "source": [
    "dlist = glob(f\"{data_root}*.mat\")"
   ]
  },
  {
   "cell_type": "code",
   "execution_count": 9,
   "id": "98eb11f4",
   "metadata": {},
   "outputs": [],
   "source": [
    "d0 = loadmat(dlist[0], simplify_cells=True)"
   ]
  },
  {
   "cell_type": "code",
   "execution_count": 12,
   "id": "df408b34",
   "metadata": {},
   "outputs": [
    {
     "data": {
      "text/plain": [
       "array([[<88x1280 sparse matrix of type '<class 'numpy.float64'>'\n",
       "        \twith 2376 stored elements in Compressed Sparse Column format>,\n",
       "        <24x1280 sparse matrix of type '<class 'numpy.float64'>'\n",
       "        \twith 337 stored elements in Compressed Sparse Column format>],\n",
       "       [<88x1500 sparse matrix of type '<class 'numpy.float64'>'\n",
       "        \twith 673 stored elements in Compressed Sparse Column format>,\n",
       "        <24x1500 sparse matrix of type '<class 'numpy.float64'>'\n",
       "        \twith 116 stored elements in Compressed Sparse Column format>],\n",
       "       [<88x1280 sparse matrix of type '<class 'numpy.float64'>'\n",
       "        \twith 1855 stored elements in Compressed Sparse Column format>,\n",
       "        <24x1280 sparse matrix of type '<class 'numpy.float64'>'\n",
       "        \twith 152 stored elements in Compressed Sparse Column format>],\n",
       "       ...,\n",
       "       [<88x1500 sparse matrix of type '<class 'numpy.float64'>'\n",
       "        \twith 316 stored elements in Compressed Sparse Column format>,\n",
       "        <24x1500 sparse matrix of type '<class 'numpy.float64'>'\n",
       "        \twith 38 stored elements in Compressed Sparse Column format>],\n",
       "       [<88x1280 sparse matrix of type '<class 'numpy.float64'>'\n",
       "        \twith 1365 stored elements in Compressed Sparse Column format>,\n",
       "        <24x1280 sparse matrix of type '<class 'numpy.float64'>'\n",
       "        \twith 140 stored elements in Compressed Sparse Column format>],\n",
       "       [<88x1500 sparse matrix of type '<class 'numpy.float64'>'\n",
       "        \twith 148 stored elements in Compressed Sparse Column format>,\n",
       "        <24x1500 sparse matrix of type '<class 'numpy.float64'>'\n",
       "        \twith 2 stored elements in Compressed Sparse Column format>]],\n",
       "      dtype=object)"
      ]
     },
     "execution_count": 12,
     "metadata": {},
     "output_type": "execute_result"
    }
   ],
   "source": [
    "d0['neuralData']['spikeRasters']"
   ]
  },
  {
   "cell_type": "code",
   "execution_count": null,
   "id": "f6b956e4",
   "metadata": {},
   "outputs": [],
   "source": []
  }
 ],
 "metadata": {
  "kernelspec": {
   "display_name": "Python 3 (ipykernel)",
   "language": "python",
   "name": "python3"
  },
  "language_info": {
   "codemirror_mode": {
    "name": "ipython",
    "version": 3
   },
   "file_extension": ".py",
   "mimetype": "text/x-python",
   "name": "python",
   "nbconvert_exporter": "python",
   "pygments_lexer": "ipython3",
   "version": "3.9.16"
  }
 },
 "nbformat": 4,
 "nbformat_minor": 5
}
