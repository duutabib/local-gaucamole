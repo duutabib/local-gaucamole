{
 "cells": [
  {
   "cell_type": "code",
   "execution_count": 1,
   "metadata": {},
   "outputs": [],
   "source": [
    "def nearest_matrix_with_cov(X, Σ):\n",
    "    m, n = X.shape\n",
    "    assert n >= m, \"X has fewer columns than rows.\"\n",
    "    xm = X.mean(axis=1)\n",
    "    E, U = np.linalg.eigh(Σ)\n",
    "    S = np.diag(np.sqrt(n * E))\n",
    "    Xms = X - xm[:,np.newaxis]\n",
    "    X1 = U.T @ Xms\n",
    "    X2 = S @ X1\n",
    "    U2, _, V2 = np.linalg.svd(X2, full_matrices=False)\n",
    "    Yms = U @ S @ U2 @ V2\n",
    "    Y = Yms + xm[:,np.newaxis]\n",
    "    return Y"
   ]
  },
  {
   "cell_type": "code",
   "execution_count": null,
   "metadata": {},
   "outputs": [],
   "source": [
    "X = np.random.randzopom\n"
   ]
  }
 ],
 "metadata": {
  "kernelspec": {
   "display_name": "Python 3",
   "language": "python",
   "name": "python3"
  },
  "language_info": {
   "codemirror_mode": {
    "name": "ipython",
    "version": 3
   },
   "file_extension": ".py",
   "mimetype": "text/x-python",
   "name": "python",
   "nbconvert_exporter": "python",
   "pygments_lexer": "ipython3",
   "version": "3.9.16"
  }
 },
 "nbformat": 4,
 "nbformat_minor": 2
}
