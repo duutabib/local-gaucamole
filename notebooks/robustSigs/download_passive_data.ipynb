{
 "cells": [
  {
   "cell_type": "code",
   "execution_count": null,
   "metadata": {},
   "outputs": [],
   "source": [
    "from one.api import ONE\n",
    "\n",
    "one = ONE(base_url='https://openalyx.internationalbrainlab.org')\n",
    "TAG = 'Brainwidemap'  # Release tag to download cache for\n",
    "one.load_cache(tag=TAG)\n",
    "\n",
    "eids = one.search(dataset='passive*')"
   ]
  }
 ],
 "metadata": {
  "language_info": {
   "name": "python"
  }
 },
 "nbformat": 4,
 "nbformat_minor": 2
}
