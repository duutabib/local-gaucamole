{
 "cells": [
  {
   "cell_type": "code",
   "execution_count": null,
   "metadata": {},
   "outputs": [],
   "source": [
    "import torch\n",
    "import utils \n",
    "import math\n",
    "import random\n",
    "import helpers\n",
    "import numpy as np \n",
    "import matplotlib as mlp\n",
    "import matplotlib.pyplot as plt\n",
    "from torchsummary import summary\n",
    "from torchvision import transforms\n",
    "from torch.utils.data import Subset\n",
    "from torchvision.datasets import ImageFolder"
   ]
  },
  {
   "cell_type": "markdown",
   "metadata": {},
   "source": [
    "# some useful functions"
   ]
  },
  {
   "cell_type": "code",
   "execution_count": null,
   "metadata": {},
   "outputs": [],
   "source": [
    "def compute_cvPCA(resp0):\n",
    "    ss0 = utils.shuff_cvPCA(resp0, nshuff=10)\n",
    "    ss0 = ss0.mean(axis=0)\n",
    "    ss0 = ss0 / ss0.sum()\n",
    "\n",
    "    return ss0"
   ]
  },
  {
   "cell_type": "markdown",
   "metadata": {},
   "source": [
    "## Alexnet Model "
   ]
  },
  {
   "cell_type": "markdown",
   "metadata": {},
   "source": [
    "* get model architecture:"
   ]
  },
  {
   "cell_type": "code",
   "execution_count": null,
   "metadata": {},
   "outputs": [],
   "source": [
    "model = torch.hub.load('pytorch/vision:v0.10.0', 'alexnet', pretrained=True)\n",
    "model.eval()"
   ]
  },
  {
   "cell_type": "markdown",
   "metadata": {},
   "source": [
    "# define hook for intermediate activations"
   ]
  },
  {
   "cell_type": "code",
   "execution_count": null,
   "metadata": {},
   "outputs": [],
   "source": []
  },
  {
   "cell_type": "code",
   "execution_count": null,
   "metadata": {},
   "outputs": [],
   "source": [
    "num_rois = 193600\n",
    "num_stimulus = 2800\n",
    "activation = {}\n",
    "def get_activation(name):\n",
    "    def hook(model, input, output):\n",
    "        activation[name] = output.detach()\n",
    "    return hook\n",
    "\n",
    "def ghook(model, input, output):\n",
    "    return intermediate_activations.append(output)\n",
    "\n",
    "intermediate_activations = []\n",
    "\n",
    "arr00 = np.empty((num_stimulus, num_rois), dtype=float)\n"
   ]
  },
  {
   "cell_type": "markdown",
   "metadata": {},
   "source": [
    "## Using subset of ImageNet data, define transforms on data"
   ]
  },
  {
   "cell_type": "code",
   "execution_count": null,
   "metadata": {},
   "outputs": [],
   "source": [
    "batch_size = 1\n",
    "\n",
    "mean = [0.485, 0.456, 0.406]\n",
    "std = [0.229, 0.224, 0.225]\n",
    "\n",
    "transform = transforms.Compose(\n",
    "            [\n",
    "                transforms.Resize(256),\n",
    "                transforms.CenterCrop(224),\n",
    "                transforms.ToTensor(),\n",
    "                transforms.Normalize(mean, std),\n",
    "         \n",
    "            ]\n",
    "        )\n",
    "\n",
    "imagenet_data = ImageFolder('/Users/duuta/ppp/notebooks/robustSigs/ImageNet_data/imagenet-mini/', transform=transform)\n",
    "imagenet_data2800 = Subset(imagenet_data, np.arange(2800))\n",
    "data_loader = torch.utils.data.DataLoader(imagenet_data2800, \n",
    "                                          batch_size=batch_size,\n",
    "                                          shuffle=True,\n",
    "                                          num_workers=10) \n",
    "\n",
    "num_epochs = int(len(imagenet_data2800)/ batch_size)"
   ]
  },
  {
   "cell_type": "code",
   "execution_count": null,
   "metadata": {},
   "outputs": [],
   "source": [
    "# features_list = [0, 3, 6, 8, 10]\n",
    "# number of neurons 193600 \n",
    "# set batch size and scale with "
   ]
  },
  {
   "cell_type": "code",
   "execution_count": null,
   "metadata": {},
   "outputs": [],
   "source": [
    "sample_target_layer = model.features[0]\n",
    "for epoch  in range(1000):\n",
    "    for j, (input, _) in enumerate(iter(data_loader)):\n",
    "        hook_handle = sample_target_layer.register_forward_hook(get_activation('feats'))\n",
    "        _ = model(input)\n",
    "        arr00[j, :] = activation['feats'].reshape(1, num_rois)\n",
    "\n",
    "hook_handle.remove()"
   ]
  },
  {
   "cell_type": "markdown",
   "metadata": {},
   "source": [
    "* move imagenet data to nemo, computation cost is 1min/image "
   ]
  },
  {
   "cell_type": "code",
   "execution_count": null,
   "metadata": {},
   "outputs": [],
   "source": [
    "arr00_image2K = arr00[:2800, :]"
   ]
  },
  {
   "cell_type": "code",
   "execution_count": null,
   "metadata": {},
   "outputs": [],
   "source": [
    "with mlp.rc_context({'figure.figsize': (20, 30)}):\n",
    "    plt.matshow(arr00_image2K)"
   ]
  },
  {
   "cell_type": "code",
   "execution_count": null,
   "metadata": {},
   "outputs": [],
   "source": [
    "fig0 = plt.figure(figsize=(20, 10))\n",
    "fig0.suptitle('Showing response of AlexNet ROIs in Layer 1')\n",
    "ax = fig0.add_subplot()\n",
    "plt.imshow(arr00_image2K)\n",
    "ax.set_xlabel('ROIs')\n",
    "jax.set_ylabel('Stimulus Number')"
   ]
  },
  {
   "cell_type": "code",
   "execution_count": null,
   "metadata": {},
   "outputs": [],
   "source": [
    "response = helpers.dupSignal(arr00_image2K, istm0)"
   ]
  },
  {
   "cell_type": "code",
   "execution_count": null,
   "metadata": {},
   "outputs": [],
   "source": [
    "response.shape"
   ]
  },
  {
   "cell_type": "code",
   "execution_count": null,
   "metadata": {},
   "outputs": [],
   "source": [
    "# create (2 * stim * neurons) \n",
    "# arr0  = helpers.ssplit(arr00_image2K)"
   ]
  },
  {
   "cell_type": "code",
   "execution_count": null,
   "metadata": {},
   "outputs": [],
   "source": [
    "def ssplit0(x):\n",
    "    \"\"\"Returns a new array of split\n",
    "    spontaneous activity.\n",
    "    (2, n, p)\n",
    "    \"\"\"\n",
    "    # get # of stim\n",
    "    nr = x.shape[0]\n",
    "    snr = math.ceil(nr / 2)\n",
    "\n",
    "    # get # neurons\n",
    "    nco = x.shape[1]\n",
    "\n",
    "    # init empty for final results\n",
    "    newarr = np.empty((2, snr, nco))\n",
    "\n",
    "    p0 = x[:snr, :]\n",
    "    p1 = x[snr:nr, :]\n",
    "\n",
    "    # store data\n",
    "    newarr[0, :, :] = p0\n",
    "    newarr[1, :, :] = p1\n",
    "\n",
    "    return newarr"
   ]
  },
  {
   "cell_type": "code",
   "execution_count": null,
   "metadata": {},
   "outputs": [],
   "source": [
    "arr0 = ssplit0(arr00_image2K)"
   ]
  },
  {
   "cell_type": "code",
   "execution_count": null,
   "metadata": {},
   "outputs": [],
   "source": [
    "ss0 =compute_cvPCA(arr0)"
   ]
  },
  {
   "cell_type": "code",
   "execution_count": null,
   "metadata": {},
   "outputs": [],
   "source": [
    "ss0_ = compute_cvPCA(response)"
   ]
  },
  {
   "cell_type": "code",
   "execution_count": null,
   "metadata": {},
   "outputs": [],
   "source": [
    "ss0_.shape"
   ]
  },
  {
   "cell_type": "code",
   "execution_count": null,
   "metadata": {},
   "outputs": [],
   "source": [
    "alpha0, ypred0, _ = utils.get_powerlaw(ss0_/ss0.sum(), np.arange(11, 5e2).astype('int'))"
   ]
  },
  {
   "cell_type": "code",
   "execution_count": null,
   "metadata": {},
   "outputs": [],
   "source": [
    "alpha0"
   ]
  },
  {
   "cell_type": "markdown",
   "metadata": {},
   "source": [
    "# Using stimulus index (like in stringer)"
   ]
  },
  {
   "cell_type": "code",
   "execution_count": null,
   "metadata": {},
   "outputs": [],
   "source": [
    "with mlp.rc_context({'figure.figsize':(8, 6)}):\n",
    "    \n",
    "    plt.loglog(np.arange(0, ss0_.size)+1, ss0_/ss0_.sum())\n",
    "    plt.loglog(np.arange(0, ss0_.size)+1, ypred0)\n",
    "    plt.title(\"Plot of Variance drop Off by dimensions\")\n",
    "    plt.xlabel('Dimensions')\n",
    "    plt.ylabel('Variance')"
   ]
  },
  {
   "cell_type": "markdown",
   "metadata": {},
   "source": [
    "# not using stringer computation "
   ]
  },
  {
   "cell_type": "code",
   "execution_count": null,
   "metadata": {},
   "outputs": [],
   "source": [
    "ss00 = np.array(sorted(ss0))"
   ]
  },
  {
   "cell_type": "code",
   "execution_count": null,
   "metadata": {},
   "outputs": [],
   "source": [
    "alpha_value, ypred , _= utils.get_powerlaw(ss0/ss0.sum(), np.arange(11, 5e2).astype('int'))"
   ]
  },
  {
   "cell_type": "code",
   "execution_count": null,
   "metadata": {},
   "outputs": [],
   "source": [
    "alpha_value\n"
   ]
  },
  {
   "cell_type": "code",
   "execution_count": null,
   "metadata": {},
   "outputs": [],
   "source": [
    "with mlp.rc_context({'figure.figsize': (8, 6)}):\n",
    "    plt.loglog(np.arange(0, ss0.size)+1, ss0/ss0.sum())\n",
    "    plt.loglog(np.arange(0, ss0.size)+1, ypred)\n"
   ]
  },
  {
   "cell_type": "code",
   "execution_count": null,
   "metadata": {},
   "outputs": [],
   "source": [
    "istm0 = np.concatenate((list(range(0, 1400)), list(range(0, 1400))))"
   ]
  },
  {
   "cell_type": "markdown",
   "metadata": {},
   "source": [
    "* need to figure out dupSignal function, seems repeats responses are sought and averaged\n",
    "* created stim index array [0, 1399]*2 in the other in which the stimulus was presented \n",
    "* results were not different from what I got splitting the data with ssplit. Also, alpha values were low 0.4777, 0.482,\n",
    "* need to figure out what happens... NB: in stringer experiment repeat stimulus in alexnet, there are no repeats. 8\n",
    "* these are important to create a 2* N * M stimulus and then compute cvPCA.\n",
    "* I could pretend this is spontaneous activity and split the signal then procced\n",
    "* extend the computation to next layers\n",
    "* "
   ]
  }
 ],
 "metadata": {
  "kernelspec": {
   "display_name": "Python 3",
   "language": "python",
   "name": "python3"
  },
  "language_info": {
   "codemirror_mode": {
    "name": "ipython",
    "version": 3
   },
   "file_extension": ".py",
   "mimetype": "text/x-python",
   "name": "python",
   "nbconvert_exporter": "python",
   "pygments_lexer": "ipython3",
   "version": "3.9.16"
  }
 },
 "nbformat": 4,
 "nbformat_minor": 2
}
