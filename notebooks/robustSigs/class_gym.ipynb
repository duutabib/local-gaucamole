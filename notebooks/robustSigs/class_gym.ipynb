{
 "cells": [
  {
   "cell_type": "code",
   "execution_count": 1,
   "id": "1198c92d-0225-4662-9ce7-3169bffdbf03",
   "metadata": {
    "collapsed": false,
    "jupyter": {
     "outputs_hidden": false
    }
   },
   "outputs": [],
   "source": [
    "class MyClass(object):\n",
    "    def method(self):\n",
    "        return 'instance method called', self\n",
    "    @classmethod\n",
    "    def classmethod(cls):\n",
    "        return 'class method called', cls\n",
    "\n",
    "    @staticmethod\n",
    "    def staticmethod():\n",
    "        return 'static method called'"
   ]
  },
  {
   "cell_type": "code",
   "execution_count": 2,
   "id": "9127adbd-ac9d-4c7a-9127-8959fb617606",
   "metadata": {
    "collapsed": false,
    "jupyter": {
     "outputs_hidden": false
    }
   },
   "outputs": [],
   "source": [
    "obj = MyClass()"
   ]
  },
  {
   "cell_type": "code",
   "execution_count": 3,
   "id": "cc25d912-993b-4eff-9962-b25b8a0181fb",
   "metadata": {
    "collapsed": false,
    "jupyter": {
     "outputs_hidden": false
    }
   },
   "outputs": [
    {
     "data": {
      "text/plain": [
       "('instance method called', <__main__.MyClass at 0x105014b80>)"
      ]
     },
     "execution_count": 3,
     "metadata": {},
     "output_type": "execute_result"
    }
   ],
   "source": [
    "obj.method()"
   ]
  },
  {
   "cell_type": "code",
   "execution_count": 4,
   "id": "d5536e0e-075e-4dc4-8c58-7fc7fab2fbbf",
   "metadata": {
    "collapsed": false,
    "jupyter": {
     "outputs_hidden": false
    }
   },
   "outputs": [
    {
     "data": {
      "text/plain": [
       "('instance method called', <__main__.MyClass at 0x105014b80>)"
      ]
     },
     "execution_count": 4,
     "metadata": {},
     "output_type": "execute_result"
    }
   ],
   "source": [
    "MyClass.method(obj)"
   ]
  },
  {
   "cell_type": "code",
   "execution_count": 5,
   "id": "7f100a37-2c5e-4974-8ff3-1d7db51b0df5",
   "metadata": {
    "collapsed": false,
    "jupyter": {
     "outputs_hidden": false
    }
   },
   "outputs": [
    {
     "ename": "NameError",
     "evalue": "name 'abc' is not defined",
     "output_type": "error",
     "traceback": [
      "\u001b[0;31m---------------------------------------------------------------------------\u001b[0m",
      "\u001b[0;31mNameError\u001b[0m                                 Traceback (most recent call last)",
      "Cell \u001b[0;32mIn[5], line 1\u001b[0m\n\u001b[0;32m----> 1\u001b[0m MyClass\u001b[38;5;241m.\u001b[39mmethod(\u001b[43mabc\u001b[49m)\n",
      "\u001b[0;31mNameError\u001b[0m: name 'abc' is not defined"
     ]
    }
   ],
   "source": [
    "MyClass.method(abc)"
   ]
  },
  {
   "cell_type": "code",
   "execution_count": 6,
   "id": "55f8bbee-e5ad-4fe9-9da8-2d3b7471da3e",
   "metadata": {
    "collapsed": false,
    "jupyter": {
     "outputs_hidden": false
    }
   },
   "outputs": [
    {
     "data": {
      "text/plain": [
       "('class method called', __main__.MyClass)"
      ]
     },
     "execution_count": 6,
     "metadata": {},
     "output_type": "execute_result"
    }
   ],
   "source": [
    "obj.classmethod()"
   ]
  },
  {
   "cell_type": "code",
   "execution_count": 7,
   "id": "6f14a244-cba4-4f2c-a786-eb462de85ab8",
   "metadata": {
    "collapsed": false,
    "jupyter": {
     "outputs_hidden": false
    }
   },
   "outputs": [
    {
     "data": {
      "text/plain": [
       "'static method called'"
      ]
     },
     "execution_count": 7,
     "metadata": {},
     "output_type": "execute_result"
    }
   ],
   "source": [
    "obj.staticmethod()"
   ]
  },
  {
   "cell_type": "code",
   "execution_count": 8,
   "id": "3f463121-0216-48ea-90dd-a52ad87b97c9",
   "metadata": {
    "collapsed": false,
    "jupyter": {
     "outputs_hidden": false
    }
   },
   "outputs": [
    {
     "data": {
      "text/plain": [
       "('class method called', __main__.MyClass)"
      ]
     },
     "execution_count": 8,
     "metadata": {},
     "output_type": "execute_result"
    }
   ],
   "source": [
    "MyClass.classmethod()"
   ]
  },
  {
   "cell_type": "code",
   "execution_count": 9,
   "id": "5a22a7c5-4fc8-494f-8a00-57bd3f9ac33b",
   "metadata": {
    "collapsed": false,
    "jupyter": {
     "outputs_hidden": false
    }
   },
   "outputs": [
    {
     "data": {
      "text/plain": [
       "'static method called'"
      ]
     },
     "execution_count": 9,
     "metadata": {},
     "output_type": "execute_result"
    }
   ],
   "source": [
    "MyClass.staticmethod()"
   ]
  },
  {
   "cell_type": "code",
   "execution_count": 10,
   "id": "404b8d41-673b-4715-b63c-b577f5e5e0b7",
   "metadata": {
    "collapsed": false,
    "jupyter": {
     "outputs_hidden": false
    }
   },
   "outputs": [
    {
     "ename": "TypeError",
     "evalue": "method() missing 1 required positional argument: 'self'",
     "output_type": "error",
     "traceback": [
      "\u001b[0;31m---------------------------------------------------------------------------\u001b[0m",
      "\u001b[0;31mTypeError\u001b[0m                                 Traceback (most recent call last)",
      "Cell \u001b[0;32mIn[10], line 1\u001b[0m\n\u001b[0;32m----> 1\u001b[0m \u001b[43mMyClass\u001b[49m\u001b[38;5;241;43m.\u001b[39;49m\u001b[43mmethod\u001b[49m\u001b[43m(\u001b[49m\u001b[43m)\u001b[49m\n",
      "\u001b[0;31mTypeError\u001b[0m: method() missing 1 required positional argument: 'self'"
     ]
    }
   ],
   "source": [
    "MyClass.method()"
   ]
  },
  {
   "cell_type": "code",
   "execution_count": 17,
   "id": "c874f9a3-c2df-4bf7-af4e-558891e5ce0f",
   "metadata": {
    "collapsed": false,
    "jupyter": {
     "outputs_hidden": false
    }
   },
   "outputs": [],
   "source": [
    "class Pizza():\n",
    "    def __init__(self, ingredients):\n",
    "        self.ingredients = ingredients\n",
    "    def __repr__(self):\n",
    "        return f'Pizza({self.ingredients!r})'\n",
    "    @classmethod\n",
    "    def margherita(cls):\n",
    "        return cls(['mozarrella', 'tomatoes'])\n",
    "\n",
    "    @classmethod\n",
    "    def prosciutto(cls):\n",
    "        return cls(['mozzarella', 'tomatoes', 'ham'])\n",
    "\n",
    "    @staticmethod\n",
    "    def price():\n",
    "        return \"price of Pizza\""
   ]
  },
  {
   "cell_type": "code",
   "execution_count": 12,
   "id": "c934ea6e-55d6-44c2-a706-f41e8193ddc4",
   "metadata": {
    "collapsed": false,
    "jupyter": {
     "outputs_hidden": false
    }
   },
   "outputs": [
    {
     "data": {
      "text/plain": [
       "Pizza(['cheese', 'tomatoes'])"
      ]
     },
     "execution_count": 12,
     "metadata": {},
     "output_type": "execute_result"
    }
   ],
   "source": [
    "Pizza(['cheese', 'tomatoes'])"
   ]
  },
  {
   "cell_type": "code",
   "execution_count": 16,
   "id": "0f931b72-0d53-4cc5-98d8-324feca18eb3",
   "metadata": {
    "collapsed": false,
    "jupyter": {
     "outputs_hidden": false
    }
   },
   "outputs": [
    {
     "data": {
      "text/plain": [
       "<bound method Pizza.margherita of <class '__main__.Pizza'>>"
      ]
     },
     "execution_count": 16,
     "metadata": {},
     "output_type": "execute_result"
    }
   ],
   "source": [
    "Pizza.margherita"
   ]
  },
  {
   "cell_type": "code",
   "execution_count": 18,
   "id": "4ceacc67-aa08-45cf-8652-fc454899ca25",
   "metadata": {
    "collapsed": false,
    "jupyter": {
     "outputs_hidden": false
    }
   },
   "outputs": [
    {
     "data": {
      "text/plain": [
       "<function __main__.Pizza.price()>"
      ]
     },
     "execution_count": 18,
     "metadata": {},
     "output_type": "execute_result"
    }
   ],
   "source": [
    "Pizza.price"
   ]
  },
  {
   "cell_type": "code",
   "execution_count": 20,
   "id": "277e8019-f797-4fc8-831b-080e1b1c3ffa",
   "metadata": {
    "collapsed": false,
    "jupyter": {
     "outputs_hidden": false
    }
   },
   "outputs": [
    {
     "data": {
      "text/plain": [
       "Pizza(['mozzarella', 'tomatoes', 'ham'])"
      ]
     },
     "execution_count": 20,
     "metadata": {},
     "output_type": "execute_result"
    }
   ],
   "source": [
    "Pizza.prosciutto()"
   ]
  },
  {
   "cell_type": "code",
   "execution_count": 21,
   "id": "b66b8863-df1c-4117-b5df-982b64c5327e",
   "metadata": {
    "collapsed": false,
    "jupyter": {
     "outputs_hidden": false
    }
   },
   "outputs": [],
   "source": [
    "import math\n",
    "\n",
    "class pizza(object):\n",
    "    def __init__(self, radius, ingredients):\n",
    "        self.radius = radius\n",
    "        self.ingredients = ingredients\n",
    "\n",
    "    def __repr__(self):\n",
    "        return (f'Pizza({self.radius!r}, '\n",
    "                f'{self.ingredients!r})')\n",
    "\n",
    "    def area(self):\n",
    "        return self.circle_area(self.radius)\n",
    "\n",
    "    @staticmethod\n",
    "    def circle_area(r):\n",
    "        return r**2 * math.pi\n",
    "        "
   ]
  },
  {
   "cell_type": "code",
   "execution_count": 23,
   "id": "8680fd6c-59e9-4ef2-8f45-c0be27a3c2bb",
   "metadata": {
    "collapsed": false,
    "jupyter": {
     "outputs_hidden": false
    }
   },
   "outputs": [],
   "source": [
    "P = pizza(4, ['mozarrella', 'tomatoes'])"
   ]
  },
  {
   "cell_type": "code",
   "execution_count": 24,
   "id": "7f00cdb3-02ba-420f-9ab2-7930b1060633",
   "metadata": {
    "collapsed": false,
    "jupyter": {
     "outputs_hidden": false
    }
   },
   "outputs": [
    {
     "data": {
      "text/plain": [
       "Pizza(4, ['mozarrella', 'tomatoes'])"
      ]
     },
     "execution_count": 24,
     "metadata": {},
     "output_type": "execute_result"
    }
   ],
   "source": [
    "P"
   ]
  },
  {
   "cell_type": "code",
   "execution_count": 26,
   "id": "d3bfb59a-1009-4880-9ad8-5331eddc63c3",
   "metadata": {
    "collapsed": false,
    "jupyter": {
     "outputs_hidden": false
    }
   },
   "outputs": [
    {
     "data": {
      "text/plain": [
       "50.26548245743669"
      ]
     },
     "execution_count": 26,
     "metadata": {},
     "output_type": "execute_result"
    }
   ],
   "source": [
    "P.area()"
   ]
  },
  {
   "cell_type": "code",
   "execution_count": 28,
   "id": "5f8c9e6e-c62c-4e87-81db-4ba3a15e369b",
   "metadata": {
    "collapsed": false,
    "jupyter": {
     "outputs_hidden": false
    }
   },
   "outputs": [
    {
     "data": {
      "text/plain": [
       "113.09733552923255"
      ]
     },
     "execution_count": 28,
     "metadata": {},
     "output_type": "execute_result"
    }
   ],
   "source": [
    "P.circle_area(6)"
   ]
  },
  {
   "cell_type": "code",
   "execution_count": 5,
   "id": "abc8266b-b4a4-49e6-80b5-b39e71ff746e",
   "metadata": {
    "collapsed": false,
    "jupyter": {
     "outputs_hidden": false
    }
   },
   "outputs": [],
   "source": [
    "\n",
    "# alternative way of implementing a class\n",
    "class Y(object):\n",
    "    def init():\n",
    "        return {'v0':v0, 'g': 9.81}\n",
    "\n",
    "    def value(self, v0):\n",
    "        return self['v0']* t - 0.5*self['g']*t**2\n",
    "\n",
    "    def formula(self):\n",
    "        print(f\"v0*t - 0.5*g*t**2; {v0}\")\n"
   ]
  },
  {
   "cell_type": "code",
   "execution_count": 7,
   "metadata": {},
   "outputs": [],
   "source": [
    "# closure\n",
    "def generate_y():\n",
    "    v0 = 5\n",
    "    g= 9.81\n",
    "    def y(t):\n",
    "        return v0*t - 0.5*g*t**2 \n",
    "    return y"
   ]
  },
  {
   "cell_type": "code",
   "execution_count": 8,
   "metadata": {},
   "outputs": [],
   "source": [
    " y0 = generate_y()"
   ]
  },
  {
   "cell_type": "code",
   "execution_count": 12,
   "metadata": {},
   "outputs": [
    {
     "data": {
      "text/plain": [
       "1.27375"
      ]
     },
     "execution_count": 12,
     "metadata": {},
     "output_type": "execute_result"
    }
   ],
   "source": [
    " y0(0.5)"
   ]
  },
  {
   "cell_type": "code",
   "execution_count": 13,
   "metadata": {},
   "outputs": [],
   "source": [
    "def generate_y(v0):\n",
    "    g = 9.81\n",
    "    def y(t):\n",
    "        return v0*t - 0.5*g*t**2 \n",
    "    return y"
   ]
  },
  {
   "cell_type": "code",
   "execution_count": 14,
   "metadata": {},
   "outputs": [],
   "source": [
    "yt = generate_y(3)"
   ]
  },
  {
   "cell_type": "code",
   "execution_count": 18,
   "metadata": {},
   "outputs": [
    {
     "data": {
      "text/plain": [
       "-35.145"
      ]
     },
     "execution_count": 18,
     "metadata": {},
     "output_type": "execute_result"
    }
   ],
   "source": [
    "yt(3)"
   ]
  },
  {
   "cell_type": "code",
   "execution_count": 19,
   "metadata": {},
   "outputs": [],
   "source": [
    "def generate():\n",
    "    return [lambda t: (v0, t) for v0 in [0, 1, 5, 10]]"
   ]
  },
  {
   "cell_type": "code",
   "execution_count": 20,
   "metadata": {},
   "outputs": [],
   "source": [
    "funcs = generate()"
   ]
  },
  {
   "cell_type": "code",
   "execution_count": 22,
   "metadata": {},
   "outputs": [
    {
     "name": "stdout",
     "output_type": "stream",
     "text": [
      "(10, 2)\n",
      "(10, 2)\n",
      "(10, 2)\n",
      "(10, 2)\n"
     ]
    }
   ],
   "source": [
    "for func in funcs:\n",
    "    print(func(2))"
   ]
  },
  {
   "cell_type": "code",
   "execution_count": 24,
   "metadata": {},
   "outputs": [],
   "source": [
    "def generate():\n",
    "    return [lambda t, v0=v0: (v0, t) for v0 in [0, 1, 5, 10]]"
   ]
  },
  {
   "cell_type": "code",
   "execution_count": 25,
   "metadata": {},
   "outputs": [],
   "source": [
    "funcs0 = generate()"
   ]
  },
  {
   "cell_type": "code",
   "execution_count": 29,
   "metadata": {},
   "outputs": [
    {
     "name": "stdout",
     "output_type": "stream",
     "text": [
      "(0, 1)\n",
      "(1, 1)\n",
      "(5, 1)\n",
      "(10, 1)\n"
     ]
    }
   ],
   "source": [
    "for func in funcs0:\n",
    "    print(func(1))"
   ]
  },
  {
   "cell_type": "markdown",
   "metadata": {},
   "source": [
    "7.2.1 More examples on Classes"
   ]
  },
  {
   "cell_type": "code",
   "execution_count": 1,
   "metadata": {},
   "outputs": [],
   "source": [
    "class Account(object):\n",
    "    def __init__(self, name, account_number, initial_amount):\n",
    "        self.name = name\n",
    "        self.no = account_number\n",
    "        self.balance = initial_amount\n",
    "\n",
    "    def deposit(self, amount):\n",
    "        self.balance += amount\n",
    "\n",
    "    def withdraw(self, amount):\n",
    "        self.balance -= amount\n",
    "\n",
    "    def dump(self):\n",
    "        print(f\"{self.name}, {self.no} balance: {self.balance}\")"
   ]
  },
  {
   "cell_type": "code",
   "execution_count": 4,
   "metadata": {},
   "outputs": [],
   "source": [
    "# from classes import Account (where did this originate?)\n",
    "\n",
    "a1 = Account('John Olsson', '19371554951', 20000)\n",
    "a2 = Account('Liz Olsson', '19371564761', 20000)"
   ]
  },
  {
   "cell_type": "code",
   "execution_count": 5,
   "metadata": {},
   "outputs": [],
   "source": [
    "a1.deposit(1000)"
   ]
  },
  {
   "cell_type": "code",
   "execution_count": 6,
   "metadata": {},
   "outputs": [],
   "source": [
    "a1.withdraw(4000)\n",
    "a2.withdraw(10500)\n",
    "a1.withdraw(3500)"
   ]
  },
  {
   "cell_type": "code",
   "execution_count": 8,
   "metadata": {},
   "outputs": [
    {
     "name": "stdout",
     "output_type": "stream",
     "text": [
      "13500\n",
      "9500\n"
     ]
    }
   ],
   "source": [
    "print(a1.balance)\n",
    "print(a2.balance)"
   ]
  },
  {
   "cell_type": "code",
   "execution_count": 4,
   "metadata": {},
   "outputs": [],
   "source": [
    "# protecting variables from user modifications. (however, properties is a better way of protecting data attributes from being changed)\n",
    "class AccountP(object):\n",
    "    def __init__(self, name, account_number, initial_amount):\n",
    "        self._name = name\n",
    "        self._no = account_number\n",
    "        self._balance = initial_amount\n",
    "    \n",
    "    def deposit(self, amount):\n",
    "        self._balance += amount\n",
    "\n",
    "    def withdraw(self, amount):\n",
    "        self._balance -= amount\n",
    "\n",
    "    def get_balance(self):\n",
    "        return self._balance\n",
    "    \n",
    "    def dump(self):\n",
    "        print(f\"{self._name}, {self._no}, {self._balance}\")"
   ]
  },
  {
   "cell_type": "code",
   "execution_count": 5,
   "metadata": {},
   "outputs": [
    {
     "name": "stdout",
     "output_type": "stream",
     "text": [
      "John Olsson, 19371554951, 13500\n"
     ]
    }
   ],
   "source": [
    "a0 = AccountP('John Olsson', '19371554951', 20000)\n",
    "a0.deposit(1000)\n",
    "a0.withdraw(4000)\n",
    "a0.withdraw(3500)\n",
    "a0.dump()"
   ]
  },
  {
   "cell_type": "code",
   "execution_count": null,
   "metadata": {},
   "outputs": [],
   "source": [
    "class Person(object):\n",
    "    def __init__(self, name, \n",
    "                 mobile_number=None, office_phone=None, \n",
    "                 private_phone=None, email=None):\n",
    "        self.name = name\n",
    "        self.mobile = mobile_number\n",
    "        self.office = office_phone\n",
    "        self.private = private_phone\n",
    "        self.email = email\n",
    "\n",
    "\n",
    "    def add_mobile_phone(self, number):\n",
    "        self.mobile = number\n",
    "\n",
    "    def add_office_phone(self, number):\n",
    "        self.office = number\n",
    "\n",
    "    def add_private_phone(self, number):\n",
    "        self.private = number\n",
    "\n",
    "    def add_email(self, address):\n",
    "        self.email = address\n",
    "\n",
    "    def dump(self):\n",
    "        print('print phone book')\n",
    "\n",
    "                \n"
   ]
  },
  {
   "cell_type": "code",
   "execution_count": 7,
   "metadata": {},
   "outputs": [],
   "source": [
    "from math import pi\n",
    "\n",
    "class Circle(object):\n",
    "    def __init__(self, r, x0, y0):\n",
    "        self.r = r\n",
    "        self.x0 = x0\n",
    "        self.y0 = y0\n",
    "\n",
    "    def area(self):\n",
    "        return pi*self.r**2\n",
    "    \n",
    "\n",
    "    def circumfrence(self):\n",
    "        return 2*pi*self.r**2\n",
    "\n",
    "\n",
    "    def test_Circle():\n",
    "        R = 2.5\n",
    "        c = Circle(x0=7.4, y0=-8, r=R)\n",
    "\n",
    "        expected_area  = pi*R**2\n",
    "        computed_area = c.area()\n",
    "        diff = abs(expected_area - computed_area)\n",
    "        tol = 1E-14\n",
    "        assert diff < tol,  f\"bug in Circle.area, {diff}\"\n",
    "\n",
    "        expected_circumference = 2*pi*R\n",
    "        computed_circumference = c.circumfrence()\n",
    "        diff = abs(expected_circumference - computed_circumference)\n",
    "        assert diff < tol,  f\"bug in Circle.circumference, {diff}\" \n"
   ]
  },
  {
   "cell_type": "markdown",
   "metadata": {},
   "source": [
    " ## 7.3.1 Special Methods"
   ]
  },
  {
   "cell_type": "code",
   "execution_count": 18,
   "metadata": {},
   "outputs": [],
   "source": [
    "class Y0(object):\n",
    "    def __init__(self, v0):\n",
    "        self.v0, self.g = v0, 9.81\n",
    "\n",
    "    def formula(self):\n",
    "        print(f\"v0*t - 0.5*g*t**2; {v0}\")\n",
    "\n",
    "    def __call__(self, t):\n",
    "        return self.v0*t - 0.5* self.g*t**2\n",
    "\n"
   ]
  },
  {
   "cell_type": "code",
   "execution_count": 23,
   "metadata": {},
   "outputs": [],
   "source": [
    "def diff(f, x, h=1E-5):\n",
    "    return (f(x+h) - f(x))/h"
   ]
  },
  {
   "cell_type": "code",
   "execution_count": 24,
   "metadata": {},
   "outputs": [],
   "source": [
    "import numpy as np\n",
    "y=Y0(0.5)\n",
    "dydt = diff(y, 0.1)"
   ]
  },
  {
   "cell_type": "markdown",
   "id": "de06b6f5",
   "metadata": {},
   "source": [
    " 7.3.2 Example: Automagic Differentiation"
   ]
  },
  {
   "cell_type": "code",
   "execution_count": 30,
   "metadata": {},
   "outputs": [
    {
     "data": {
      "text/plain": [
       "12.000060000261213"
      ]
     },
     "execution_count": 30,
     "metadata": {},
     "output_type": "execute_result"
    }
   ],
   "source": [
    "def f(x):\n",
    "    return x**3\n",
    "\n",
    "\n",
    "dfdx = Derivative(f)\n",
    "x = 2\n",
    "dfdx(x)"
   ]
  },
  {
   "cell_type": "code",
   "execution_count": 2,
   "metadata": {},
   "outputs": [],
   "source": [
    "class Derivative(object):\n",
    "    def __init__(self, f, h=1E-5):\n",
    "        self.f = f\n",
    "        self.h = float(h)\n",
    "    \n",
    "    def __call__(self, x):\n",
    "        f, h = self.f, self.h\n",
    "        return (f(x+h) - f(x))/h"
   ]
  },
  {
   "cell_type": "code",
   "execution_count": 3,
   "id": "dc2fa317",
   "metadata": {},
   "outputs": [
    {
     "data": {
      "text/plain": [
       "-0.9999999999898844"
      ]
     },
     "execution_count": 3,
     "metadata": {},
     "output_type": "execute_result"
    }
   ],
   "source": [
    "from math import sin, cos, pi\n",
    "df = Derivative(sin)\n",
    "x = pi\n",
    "df(x)"
   ]
  },
  {
   "cell_type": "code",
   "execution_count": 4,
   "id": "48eca920",
   "metadata": {},
   "outputs": [
    {
     "data": {
      "text/plain": [
       "-1.0"
      ]
     },
     "execution_count": 4,
     "metadata": {},
     "output_type": "execute_result"
    }
   ],
   "source": [
    "cos(x)"
   ]
  },
  {
   "cell_type": "code",
   "execution_count": 8,
   "id": "bc700a39",
   "metadata": {},
   "outputs": [
    {
     "data": {
      "text/plain": [
       "3.000030000110953"
      ]
     },
     "execution_count": 8,
     "metadata": {},
     "output_type": "execute_result"
    }
   ],
   "source": [
    "def g(t):\n",
    "    return t**3\n",
    "\n",
    "dg = Derivative(g)\n",
    "dg(1)"
   ]
  },
  {
   "cell_type": "code",
   "execution_count": 32,
   "metadata": {},
   "outputs": [],
   "source": [
    "def test_Derivative():\n",
    "    # The formula is exact for linear functions, regardless of h\n",
    "    f = lambda x: a*x + b\n",
    "    a = 3.5; b= 8\n",
    "    dfdx = Derivative(f, h=0.5)\n",
    "    diff = abs(dfdx(4.5) - a)\n",
    "    assert diff < 1E-14, f\"bug in class Derivative, {diff}\""
   ]
  },
  {
   "cell_type": "code",
   "execution_count": 33,
   "metadata": {},
   "outputs": [],
   "source": [
    "test_Derivative()"
   ]
  },
  {
   "cell_type": "code",
   "execution_count": 9,
   "id": "20439285",
   "metadata": {},
   "outputs": [],
   "source": [
    "# using Sympy \n",
    "\n",
    "class Derivative_sympy(object):\n",
    "    def __init__(self, f):\n",
    "        from sympy import Symbol, diff, lambdify\n",
    "        x = Symbol('x')\n",
    "        sympy_f = f(x)\n",
    "        sympy_dfdx = diff(sympy_f, x)\n",
    "        self.__call__ = lambdify([x], sympy_dfdx)\n",
    "    \n",
    "    def test_Derivative_sympy():\n",
    "        def g(t):\n",
    "            return t**3 \n",
    "        \n",
    "        dg = Derivative_sympy(g)\n",
    "        t = 2 \n",
    "        exact = 3*t**2\n",
    "        computed = dg(t)\n",
    "        tol = 1E-14\n",
    "        assert abs(exact - computed) < tol\n",
    "\n",
    "        def h(y):\n",
    "            return exp(-y)*sin(2*y)\n",
    "        \n",
    "        from sympy import exp, sin\n",
    "        dh = Derivative_sympy(h)\n",
    "        from math import pi, exp, sin, cos\n",
    "        y = pi \n",
    "        exact = -exp(-y)*sin(2*y) + exp(-y)*2*cos(2*y)\n",
    "        computed = dh(y)\n",
    "        assert abs(exact - computed) < tol\n",
    "        "
   ]
  },
  {
   "cell_type": "markdown",
   "id": "4a6af6b0",
   "metadata": {},
   "source": [
    "7.3.3 Example: Automagic Integration\n"
   ]
  },
  {
   "cell_type": "code",
   "execution_count": null,
   "id": "0d908b68",
   "metadata": {},
   "outputs": [],
   "source": [
    "def f(x):\n",
    "    return exp(-x**2) * sin(10*x)\n",
    "\n",
    "a = 10; n=200\n",
    "\n",
    "F= Integral(f, a, n)\n",
    "print(F(x))"
   ]
  },
  {
   "cell_type": "code",
   "execution_count": 10,
   "id": "0ba3010f",
   "metadata": {},
   "outputs": [],
   "source": [
    "def trapezoidal(f, a, x, n):\n",
    "    h = (x-a)/float(n)\n",
    "    I = 0.5*f(a)\n",
    "    for i in range(1, n):\n",
    "        I += f(a + i*h)\n",
    "    I += 0.5*f(x)\n",
    "    I *= h\n",
    "    return I"
   ]
  },
  {
   "cell_type": "code",
   "execution_count": 11,
   "id": "b6325e06",
   "metadata": {},
   "outputs": [],
   "source": [
    "class Integral(object):\n",
    "    def __init__(self, f, a, n=100):\n",
    "        self.f, self.a, self.n = f, a, n\n",
    "    \n",
    "\n",
    "    def __call__(self, x):\n",
    "        return trapezoidal(self.f, self.a, x, self.n)\n",
    "    "
   ]
  },
  {
   "cell_type": "code",
   "execution_count": 12,
   "id": "33b3d952",
   "metadata": {},
   "outputs": [],
   "source": [
    " from math import sin, pi\n",
    "\n",
    "G = Integral(sin, 0, 200)\n",
    "value = G(2*pi)"
   ]
  },
  {
   "cell_type": "code",
   "execution_count": 13,
   "id": "10e24967",
   "metadata": {},
   "outputs": [],
   "source": [
    "value = trapezoidal(sin, 0, 2*pi, 200)"
   ]
  },
  {
   "cell_type": "code",
   "execution_count": 14,
   "id": "e6e4337c",
   "metadata": {},
   "outputs": [
    {
     "data": {
      "text/latex": [
       "$\\displaystyle 5 x + \\cos{\\left(x \\right)}$"
      ],
      "text/plain": [
       "5*x + cos(x)"
      ]
     },
     "execution_count": 14,
     "metadata": {},
     "output_type": "execute_result"
    }
   ],
   "source": [
    "import sympy as sp\n",
    "x = sp.Symbol('x')\n",
    "f_expr= sp.cos(x) + 5*x\n",
    "f_expr"
   ]
  },
  {
   "cell_type": "code",
   "execution_count": 17,
   "id": "1ac6dc79",
   "metadata": {},
   "outputs": [
    {
     "data": {
      "text/latex": [
       "$\\displaystyle \\frac{5 x^{2}}{2} + \\sin{\\left(x \\right)}$"
      ],
      "text/plain": [
       "5*x**2/2 + sin(x)"
      ]
     },
     "execution_count": 17,
     "metadata": {},
     "output_type": "execute_result"
    }
   ],
   "source": [
    "F_expr = sp.integrate(f_expr, x)\n",
    "F_expr"
   ]
  },
  {
   "cell_type": "code",
   "execution_count": 18,
   "id": "17325ede",
   "metadata": {},
   "outputs": [
    {
     "data": {
      "text/plain": [
       "0.0"
      ]
     },
     "execution_count": 18,
     "metadata": {},
     "output_type": "execute_result"
    }
   ],
   "source": [
    "F = sp.lambdify([x], F_expr)\n",
    "F(0)"
   ]
  },
  {
   "cell_type": "code",
   "execution_count": 19,
   "id": "64aa1245",
   "metadata": {},
   "outputs": [
    {
     "data": {
      "text/plain": [
       "3.3414709848078967"
      ]
     },
     "execution_count": 19,
     "metadata": {},
     "output_type": "execute_result"
    }
   ],
   "source": [
    "F(1)"
   ]
  },
  {
   "cell_type": "code",
   "execution_count": null,
   "id": "18813140",
   "metadata": {},
   "outputs": [],
   "source": []
  },
  {
   "cell_type": "code",
   "execution_count": 23,
   "id": "058e8e62",
   "metadata": {},
   "outputs": [],
   "source": [
    "def test_Integral():\n",
    "    # The trapezoidal rule is exact for linear functions\n",
    "    import sympy as sp\n",
    "    x = sp.Symbol('x')\n",
    "    f_expr = 2*x + 5 \n",
    "    # turn sympy expression into plain Python function f(x)\n",
    "    f = sp.lambdify([x], f_expr)\n",
    "\n",
    "    F_expr = sp.integrate(f_expr, x)\n",
    "    F = sp.lambdify([x], F_expr)\n",
    "\n",
    "    a=2\n",
    "    x=6\n",
    "    exact = F(x) - F(a)\n",
    "    computed = Integral(f, a, n=4)\n",
    "    diff = abs(exact - computed)\n",
    "    tol = 1E-15\n",
    "    assert diff < tol, 'bug in class Integral, diff=%s' % diff"
   ]
  },
  {
   "cell_type": "code",
   "execution_count": 24,
   "id": "34af00d1",
   "metadata": {},
   "outputs": [],
   "source": [
    "class y(object):\n",
    "    def __init_(self, v0):\n",
    "        self.v0 = v0\n",
    "        self.g = 9.81\n",
    "\n",
    "    def __call__(self, t):\n",
    "        return self.v0*t - 0.5*self.g*t**2 \n",
    "    \n",
    "\n",
    "    def __str__(self):\n",
    "        return 'v0*t - 0.5*g*t**2; v0=%g ' % self.v0"
   ]
  },
  {
   "cell_type": "markdown",
   "id": "aa935239",
   "metadata": {},
   "source": [
    "7.3.5 Example: Phone Book with Special Methods"
   ]
  },
  {
   "cell_type": "code",
   "execution_count": 26,
   "id": "97be7f4c",
   "metadata": {},
   "outputs": [],
   "source": [
    "class PhoneBook(object):\n",
    "    def __init__(self):\n",
    "      self.contacts = {}\n",
    "    \n",
    "    def add(self, name, moblie=None, office=None, private=None,\n",
    "            email=None):\n",
    "      p = Person(name, moble, office, private, email)\n",
    "      self.contacts[name] = p\n",
    "\n",
    "    def __str__(self):\n",
    "      s = \"\"\n",
    "      for p in sorted(self.contacst):\n",
    "        s+= str(self.contacts[p]) + \"\\n\"\n",
    "      return s \n",
    "\n",
    "    def __call_(self, name):\n",
    "      return self.contacts[name]\n",
    "    "
   ]
  },
  {
   "cell_type": "code",
   "execution_count": null,
   "id": "4beb823a",
   "metadata": {},
   "outputs": [],
   "source": []
  },
  {
   "cell_type": "markdown",
   "id": "9a8db22a",
   "metadata": {},
   "source": [
    "7.3.6 Adding Objects: Example Polynomials"
   ]
  },
  {
   "cell_type": "code",
   "execution_count": 31,
   "id": "f5336396",
   "metadata": {},
   "outputs": [],
   "source": [
    "class Polynomial(object):\n",
    "    def __init__(self, coefficients):\n",
    "\n",
    "        self.coeff = coefficients \n",
    "    \n",
    "    def __call__(self, x):\n",
    "        \"\"\"Evaluate the polynomial\"\"\"\n",
    "        s = 0\n",
    "        for i in range(len(self.coeff)):\n",
    "            s += self.coeff[i]*x**i\n",
    "        return s\n",
    "    \n",
    "    def __add__(self, other):\n",
    "        \"\"\"Return self + other as Polynomial Object\"\"\"\n",
    "        # Two cases:\n",
    "        # \n",
    "        # self: XXXXXXXXX\n",
    "        # other: XXX\n",
    "        #\n",
    "        # or:\n",
    "        #\n",
    "        # self: XXXXXX\n",
    "        # other: XXXXXXXXX\n",
    "\n",
    "        # STart with the longest list and add in the other \n",
    "        if len(self.coeff) > len(other.coeff):\n",
    "            result_coeff = self.coeff[:]\n",
    "            for i in range(len(other.coeff)):\n",
    "                result_coeff[i] += other.coeff[i]\n",
    "        else:\n",
    "            result_coeff = self.coeff[:]\n",
    "            for i in range(len(self.coeff)):\n",
    "                result_coeff[i] += self.coeff[i]\n",
    "        return Polynomial(result_coeff)\n",
    "    \n",
    "\n",
    "    def __mul__(self, other):\n",
    "        c = self.coeff\n",
    "        d = other.coeff\n",
    "        M = len(c) - 1\n",
    "        N = len(d) - 1\n",
    "        result_coeff = numpy.zeros(M+N+1)\n",
    "        for i in range(0, M+1):\n",
    "            for j in range(0, N+1):\n",
    "                result_coeff[i+j] +=c[i]*d[j]\n",
    "        return Polynomial(result_coeff)\n",
    "\n",
    "    def differentiate(self):\n",
    "        \"\"\"Differentiate this polynomial in-place\"\"\"\n",
    "        for i in range(1, len(self.coeff)):\n",
    "            self.coeff[i-1] = i*self.coeff[i]\n",
    "        del self.coeff[-1]\n",
    "\n",
    "    def derivative(self):\n",
    "        \"\"\"Copy this polynomial and return its derivative.\"\"\"\n",
    "        dpdx = Polynomial(self.coeff[:])\n",
    "        dpdx.differentiate()\n",
    "        return dpdx\n",
    "    \n",
    "\n",
    "    def __str__(self):\n",
    "        s=''\n",
    "        for i in range(len(self.coeff)):\n",
    "            s += ' + %g*x^%d' % (self.coeff[i], i)\n",
    "        return s\n",
    "    "
   ]
  },
  {
   "cell_type": "markdown",
   "id": "775bc009",
   "metadata": {},
   "source": [
    "7.3.8 Arithmetic Operations and Other Special Methods"
   ]
  },
  {
   "cell_type": "markdown",
   "id": "e43b454f",
   "metadata": {},
   "source": []
  },
  {
   "cell_type": "markdown",
   "id": "6e7a4dcf",
   "metadata": {},
   "source": [
    "7.4.2 Implementation\n"
   ]
  },
  {
   "cell_type": "code",
   "execution_count": 2,
   "id": "1ca70966",
   "metadata": {},
   "outputs": [],
   "source": [
    "import numpy as np \n",
    "\n",
    "class Vec2D(object):\n",
    "    def __init__(self, x, y):\n",
    "        self.x = x, self.y = y\n",
    "\n",
    "    def __add__(self, other):\n",
    "        return Vect2D(self.x + other.x, self.y + other.y)\n",
    "    \n",
    "    def __sub__(self, other):\n",
    "        return Vec2D(self.x - other.x, self.y - other.y)\n",
    "    \n",
    "    def __mul__(self, other):\n",
    "        return self.x * other.x +  self.y*other.y\n",
    "    \n",
    "    def __abs__(self, other):\n",
    "        return math.sqrt(self.x**2, self.y**2)\n",
    "\n",
    "    def __eq__(self, other):\n",
    "        return self.x == other.x and self.y == other.y\n",
    "    \n",
    "    def __ep__(self, other):\n",
    "        return np.allclose(self.x, other.x) and \\\n",
    "               np.allclose(self.y, other.y)\n",
    "\n",
    "    def __str__(self):\n",
    "        return \"(%g, %g)\" % (self.x, self.y)\n",
    "    \n",
    "    def __ne__(self, other):\n",
    "        return not self.__eq__(other) # reuse equal\n",
    "    \n",
    "    def __len__(self):\n",
    "        \"\"\"return number of components of each vector\"\"\"\n",
    "        return 2 "
   ]
  },
  {
   "cell_type": "code",
   "execution_count": null,
   "id": "4a61f34d",
   "metadata": {},
   "outputs": [],
   "source": []
  },
  {
   "cell_type": "code",
   "execution_count": null,
   "id": "b9d0a017",
   "metadata": {},
   "outputs": [],
   "source": []
  },
  {
   "cell_type": "code",
   "execution_count": null,
   "id": "2ddf6c65",
   "metadata": {},
   "outputs": [],
   "source": []
  },
  {
   "cell_type": "markdown",
   "id": "77c3446d",
   "metadata": {},
   "source": [
    "7.5.4 Dynamic, static, strong, Weak and Duck Typing"
   ]
  },
  {
   "cell_type": "markdown",
   "id": "51f36608",
   "metadata": {},
   "source": [
    "done!"
   ]
  },
  {
   "cell_type": "markdown",
   "id": "2f976728",
   "metadata": {},
   "source": []
  },
  {
   "cell_type": "markdown",
   "id": "5a8fb010",
   "metadata": {},
   "source": [
    "7.5.6 Inspecting Instances"
   ]
  },
  {
   "cell_type": "code",
   "execution_count": 40,
   "id": "be401e67",
   "metadata": {},
   "outputs": [],
   "source": [
    "class A(object):\n",
    "    \"\"\"A class for demo purposes\"\"\"\n",
    "    def __init__(self, value):\n",
    "        self.v = value\n",
    "\n",
    "    def dump(self):\n",
    "        print(self.__dict__)"
   ]
  },
  {
   "cell_type": "code",
   "execution_count": 41,
   "id": "e6f34c36",
   "metadata": {},
   "outputs": [
    {
     "name": "stdout",
     "output_type": "stream",
     "text": [
      "{'v': [1, 2]}\n"
     ]
    }
   ],
   "source": [
    "a = A([1, 2])\n",
    "a.dump()"
   ]
  },
  {
   "cell_type": "code",
   "execution_count": 43,
   "id": "62e0cc21",
   "metadata": {},
   "outputs": [
    {
     "data": {
      "text/plain": [
       "'A class for demo purposes'"
      ]
     },
     "execution_count": 43,
     "metadata": {},
     "output_type": "execute_result"
    }
   ],
   "source": [
    "a.__doc__"
   ]
  },
  {
   "cell_type": "code",
   "execution_count": 44,
   "id": "85835b4e",
   "metadata": {},
   "outputs": [],
   "source": [
    "a.myvar = 10"
   ]
  },
  {
   "cell_type": "code",
   "execution_count": 45,
   "id": "88e5d1cf",
   "metadata": {},
   "outputs": [
    {
     "name": "stdout",
     "output_type": "stream",
     "text": [
      "{'v': [1, 2], 'myvar': 10}\n"
     ]
    }
   ],
   "source": [
    "a.dump()"
   ]
  },
  {
   "cell_type": "code",
   "execution_count": null,
   "id": "ad7bf4c3",
   "metadata": {},
   "outputs": [],
   "source": []
  },
  {
   "cell_type": "code",
   "execution_count": null,
   "id": "8a9a3010",
   "metadata": {},
   "outputs": [],
   "source": []
  },
  {
   "cell_type": "markdown",
   "id": "b3b6bb75",
   "metadata": {},
   "source": [
    "7.6 Static Method and Attributes \n"
   ]
  },
  {
   "cell_type": "markdown",
   "id": "654dfb7a",
   "metadata": {},
   "source": []
  },
  {
   "cell_type": "code",
   "execution_count": 33,
   "id": "18521214",
   "metadata": {},
   "outputs": [],
   "source": [
    "class SpacePoint(object):\n",
    "    counter=0 # static attribute\n",
    "    def __init__(self, x, y, z):\n",
    "        self.p = (x, y, z)\n",
    "        SpacePoint.counter +=1\n"
   ]
  },
  {
   "cell_type": "code",
   "execution_count": 34,
   "id": "3ce18f87",
   "metadata": {},
   "outputs": [
    {
     "data": {
      "text/plain": [
       "1"
      ]
     },
     "execution_count": 34,
     "metadata": {},
     "output_type": "execute_result"
    }
   ],
   "source": [
    "p1 = SpacePoint(0, 0, 0)\n",
    "SpacePoint.counter"
   ]
  },
  {
   "cell_type": "code",
   "execution_count": 35,
   "id": "3f891801",
   "metadata": {},
   "outputs": [
    {
     "data": {
      "text/plain": [
       "401"
      ]
     },
     "execution_count": 35,
     "metadata": {},
     "output_type": "execute_result"
    }
   ],
   "source": [
    "for i in range(400):\n",
    "    p = SpacePoint(i*0.5, i , i+1)\n",
    "\n",
    "SpacePoint.counter"
   ]
  },
  {
   "cell_type": "code",
   "execution_count": 36,
   "id": "ed76ce6f",
   "metadata": {},
   "outputs": [],
   "source": [
    "class A(object):\n",
    "    @staticmethod\n",
    "    def write(message):\n",
    "        print(message)\n",
    "\n"
   ]
  },
  {
   "cell_type": "code",
   "execution_count": 39,
   "id": "17a7ca13",
   "metadata": {},
   "outputs": [
    {
     "name": "stdout",
     "output_type": "stream",
     "text": [
      "Happy New Yeari!\n"
     ]
    }
   ],
   "source": [
    "A.write('Happy New Yeari!')"
   ]
  },
  {
   "cell_type": "markdown",
   "id": "bf6d1c34",
   "metadata": {},
   "source": [
    "* Singleton Class "
   ]
  },
  {
   "cell_type": "code",
   "execution_count": 3,
   "id": "24714b74",
   "metadata": {},
   "outputs": [],
   "source": [
    "class Singleton(object):\n",
    "    def __new__(cls):\n",
    "        if not hasattr(cls, 'instance'):\n",
    "            cls.instance = super(Singleton, cls).__new__(cls)\n",
    "        return cls.instance"
   ]
  },
  {
   "cell_type": "code",
   "execution_count": 4,
   "id": "48000f45",
   "metadata": {},
   "outputs": [],
   "source": [
    "s0= Singleton()"
   ]
  },
  {
   "cell_type": "code",
   "execution_count": 5,
   "id": "130d672d",
   "metadata": {},
   "outputs": [
    {
     "name": "stdout",
     "output_type": "stream",
     "text": [
      "object created  <__main__.Singleton object at 0x107ed4820>\n"
     ]
    }
   ],
   "source": [
    "print(\"object created \", s0)"
   ]
  },
  {
   "cell_type": "code",
   "execution_count": 8,
   "id": "b9788bf6",
   "metadata": {},
   "outputs": [],
   "source": [
    "s1 = Singleton()"
   ]
  },
  {
   "cell_type": "code",
   "execution_count": 12,
   "id": "02b08119",
   "metadata": {},
   "outputs": [
    {
     "name": "stdout",
     "output_type": "stream",
     "text": [
      "Object created <__main__.Singleton object at 0x107ed4820>\n"
     ]
    }
   ],
   "source": [
    "print(\"Object created {}\".format(s1))"
   ]
  },
  {
   "cell_type": "markdown",
   "id": "8fdc1a25",
   "metadata": {},
   "source": [
    "* lazy instantiation in the singleton pattern"
   ]
  },
  {
   "cell_type": "code",
   "execution_count": 17,
   "id": "a6620367",
   "metadata": {},
   "outputs": [],
   "source": [
    "class Singleton0(object):\n",
    "    __instance = None\n",
    "    def __init__(self):\n",
    "        if not Singleton0.__instance:\n",
    "            print(\"__init__ method called...\")\n",
    "        else:\n",
    "            print(\"Instance already created:\", self.getInstance())\n",
    "    @classmethod\n",
    "    def getInstance(cls):\n",
    "        if not cls.__instance:\n",
    "            cls.__instance = Singleton0()\n",
    "        return cls.__instance"
   ]
  },
  {
   "cell_type": "code",
   "execution_count": 18,
   "id": "28e207c5",
   "metadata": {},
   "outputs": [
    {
     "name": "stdout",
     "output_type": "stream",
     "text": [
      "__init__ method called...\n",
      "Object with s00<__main__.Singleton object at 0x107ed4820>\n",
      "__init__ method called...\n",
      "Object with s01 <__main__.Singleton object at 0x107ed4820>\n"
     ]
    }
   ],
   "source": [
    "s00 = Singleton0()\n",
    "print(\"Object with s00{}\".format(s0))\n",
    "\n",
    "s01 = Singleton0()\n",
    "print(\"Object with s01 {}\".format(s1))"
   ]
  },
  {
   "cell_type": "markdown",
   "id": "c4d37015",
   "metadata": {},
   "source": [
    "* Monostate Singleton pattern"
   ]
  },
  {
   "cell_type": "markdown",
   "id": "cb42e1d5",
   "metadata": {},
   "source": []
  }
 ],
 "metadata": {
  "kernelspec": {
   "display_name": "Python 3 (ipykernel)",
   "language": "python",
   "name": "python3"
  },
  "language_info": {
   "codemirror_mode": {
    "name": "ipython",
    "version": 3
   },
   "file_extension": ".py",
   "mimetype": "text/x-python",
   "name": "python",
   "nbconvert_exporter": "python",
   "pygments_lexer": "ipython3",
   "version": "3.9.16"
  },
  "name": "class_gym.ipynb"
 },
 "nbformat": 4,
 "nbformat_minor": 5
}
