{
 "cells": [
  {
   "cell_type": "code",
   "execution_count": null,
   "metadata": {},
   "outputs": [],
   "source": [
    "class datasetLOADER(object):\n",
    "    def __init__(self, label, locator, params):\n",
    "        self.label = label\n",
    "        self.locator = locator\n",
    "        self.params = params\n",
    "    \n",
    "    def __reshape__(self):\n",
    "        raise 'not implemened'\n",
    "\n",
    "    def __pre_proc__(self):\n",
    "        \"\"\"return the data in the specified format for processing\"\"\"\n",
    "        raise \"not implemented\"\n",
    "\n",
    "    def __getitem__(self, index):\n",
    "        raise \"not implemented\"\n",
    "    \n",
    "    def __dim__(self):\n",
    "        return self.shape\n",
    "    \n",
    "    def __load_specific_dims__(self, dims=[]):\n",
    "        raise \"Not implemented\"\n",
    "\n",
    "    \n",
    "        "
   ]
  }
 ],
 "metadata": {
  "language_info": {
   "name": "python"
  }
 },
 "nbformat": 4,
 "nbformat_minor": 2
}
