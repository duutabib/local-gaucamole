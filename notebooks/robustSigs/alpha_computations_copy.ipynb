{
 "cells": [
  {
   "cell_type": "code",
   "execution_count": 1,
   "id": "a92ecd27-f296-43ba-a890-ae6da58e89c9",
   "metadata": {
    "collapsed": false,
    "jupyter": {
     "outputs_hidden": false
    }
   },
   "outputs": [
    {
     "name": "stdout",
     "output_type": "stream",
     "text": [
      "%pylab is deprecated, use %matplotlib inline and import the required libraries.\n",
      "Populating the interactive namespace from numpy and matplotlib\n"
     ]
    }
   ],
   "source": [
    "%pylab inline\n",
    "plt.style.use(\"default\")\n",
    "\n",
    "import os \n",
    "import sys\n",
    "import helpers as h\n",
    "import utils as u\n",
    "from glob import glob\n",
    "\n",
    "from scipy.io import loadmat\n",
    "from scipy.stats import skew, kurtosis\n",
    "\n",
    "plt.rcParams['figure.figsize'] = (15, 10) "
   ]
  },
  {
   "cell_type": "code",
   "execution_count": 2,
   "id": "ae406bab-e852-4bc1-af4d-e96ba5151810",
   "metadata": {
    "collapsed": false,
    "jupyter": {
     "outputs_hidden": false
    }
   },
   "outputs": [],
   "source": [
    "data_root = \"/Users/duuta/ppp/data/stringer/live_data/\"\n",
    "data_files = [fname.split(\"/\")[-1] for fname in glob(f\"{data_root}natimg2800_M*.mat\")]\n",
    "\n"
   ]
  },
  {
   "cell_type": "code",
   "execution_count": 26,
   "id": "0f65b544-9eba-4bc6-8735-bdca9fed249b",
   "metadata": {
    "collapsed": false,
    "jupyter": {
     "outputs_hidden": false
    }
   },
   "outputs": [],
   "source": [
    "def clean_unpack(data0):\n",
    "    \"\"\"returns clean and zscored signal\"\"\"\n",
    "    resp0, spon0, istim0 = h.unbox(data0)\n",
    "\n",
    "    resp0 = h.denoise_resp(resp0, spon0)\n",
    "\n",
    "    resp0 = h.dupSignal(resp0, istim0)\n",
    "\n",
    "    return resp0, istim0\n"
   ]
  },
  {
   "cell_type": "code",
   "execution_count": 24,
   "id": "573e997c-5e8a-46a6-a597-7a888ae14ce5",
   "metadata": {},
   "outputs": [],
   "source": [
    "_, _, istim = h.unbox(data)"
   ]
  },
  {
   "cell_type": "code",
   "execution_count": 40,
   "id": "3c656d25",
   "metadata": {},
   "outputs": [
    {
     "data": {
      "text/plain": [
       "array([1155, 3955])"
      ]
     },
     "execution_count": 40,
     "metadata": {},
     "output_type": "execute_result"
    }
   ],
   "source": [
    "(istim == 0).nonzero()[0]"
   ]
  },
  {
   "cell_type": "code",
   "execution_count": null,
   "id": "20f21e18",
   "metadata": {},
   "outputs": [],
   "source": [
    "data = loadmat( os.path.join(data_root, data_files[0]), simplify_cells=True)"
   ]
  },
  {
   "cell_type": "code",
   "execution_count": 27,
   "id": "c179c179-0968-400f-b123-9609fefed065",
   "metadata": {
    "collapsed": false,
    "jupyter": {
     "outputs_hidden": false
    }
   },
   "outputs": [],
   "source": [
    "resp, istim0= clean_unpack(data)\n"
   ]
  },
  {
   "cell_type": "code",
   "execution_count": 34,
   "id": "2710c113",
   "metadata": {},
   "outputs": [
    {
     "data": {
      "text/plain": [
       "1"
      ]
     },
     "execution_count": 34,
     "metadata": {},
     "output_type": "execute_result"
    }
   ],
   "source": [
    "np.nonzero(istim0 == 250)"
   ]
  },
  {
   "cell_type": "code",
   "execution_count": 35,
   "id": "348d57e9",
   "metadata": {},
   "outputs": [
    {
     "data": {
      "text/plain": [
       "(2, 2800, 10103)"
      ]
     },
     "execution_count": 35,
     "metadata": {},
     "output_type": "execute_result"
    }
   ],
   "source": [
    "resp.shape"
   ]
  },
  {
   "cell_type": "code",
   "execution_count": 39,
   "id": "b21c475e",
   "metadata": {},
   "outputs": [
    {
     "data": {
      "text/plain": [
       "(5880, 10103)"
      ]
     },
     "execution_count": 39,
     "metadata": {},
     "output_type": "execute_result"
    }
   ],
   "source": [
    "data['stim']['resp'].shape"
   ]
  },
  {
   "cell_type": "markdown",
   "id": "ae0e249d",
   "metadata": {},
   "source": [
    "* need to figure out dupSignal function, seems repeats responses are sought and averaged\n",
    "* need to figure out what happens... NB: in stringer experiment repeat stimulus in alexnet, there are no repeats. \n",
    "* these are important to create a 2* N * M stimulus and then compute cvPCA.\n",
    "* I could pretend this is spontaneous activity and split the signal then procced"
   ]
  },
  {
   "cell_type": "markdown",
   "id": "449d1fc8",
   "metadata": {},
   "source": [
    "# assuming the responses are spontaneous ( in the sense that there are no repeats)\n"
   ]
  },
  {
   "cell_type": "markdown",
   "id": "d8ec0d88",
   "metadata": {},
   "source": []
  },
  {
   "cell_type": "markdown",
   "id": "3f9126d0",
   "metadata": {},
   "source": [
    " as"
   ]
  },
  {
   "cell_type": "code",
   "execution_count": null,
   "id": "55af204c",
   "metadata": {},
   "outputs": [],
   "source": []
  },
  {
   "cell_type": "code",
   "execution_count": null,
   "id": "80890d90",
   "metadata": {},
   "outputs": [],
   "source": []
  },
  {
   "cell_type": "code",
   "execution_count": null,
   "id": "558420df",
   "metadata": {},
   "outputs": [],
   "source": []
  },
  {
   "cell_type": "code",
   "execution_count": null,
   "id": "91b99daf",
   "metadata": {},
   "outputs": [],
   "source": []
  },
  {
   "cell_type": "code",
   "execution_count": null,
   "id": "af1b1197",
   "metadata": {},
   "outputs": [],
   "source": []
  },
  {
   "cell_type": "code",
   "execution_count": 5,
   "id": "e99db8c1-fa88-4204-9baa-c23d0e958774",
   "metadata": {
    "collapsed": false,
    "jupyter": {
     "outputs_hidden": false
    }
   },
   "outputs": [],
   "source": [
    "x, y, z = data['med'].T\n"
   ]
  },
  {
   "cell_type": "code",
   "execution_count": 6,
   "id": "a8074ff2-949d-49cd-b0c5-b0fa70b74be0",
   "metadata": {
    "collapsed": false,
    "jupyter": {
     "outputs_hidden": false
    }
   },
   "outputs": [],
   "source": [
    "def points_above_line(a, b, c, point_list):\n",
    "    above_indices, below_indices = [], []\n",
    "    \n",
    "    for i, point in enumerate(zip(point_list[0], point_list[1])):\n",
    "        x, y = point\n",
    "        if a*x + b*y + c > 0:\n",
    "            above_indices.append(i)\n",
    "        else:\n",
    "            below_indices.append(i)\n",
    "\n",
    "\n",
    "    return above_indices, below_indices\n",
    "\n"
   ]
  },
  {
   "cell_type": "code",
   "execution_count": 13,
   "id": "b2e5b4ba-f19c-4d8d-8422-d1ab637895a9",
   "metadata": {
    "collapsed": false,
    "jupyter": {
     "outputs_hidden": false
    }
   },
   "outputs": [],
   "source": [
    "point_list = [x, y]\n"
   ]
  },
  {
   "cell_type": "code",
   "execution_count": 11,
   "id": "1f09b5df-442c-4e19-bf5d-f65d42c86277",
   "metadata": {
    "collapsed": false,
    "jupyter": {
     "outputs_hidden": false
    }
   },
   "outputs": [],
   "source": [
    "a, b, c = 59/70, 1, -1168.571"
   ]
  },
  {
   "cell_type": "code",
   "execution_count": 14,
   "id": "f8595e51-2e76-4a6b-91b5-5e79ab76aaf4",
   "metadata": {
    "collapsed": false,
    "jupyter": {
     "outputs_hidden": false
    }
   },
   "outputs": [],
   "source": [
    "above_points, below_points = points_above_line(a, b, c, point_list)"
   ]
  },
  {
   "cell_type": "code",
   "execution_count": 15,
   "id": "80bb0116-1b35-4ca8-9149-c00f33ffade2",
   "metadata": {
    "collapsed": false,
    "jupyter": {
     "outputs_hidden": false
    }
   },
   "outputs": [],
   "source": [
    "nab = resp[:, :, above_points]\n",
    "nbl = resp[:, :, below_points]\n"
   ]
  },
  {
   "cell_type": "code",
   "execution_count": 18,
   "id": "e9176ee5-20a4-4041-b420-a65b539d4d2d",
   "metadata": {
    "collapsed": false,
    "jupyter": {
     "outputs_hidden": false
    }
   },
   "outputs": [],
   "source": [
    "def compute_cvPCA(resp0):\n",
    "    ss0 = u.shuff_cvPCA(resp0, nshuff=10, maxcols=2000)\n",
    "    ss0 = ss0.mean(axis=0)\n",
    "    ss0 = ss0 / ss0.sum()\n",
    "\n",
    "    return ss0\n"
   ]
  },
  {
   "cell_type": "code",
   "execution_count": 20,
   "id": "5d34dd1c",
   "metadata": {},
   "outputs": [
    {
     "data": {
      "text/plain": [
       "(2, 2800, 8097)"
      ]
     },
     "execution_count": 20,
     "metadata": {},
     "output_type": "execute_result"
    }
   ],
   "source": [
    "nbl.shape"
   ]
  },
  {
   "cell_type": "code",
   "execution_count": null,
   "id": "94bb1800",
   "metadata": {},
   "outputs": [],
   "source": []
  },
  {
   "cell_type": "code",
   "execution_count": 19,
   "id": "ddb3de3c-79f4-4b09-a2f9-3db8ce6134bf",
   "metadata": {
    "collapsed": false,
    "jupyter": {
     "outputs_hidden": false
    }
   },
   "outputs": [
    {
     "ename": "ValueError",
     "evalue": "n_components=2800 must be between 0 and min(n_samples, n_features)=2006 with svd_solver='full'",
     "output_type": "error",
     "traceback": [
      "\u001b[0;31m---------------------------------------------------------------------------\u001b[0m",
      "\u001b[0;31mValueError\u001b[0m                                Traceback (most recent call last)",
      "Cell \u001b[0;32mIn[19], line 1\u001b[0m\n\u001b[0;32m----> 1\u001b[0m ss0 \u001b[38;5;241m=\u001b[39m \u001b[43mcompute_cvPCA\u001b[49m\u001b[43m(\u001b[49m\u001b[43mnab\u001b[49m\u001b[43m)\u001b[49m\n",
      "Cell \u001b[0;32mIn[18], line 2\u001b[0m, in \u001b[0;36mcompute_cvPCA\u001b[0;34m(resp0)\u001b[0m\n\u001b[1;32m      1\u001b[0m \u001b[38;5;28;01mdef\u001b[39;00m \u001b[38;5;21mcompute_cvPCA\u001b[39m(resp0):\n\u001b[0;32m----> 2\u001b[0m     ss0 \u001b[38;5;241m=\u001b[39m \u001b[43mu\u001b[49m\u001b[38;5;241;43m.\u001b[39;49m\u001b[43mshuff_cvPCA\u001b[49m\u001b[43m(\u001b[49m\u001b[43mresp0\u001b[49m\u001b[43m,\u001b[49m\u001b[43m \u001b[49m\u001b[43mnshuff\u001b[49m\u001b[38;5;241;43m=\u001b[39;49m\u001b[38;5;241;43m10\u001b[39;49m\u001b[43m,\u001b[49m\u001b[43m \u001b[49m\u001b[43mmaxcols\u001b[49m\u001b[38;5;241;43m=\u001b[39;49m\u001b[38;5;241;43m2000\u001b[39;49m\u001b[43m)\u001b[49m\n\u001b[1;32m      3\u001b[0m     ss0 \u001b[38;5;241m=\u001b[39m ss0\u001b[38;5;241m.\u001b[39mmean(axis\u001b[38;5;241m=\u001b[39m\u001b[38;5;241m0\u001b[39m)\n\u001b[1;32m      4\u001b[0m     ss0 \u001b[38;5;241m=\u001b[39m ss0 \u001b[38;5;241m/\u001b[39m ss0\u001b[38;5;241m.\u001b[39msum()\n",
      "File \u001b[0;32m~/ppp/notebooks/robustSigs/utils.py:35\u001b[0m, in \u001b[0;36mshuff_cvPCA\u001b[0;34m(X, nshuff, maxcols)\u001b[0m\n\u001b[1;32m     33\u001b[0m     X0[\u001b[38;5;241m0\u001b[39m, iflip] \u001b[38;5;241m=\u001b[39m X[\u001b[38;5;241m1\u001b[39m, iflip]\n\u001b[1;32m     34\u001b[0m     X0[\u001b[38;5;241m1\u001b[39m, iflip] \u001b[38;5;241m=\u001b[39m X[\u001b[38;5;241m0\u001b[39m, iflip]\n\u001b[0;32m---> 35\u001b[0m     ss[k] \u001b[38;5;241m=\u001b[39m \u001b[43mcvPCA\u001b[49m\u001b[43m(\u001b[49m\u001b[43mX0\u001b[49m\u001b[43m)\u001b[49m\n\u001b[1;32m     36\u001b[0m \u001b[38;5;28;01mreturn\u001b[39;00m ss\n",
      "File \u001b[0;32m~/ppp/notebooks/robustSigs/utils.py:41\u001b[0m, in \u001b[0;36mcvPCA\u001b[0;34m(X, maxcols)\u001b[0m\n\u001b[1;32m     39\u001b[0m \u001b[38;5;28;01mdef\u001b[39;00m \u001b[38;5;21mcvPCA\u001b[39m(X, maxcols\u001b[38;5;241m=\u001b[39mnp\u001b[38;5;241m.\u001b[39minf):\n\u001b[1;32m     40\u001b[0m \u001b[38;5;250m    \u001b[39m\u001b[38;5;124;03m\"\"\"X is 2 x stimuli x neurons\"\"\"\u001b[39;00m\n\u001b[0;32m---> 41\u001b[0m     pca \u001b[38;5;241m=\u001b[39m \u001b[43mPCA\u001b[49m\u001b[43m(\u001b[49m\u001b[43mn_components\u001b[49m\u001b[38;5;241;43m=\u001b[39;49m\u001b[38;5;28;43mmin\u001b[39;49m\u001b[43m(\u001b[49m\u001b[43mmaxcols\u001b[49m\u001b[43m,\u001b[49m\u001b[43m \u001b[49m\u001b[43mX\u001b[49m\u001b[38;5;241;43m.\u001b[39;49m\u001b[43mshape\u001b[49m\u001b[43m[\u001b[49m\u001b[38;5;241;43m1\u001b[39;49m\u001b[43m]\u001b[49m\u001b[43m)\u001b[49m\u001b[43m)\u001b[49m\u001b[38;5;241;43m.\u001b[39;49m\u001b[43mfit\u001b[49m\u001b[43m(\u001b[49m\u001b[43mX\u001b[49m\u001b[43m[\u001b[49m\u001b[38;5;241;43m0\u001b[39;49m\u001b[43m]\u001b[49m\u001b[38;5;241;43m.\u001b[39;49m\u001b[43mT\u001b[49m\u001b[43m)\u001b[49m\n\u001b[1;32m     42\u001b[0m     u \u001b[38;5;241m=\u001b[39m pca\u001b[38;5;241m.\u001b[39mcomponents_\u001b[38;5;241m.\u001b[39mT\n\u001b[1;32m     43\u001b[0m     sv \u001b[38;5;241m=\u001b[39m pca\u001b[38;5;241m.\u001b[39msingular_values_\n",
      "File \u001b[0;32m~/.pyenv/versions/3.9.16/lib/python3.9/site-packages/sklearn/base.py:1152\u001b[0m, in \u001b[0;36m_fit_context.<locals>.decorator.<locals>.wrapper\u001b[0;34m(estimator, *args, **kwargs)\u001b[0m\n\u001b[1;32m   1145\u001b[0m     estimator\u001b[38;5;241m.\u001b[39m_validate_params()\n\u001b[1;32m   1147\u001b[0m \u001b[38;5;28;01mwith\u001b[39;00m config_context(\n\u001b[1;32m   1148\u001b[0m     skip_parameter_validation\u001b[38;5;241m=\u001b[39m(\n\u001b[1;32m   1149\u001b[0m         prefer_skip_nested_validation \u001b[38;5;129;01mor\u001b[39;00m global_skip_validation\n\u001b[1;32m   1150\u001b[0m     )\n\u001b[1;32m   1151\u001b[0m ):\n\u001b[0;32m-> 1152\u001b[0m     \u001b[38;5;28;01mreturn\u001b[39;00m \u001b[43mfit_method\u001b[49m\u001b[43m(\u001b[49m\u001b[43mestimator\u001b[49m\u001b[43m,\u001b[49m\u001b[43m \u001b[49m\u001b[38;5;241;43m*\u001b[39;49m\u001b[43margs\u001b[49m\u001b[43m,\u001b[49m\u001b[43m \u001b[49m\u001b[38;5;241;43m*\u001b[39;49m\u001b[38;5;241;43m*\u001b[39;49m\u001b[43mkwargs\u001b[49m\u001b[43m)\u001b[49m\n",
      "File \u001b[0;32m~/.pyenv/versions/3.9.16/lib/python3.9/site-packages/sklearn/decomposition/_pca.py:434\u001b[0m, in \u001b[0;36mPCA.fit\u001b[0;34m(self, X, y)\u001b[0m\n\u001b[1;32m    416\u001b[0m \u001b[38;5;129m@_fit_context\u001b[39m(prefer_skip_nested_validation\u001b[38;5;241m=\u001b[39m\u001b[38;5;28;01mTrue\u001b[39;00m)\n\u001b[1;32m    417\u001b[0m \u001b[38;5;28;01mdef\u001b[39;00m \u001b[38;5;21mfit\u001b[39m(\u001b[38;5;28mself\u001b[39m, X, y\u001b[38;5;241m=\u001b[39m\u001b[38;5;28;01mNone\u001b[39;00m):\n\u001b[1;32m    418\u001b[0m \u001b[38;5;250m    \u001b[39m\u001b[38;5;124;03m\"\"\"Fit the model with X.\u001b[39;00m\n\u001b[1;32m    419\u001b[0m \n\u001b[1;32m    420\u001b[0m \u001b[38;5;124;03m    Parameters\u001b[39;00m\n\u001b[0;32m   (...)\u001b[0m\n\u001b[1;32m    432\u001b[0m \u001b[38;5;124;03m        Returns the instance itself.\u001b[39;00m\n\u001b[1;32m    433\u001b[0m \u001b[38;5;124;03m    \"\"\"\u001b[39;00m\n\u001b[0;32m--> 434\u001b[0m     \u001b[38;5;28;43mself\u001b[39;49m\u001b[38;5;241;43m.\u001b[39;49m\u001b[43m_fit\u001b[49m\u001b[43m(\u001b[49m\u001b[43mX\u001b[49m\u001b[43m)\u001b[49m\n\u001b[1;32m    435\u001b[0m     \u001b[38;5;28;01mreturn\u001b[39;00m \u001b[38;5;28mself\u001b[39m\n",
      "File \u001b[0;32m~/.pyenv/versions/3.9.16/lib/python3.9/site-packages/sklearn/decomposition/_pca.py:510\u001b[0m, in \u001b[0;36mPCA._fit\u001b[0;34m(self, X)\u001b[0m\n\u001b[1;32m    508\u001b[0m \u001b[38;5;66;03m# Call different fits for either full or truncated SVD\u001b[39;00m\n\u001b[1;32m    509\u001b[0m \u001b[38;5;28;01mif\u001b[39;00m \u001b[38;5;28mself\u001b[39m\u001b[38;5;241m.\u001b[39m_fit_svd_solver \u001b[38;5;241m==\u001b[39m \u001b[38;5;124m\"\u001b[39m\u001b[38;5;124mfull\u001b[39m\u001b[38;5;124m\"\u001b[39m:\n\u001b[0;32m--> 510\u001b[0m     \u001b[38;5;28;01mreturn\u001b[39;00m \u001b[38;5;28;43mself\u001b[39;49m\u001b[38;5;241;43m.\u001b[39;49m\u001b[43m_fit_full\u001b[49m\u001b[43m(\u001b[49m\u001b[43mX\u001b[49m\u001b[43m,\u001b[49m\u001b[43m \u001b[49m\u001b[43mn_components\u001b[49m\u001b[43m)\u001b[49m\n\u001b[1;32m    511\u001b[0m \u001b[38;5;28;01melif\u001b[39;00m \u001b[38;5;28mself\u001b[39m\u001b[38;5;241m.\u001b[39m_fit_svd_solver \u001b[38;5;129;01min\u001b[39;00m [\u001b[38;5;124m\"\u001b[39m\u001b[38;5;124marpack\u001b[39m\u001b[38;5;124m\"\u001b[39m, \u001b[38;5;124m\"\u001b[39m\u001b[38;5;124mrandomized\u001b[39m\u001b[38;5;124m\"\u001b[39m]:\n\u001b[1;32m    512\u001b[0m     \u001b[38;5;28;01mreturn\u001b[39;00m \u001b[38;5;28mself\u001b[39m\u001b[38;5;241m.\u001b[39m_fit_truncated(X, n_components, \u001b[38;5;28mself\u001b[39m\u001b[38;5;241m.\u001b[39m_fit_svd_solver)\n",
      "File \u001b[0;32m~/.pyenv/versions/3.9.16/lib/python3.9/site-packages/sklearn/decomposition/_pca.py:524\u001b[0m, in \u001b[0;36mPCA._fit_full\u001b[0;34m(self, X, n_components)\u001b[0m\n\u001b[1;32m    520\u001b[0m         \u001b[38;5;28;01mraise\u001b[39;00m \u001b[38;5;167;01mValueError\u001b[39;00m(\n\u001b[1;32m    521\u001b[0m             \u001b[38;5;124m\"\u001b[39m\u001b[38;5;124mn_components=\u001b[39m\u001b[38;5;124m'\u001b[39m\u001b[38;5;124mmle\u001b[39m\u001b[38;5;124m'\u001b[39m\u001b[38;5;124m is only supported if n_samples >= n_features\u001b[39m\u001b[38;5;124m\"\u001b[39m\n\u001b[1;32m    522\u001b[0m         )\n\u001b[1;32m    523\u001b[0m \u001b[38;5;28;01melif\u001b[39;00m \u001b[38;5;129;01mnot\u001b[39;00m \u001b[38;5;241m0\u001b[39m \u001b[38;5;241m<\u001b[39m\u001b[38;5;241m=\u001b[39m n_components \u001b[38;5;241m<\u001b[39m\u001b[38;5;241m=\u001b[39m \u001b[38;5;28mmin\u001b[39m(n_samples, n_features):\n\u001b[0;32m--> 524\u001b[0m     \u001b[38;5;28;01mraise\u001b[39;00m \u001b[38;5;167;01mValueError\u001b[39;00m(\n\u001b[1;32m    525\u001b[0m         \u001b[38;5;124m\"\u001b[39m\u001b[38;5;124mn_components=\u001b[39m\u001b[38;5;132;01m%r\u001b[39;00m\u001b[38;5;124m must be between 0 and \u001b[39m\u001b[38;5;124m\"\u001b[39m\n\u001b[1;32m    526\u001b[0m         \u001b[38;5;124m\"\u001b[39m\u001b[38;5;124mmin(n_samples, n_features)=\u001b[39m\u001b[38;5;132;01m%r\u001b[39;00m\u001b[38;5;124m with \u001b[39m\u001b[38;5;124m\"\u001b[39m\n\u001b[1;32m    527\u001b[0m         \u001b[38;5;124m\"\u001b[39m\u001b[38;5;124msvd_solver=\u001b[39m\u001b[38;5;124m'\u001b[39m\u001b[38;5;124mfull\u001b[39m\u001b[38;5;124m'\u001b[39m\u001b[38;5;124m\"\u001b[39m \u001b[38;5;241m%\u001b[39m (n_components, \u001b[38;5;28mmin\u001b[39m(n_samples, n_features))\n\u001b[1;32m    528\u001b[0m     )\n\u001b[1;32m    530\u001b[0m \u001b[38;5;66;03m# Center data\u001b[39;00m\n\u001b[1;32m    531\u001b[0m \u001b[38;5;28mself\u001b[39m\u001b[38;5;241m.\u001b[39mmean_ \u001b[38;5;241m=\u001b[39m np\u001b[38;5;241m.\u001b[39mmean(X, axis\u001b[38;5;241m=\u001b[39m\u001b[38;5;241m0\u001b[39m)\n",
      "\u001b[0;31mValueError\u001b[0m: n_components=2800 must be between 0 and min(n_samples, n_features)=2006 with svd_solver='full'"
     ]
    }
   ],
   "source": [
    "ss0 = compute_cvPCA(nab)"
   ]
  },
  {
   "cell_type": "code",
   "execution_count": 56,
   "id": "9310160e-1556-43da-820e-2689087a2fe8",
   "metadata": {
    "collapsed": false,
    "jupyter": {
     "outputs_hidden": false
    }
   },
   "outputs": [],
   "source": [
    "ss1 = compute_cvPCA(nbl)"
   ]
  },
  {
   "cell_type": "code",
   "execution_count": 57,
   "id": "9874d199-bf4d-4394-bc0b-3a9c12339ddf",
   "metadata": {
    "collapsed": false,
    "jupyter": {
     "outputs_hidden": false
    }
   },
   "outputs": [],
   "source": [
    "aalpha, _ = u.get_powerlaw(ss0, np.arange(11, 200).astype('int') )\n",
    "balpha, _ = u.get_powerlaw(ss1, np.arange(11, 200).astype('int'))\n"
   ]
  },
  {
   "cell_type": "code",
   "execution_count": 50,
   "id": "b91c59d8-f759-4fb9-9e9b-488612de2d54",
   "metadata": {
    "collapsed": false,
    "jupyter": {
     "outputs_hidden": false
    }
   },
   "outputs": [
    {
     "data": {
      "text/plain": [
       "1.081978663083578"
      ]
     },
     "execution_count": 50,
     "metadata": {},
     "output_type": "execute_result"
    }
   ],
   "source": [
    "aalpha"
   ]
  },
  {
   "cell_type": "code",
   "execution_count": 58,
   "id": "12d154f2-96af-4b6e-b84b-0ecb8500d366",
   "metadata": {
    "collapsed": false,
    "jupyter": {
     "outputs_hidden": false
    }
   },
   "outputs": [
    {
     "data": {
      "text/plain": [
       "1.022544387723973"
      ]
     },
     "execution_count": 58,
     "metadata": {},
     "output_type": "execute_result"
    }
   ],
   "source": [
    "balpha"
   ]
  }
 ],
 "metadata": {
  "kernelspec": {
   "display_name": "Python 3 (ipykernel)",
   "language": "python",
   "name": "python3"
  },
  "language_info": {
   "codemirror_mode": {
    "name": "ipython",
    "version": 3
   },
   "file_extension": ".py",
   "mimetype": "text/x-python",
   "name": "python",
   "nbconvert_exporter": "python",
   "pygments_lexer": "ipython3",
   "version": "3.9.16"
  },
  "name": "alpha_computations_copy.ipynb"
 },
 "nbformat": 4,
 "nbformat_minor": 5
}
