{
 "cells": [
  {
   "cell_type": "code",
   "execution_count": null,
   "id": "66603711-553c-41a6-88cf-ced35f3b5df4",
   "metadata": {},
   "outputs": [],
   "source": [
    "%pylab inline\n",
    "plt.style.use(\"default\")\n",
    "import os, sys\n",
    "import scipy\n",
    "import random\n",
    "import pandas as pd\n",
    "import helpers as h\n",
    "import spontHelpers as sh\n",
    "import matplotlib.pyplot as plt\n",
    "import utils as u\n",
    "import ctils as cx\n",
    "import matplotlib as mpl\n",
    "from glob import glob\n",
    "from scipy.io import loadmat\n",
    "from scipy.stats import skew, kurtosis\n",
    "from sklearn.cluster import KMeans\n",
    "from mpl_toolkits import mplot3d\n",
    "from sklearn.model_selection import cross_val_score\n",
    "from tqdm import tqdm\n",
    "from sklearn.discriminant_analysis import LinearDiscriminantAnalysis as LDA\n",
    "\n",
    "plt.rcParams['figure.figsize'] = (15, 10) "
   ]
  },
  {
   "cell_type": "code",
   "execution_count": null,
   "id": "adba7fec-ce38-43ac-9eb8-7e4e7cd4e81a",
   "metadata": {},
   "outputs": [],
   "source": [
    "def clean_unpack(data0):\n",
    "    \"\"\"returns clean and zscored signal\"\"\"\n",
    "    resp0, spon0, istim0 = h.unbox(data0)\n",
    "\n",
    "    resp0 = h.denoise_resp(resp0, spon0)\n",
    "\n",
    "    resp0 = h.dupSignal(resp0, istim0)\n",
    "\n",
    "    return resp0, spon0\n"
   ]
  },
  {
   "cell_type": "code",
   "execution_count": null,
   "id": "655116bc-f9a2-41ca-a662-9662c999912d",
   "metadata": {},
   "outputs": [],
   "source": [
    "def get_subpops(x, y, dx, dy, resp):\n",
    "\n",
    "    inxs = []\n",
    "    subpops = []\n",
    "    xmax = x.max()\n",
    "    ymax = y.max()\n",
    "    Xrange = np.arange(xmax, step=dx)\n",
    "    Yrange = np.arange(ymax, step=dy)\n",
    "    for x0 in Xrange:\n",
    "        for y0 in Yrange:\n",
    "            x1 = x0+dx\n",
    "            y1 = y0+dx\n",
    "            inx = np.where(((x>x0) & (x<x1)) & ((y > y0) & (y < y1)))\n",
    "            inxs.append(inx)\n",
    "            subpop = resp[:, :, inx].squeeze(axis=2)\n",
    "            subpops.append((((x0, x1), (y0, y1)), subpop))\n",
    "    return subpops, inxs \n"
   ]
  },
  {
   "cell_type": "code",
   "execution_count": null,
   "id": "4d21b6f5-183d-4c1a-89e1-5525be796dd1",
   "metadata": {},
   "outputs": [],
   "source": [
    "def compute_cvPCA(resp0, nshuff, maxcols=np.inf):\n",
    "    ss0 = u.shuff_cvPCA(resp0, nshuff=nshuff, maxcols=maxcols)\n",
    "\n",
    "    ss0 = ss0.mean(axis=0)\n",
    "    ss0 = ss0 / ss0.sum()\n",
    "\n",
    "    return ss0\n",
    "\n",
    "def compute0_cvPCA(resp0, nshuff, maxcols=100):\n",
    "    ss0 = cx.shuff_cvPCA(resp0, nshuff=nshuff, maxcols=maxcols)\n",
    "\n",
    "    ss0 = ss0.mean(axis=0)\n",
    "    ss0 = ss0 / ss0.sum()\n",
    "\n",
    "    return ss0\n",
    "\n",
    "def vanilaPCA(resp0):\n",
    "    ss0, sv = u.vanila_PCA(resp0)\n",
    "    ss0 = ss0/ss0.sum()\n",
    "    sv = sv/sv.sum()\n",
    "\n",
    "    return ss0, sv\n"
   ]
  },
  {
   "cell_type": "code",
   "execution_count": null,
   "id": "06fccd04-9b47-4724-a27f-629f60a40e7f",
   "metadata": {},
   "outputs": [],
   "source": [
    "data_root = \"/camp/home/duuta/working/duuta/ppp0/data/stringer/live_data/\"\n",
    "data_files = [fname.split(\"/\")[-1] for fname in glob(f\"{data_root}natimg2800_M*.mat\")]\n",
    "\n"
   ]
  },
  {
   "cell_type": "code",
   "execution_count": null,
   "id": "066d0f2e-8bc6-44f9-8489-af4b63dc56e1",
   "metadata": {},
   "outputs": [],
   "source": [
    "maxstim0 = spontList[1]\n",
    "maxstim1 = spontList[3]\n"
   ]
  },
  {
   "cell_type": "code",
   "execution_count": null,
   "id": "0924ebea-6520-4053-a336-077aa53f4cc1",
   "metadata": {},
   "outputs": [],
   "source": [
    "maxstim_res0 = respList[1]\n",
    "maxstim_res1 = respList[3]\n"
   ]
  },
  {
   "cell_type": "code",
   "execution_count": null,
   "id": "055316b2-6338-4e84-87a0-8b0f138add4f",
   "metadata": {},
   "outputs": [],
   "source": [
    "# this computation for alpha values for response\n",
    "ra0 = []\n",
    "ra1 = []\n",
    "nstims = np.linspace(120, 2300, 100).astype('int')\n",
    "for ns in nstims:\n",
    "    r0 = maxstim_res0[:ns, :]\n",
    "    r1 = maxstim_res1[:ns, :]\n",
    "    sr0 = compute0_cvPCA(r0, 10, maxcols=100)\n",
    "    sr1 = compute0_cvPCA(r1, 10, maxcols=100)\n",
    "    ras0, _, _ = cx.get_powerlaw(sr0, np.arange(5, 90).astype('int'))\n",
    "    ras1, _, _ = cx.get_powerlaw(sr1, np.arange(5, 90).astype('int'))\n",
    "    ra0.append(ras0)\n",
    "    ra1.append(ras1)\n"
   ]
  },
  {
   "cell_type": "code",
   "execution_count": null,
   "id": "2e31b0b3-795b-440f-bd68-6c34c46b8df7",
   "metadata": {},
   "outputs": [],
   "source": [
    "plt.plot(nstims, ra0, label='ani0')\n",
    "plt.plot(nstims, ra1, label='ani1')\n",
    "plt.xlabel(\"Stimulus size\", fontsize=20)\n",
    "plt.ylabel(\"Alpha Value\", fontsize=20)\n",
    "plt.title(\"resp:Value of alpha for differing size of stimulus\", fontsize=20)\n",
    "plt.legend(fontsize=20)\n"
   ]
  },
  {
   "cell_type": "code",
   "execution_count": null,
   "id": "2d22b007-718d-49ee-b4ca-895f8913bd82",
   "metadata": {},
   "outputs": [],
   "source": [
    "# change the end points of stimulus \n",
    "sppa0 = []\n",
    "sppa1 = []\n",
    "nstims = np.linspace(120, 2500, 100).astype('int')\n",
    "for ns in nstims:\n",
    "    ps0 = sh.ssplit(maxstim0[:ns, :])\n",
    "    ps1 = sh.ssplit(maxstim1[:ns, :])\n",
    "    ts0 = compute_cvPCA(ps0, 10, maxcols=100)\n",
    "    ts1 = compute_cvPCA(ps1, 10, maxcols=100)\n",
    "    aps0, _, _ = u.get_powerlaw(ts0, np.arange(5, 90).astype('int'))\n",
    "    aps1, _, _ = u.get_powerlaw(ts1, np.arange(5, 90).astype('int'))\n",
    "    sppa0.append(aps0)\n",
    "    sppa1.append(aps1)\n"
   ]
  },
  {
   "cell_type": "code",
   "execution_count": null,
   "id": "a088ff0d-1c30-432a-b95f-1071b5792f5d",
   "metadata": {},
   "outputs": [],
   "source": [
    "plt.plot(nstims, sppa0, label='ani0')\n",
    "plt.plot(nstims, sppa1, label='ani1')\n",
    "plt.xlabel(\"Stimulus size\", fontsize=20)\n",
    "plt.ylabel(\"Alpha Value\", fontsize=20)\n",
    "plt.title(\"Value of alpha for differing size of stimulus\", fontsize=20)\n",
    "plt.legend(fontsize=20, loc='upper left')\n"
   ]
  },
  {
   "cell_type": "code",
   "execution_count": null,
   "id": "edefd428-dd46-484b-8f11-be3be17b423b",
   "metadata": {},
   "outputs": [],
   "source": [
    "# use all the components to make clear the changes.\n",
    "# add arrs for alpha values.\n",
    "plt.figure(figsize=(20, 20))\n",
    "fig0, axs = plt.subplots(nrows=6, ncols=2, layout='constrained', figsize=(10, 10))\n",
    "for i, arr in enumerate(respList):\n",
    "    rr0_sn = compute_cvPCA(arr, 10, maxcols=np.inf)\n",
    "    _, rr0_so = vanilaPCA(arr)\n",
    "    a0_sn, yp0, _ = u.get_powerlaw(rr0_sn, np.arange(11, 500).astype('int'))\n",
    "    a0_so, yp1, _ = u.get_powerlaw(rr0_so, np.arange(11, 90).astype('int'))\n",
    "    axs[i, 0].loglog(np.arange(0, rr0_sn.size), rr0_sn/rr0_sn.sum())\n",
    "    axs[i, 0].loglog(np.arange(0, rr0_sn.size), yp0)\n",
    "    axs[i, 0].text(x=10**2.5, y=10**-2, s=f\"alpha={round(a0_sn, 2)}\")\n",
    "    axs[i, 0].set_title(\"nshuff on\")\n",
    "    axs[i, 0].set_ylabel(\"Variance\")\n",
    "    \n",
    "    axs[i, 1].loglog(np.arange(0, rr0_so.size), rr0_so/rr0_so.sum(), label='Shuff off')\n",
    "    axs[i, 1].loglog(np.arange(0, rr0_so.size), yp1)\n",
    "    axs[i, 1].text(x=10**2.5, y=10**-2.5, s=f\"alpha={round(a0_so, 2)}\")\n",
    "    axs[i, 1].set_title(\"nshuff off\")\n",
    "    axs[i, 1].set_xlabel(\"Dimensions\")\n",
    "        \n",
    "    fig0.suptitle('resp')\n"
   ]
  },
  {
   "cell_type": "code",
   "execution_count": null,
   "id": "20a81c4f-b2b5-4a0c-9102-96c8945c4885",
   "metadata": {},
   "outputs": [],
   "source": [
    "nwsList = []\n",
    "nstim = 280\n",
    "for arr in spontList:\n",
    "    sp0 = arr[:nstim, :]\n",
    "    nwsList.append(sp0)\n"
   ]
  },
  {
   "cell_type": "code",
   "execution_count": null,
   "id": "df4c7956-2954-4077-a0d0-f2cd3a05fe29",
   "metadata": {},
   "outputs": [],
   "source": [
    "nrois = 9000\n",
    "nrois_stims = []\n",
    "for arr in spontList:\n",
    "    sp00 = arr[:nstim, :nrois]\n",
    "    nrois_stims.append(sp00)\n"
   ]
  },
  {
   "cell_type": "code",
   "execution_count": null,
   "id": "463b4df7-e516-410e-81cd-0fb1b9266296",
   "metadata": {},
   "outputs": [],
   "source": [
    "aa0= []\n",
    "for arr in nrois_stims:\n",
    "    sa0 = sh.ssplit(arr)\n",
    "    sa1 = compute_cvPCA(sa0, 100, maxcols=100)\n",
    "    av, _, _ = u.get_powerlaw(sa1, np.arange(11, 90).astype('int'))\n",
    "    aa0.append(av)\n"
   ]
  },
  {
   "cell_type": "code",
   "execution_count": null,
   "id": "8f7a3f6d-2e7e-4667-81b1-a63aee554a4e",
   "metadata": {},
   "outputs": [],
   "source": [
    "\n",
    "plt.bar(list(np.arange(6)), aa0)\n",
    "plt.title('alpha (nshuff=100) for fixed shape arr (280, 9000) for six different mice', fontsize=20)\n",
    "plt.xlabel(\"different mice\", fontsize=20)\n",
    "plt.ylabel(\"Val of alpha\", fontsize=20)\n"
   ]
  },
  {
   "cell_type": "code",
   "execution_count": null,
   "id": "b051227e-7fb9-4617-98eb-521bed694a2b",
   "metadata": {},
   "outputs": [],
   "source": [
    "ass = []\n",
    "kiks = []\n",
    "for arr in nwsList:\n",
    "    ss = sh.ssplit(arr)\n",
    "    kiks.append(arr.shape[1])\n",
    "\n",
    "    ss0 = compute_cvPCA(ss, 10,  maxcols=100)\n",
    "    a, _, _ = u.get_powerlaw(ss0, np.arange(11, 90).astype('int'))\n",
    "    ass.append(a)\n"
   ]
  },
  {
   "cell_type": "code",
   "execution_count": null,
   "id": "3dcca15b-a917-4ab6-adcd-9dc75f542e24",
   "metadata": {},
   "outputs": [],
   "source": [
    "plt.plot(kiks, ass, '.')\n",
    "plt.title(\"for fixed stimulus size, the difference in alpha for diferring sizes of neurons, but fixed components explained.\", fontsize=20)\n",
    "plt.xlabel(\"# of neurons\", fontsize=20)\n",
    "plt.ylabel(\"Alpha Value\", fontsize=20)\n",
    "plt.grid(True)\n",
    "\n",
    "# kept stimulus size fixed but #neruons & ncomponents fixed.\n"
   ]
  },
  {
   "cell_type": "code",
   "execution_count": null,
   "id": "5df4d0f7-4184-4ae2-8619-fa2891d624c6",
   "metadata": {},
   "outputs": [],
   "source": [
    "tas = []\n",
    "pps = []\n",
    "for arr in nrois_stims:\n",
    "    t0 = sh.ssplit(arr)\n",
    "    t1, tv = vanilaPCA(s0)\n",
    "    tt, _, _ = u.get_powerlaw(t1, np.arange(11, 90).astype('int'))\n",
    "    tp, _, _ = u.get_powerlaw(tv, np.arange(11, 90).astype('int'))\n",
    "    tas.append(tt)\n",
    "    pps.append(tp)\n",
    "\n"
   ]
  },
  {
   "cell_type": "code",
   "execution_count": null,
   "id": "595e4ff0-f2f0-46cd-b0c8-7f2925966aa0",
   "metadata": {},
   "outputs": [],
   "source": [
    "# difference in alpha values across different sizes of neurons.\n",
    "plt.scatter(list(np.arange(6)), tas)\n",
    "plt.title('Alpha values computed from explained variance for vanila PCA')\n",
    "plt.xlabel('different mice')\n",
    "plt.ylabel('Value of alpha')\n"
   ]
  },
  {
   "cell_type": "code",
   "execution_count": null,
   "id": "9e87a8d6-53d7-4620-b894-fb49261d91f3",
   "metadata": {},
   "outputs": [],
   "source": [
    "plt.scatter(list(np.arange(6)), pps)\n",
    "plt.title('Alpha values for singular values vanila PCA')\n",
    "plt.xlabel('different mice')\n",
    "plt.ylabel('Value of alpha')\n"
   ]
  },
  {
   "cell_type": "code",
   "execution_count": null,
   "id": "b2a33ee7-c6da-47e4-8fb4-4dcd52b91f11",
   "metadata": {},
   "outputs": [],
   "source": []
  }
 ],
 "metadata": {
  "kernelspec": {
   "display_name": "Python 3 (ipykernel)",
   "language": "python",
   "name": "python3"
  },
  "language_info": {
   "codemirror_mode": {
    "name": "ipython",
    "version": 3
   },
   "file_extension": ".py",
   "mimetype": "text/x-python",
   "name": "python",
   "nbconvert_exporter": "python",
   "pygments_lexer": "ipython3",
   "version": "3.9.16"
  }
 },
 "nbformat": 4,
 "nbformat_minor": 5
}
