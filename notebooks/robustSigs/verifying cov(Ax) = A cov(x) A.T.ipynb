{
 "cells": [
  {
   "cell_type": "code",
   "execution_count": 4,
   "id": "6e4b5f21",
   "metadata": {},
   "outputs": [
    {
     "name": "stdout",
     "output_type": "stream",
     "text": [
      "%pylab is deprecated, use %matplotlib inline and import the required libraries.\n",
      "Populating the interactive namespace from numpy and matplotlib\n"
     ]
    }
   ],
   "source": [
    "%pylab inline"
   ]
  },
  {
   "cell_type": "markdown",
   "id": "47ae60bb",
   "metadata": {},
   "source": [
    "# verifying covariance identity cov(Ax) = A cov(x) A.T "
   ]
  },
  {
   "cell_type": "code",
   "execution_count": 60,
   "id": "b7f341c0",
   "metadata": {},
   "outputs": [],
   "source": [
    "def Vcov(n, s= 10000):\n",
    "    x=randn(n, s)\n",
    "    A = rand(n, n)\n",
    "    tA= A.T\n",
    "    y = A @ x\n",
    "    lhs = cov(y)\n",
    "    rhs = A @ cov(x) @ tA\n",
    "    return allclose(lhs, rhs)"
   ]
  },
  {
   "cell_type": "code",
   "execution_count": 62,
   "id": "caeddbef",
   "metadata": {},
   "outputs": [
    {
     "data": {
      "text/plain": [
       "True"
      ]
     },
     "execution_count": 62,
     "metadata": {},
     "output_type": "execute_result"
    }
   ],
   "source": [
    "Vcov(100)"
   ]
  },
  {
   "cell_type": "code",
   "execution_count": null,
   "id": "058f2675",
   "metadata": {},
   "outputs": [],
   "source": []
  }
 ],
 "metadata": {
  "kernelspec": {
   "display_name": "Python 3 (ipykernel)",
   "language": "python",
   "name": "python3"
  },
  "language_info": {
   "codemirror_mode": {
    "name": "ipython",
    "version": 3
   },
   "file_extension": ".py",
   "mimetype": "text/x-python",
   "name": "python",
   "nbconvert_exporter": "python",
   "pygments_lexer": "ipython3",
   "version": "3.9.16"
  }
 },
 "nbformat": 4,
 "nbformat_minor": 5
}
