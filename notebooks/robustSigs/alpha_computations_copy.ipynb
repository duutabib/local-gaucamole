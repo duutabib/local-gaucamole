{
 "cells": [
  {
   "cell_type": "code",
   "execution_count": 3,
   "id": "a92ecd27-f296-43ba-a890-ae6da58e89c9",
   "metadata": {
    "collapsed": false,
    "jupyter": {
     "outputs_hidden": false
    }
   },
   "outputs": [
    {
     "name": "stdout",
     "output_type": "stream",
     "text": [
      "%pylab is deprecated, use %matplotlib inline and import the required libraries.\n",
      "Populating the interactive namespace from numpy and matplotlib\n"
     ]
    }
   ],
   "source": [
    "%pylab inline\n",
    "plt.style.use(\"default\")\n",
    "import os, sys\n",
    "import scipy\n",
    "import pandas as pd\n",
    "import helpers as h\n",
    "import utils as u\n",
    "from glob import glob\n",
    "from scipy.io import loadmat\n",
    "from scipy.stats import skew, kurtosis\n",
    "from sklearn.cluster import KMeans\n",
    "from mpl_toolkits import mplot3d\n",
    "from sklearn.model_selection import cross_val_score\n",
    "from sklearn.discriminant_analysis import LinearDiscriminantAnalysis as LDA\n",
    "\n",
    "plt.rcParams['figure.figsize'] = (15, 10) "
   ]
  },
  {
   "cell_type": "code",
   "execution_count": 4,
   "id": "ae406bab-e852-4bc1-af4d-e96ba5151810",
   "metadata": {
    "collapsed": false,
    "jupyter": {
     "outputs_hidden": false
    }
   },
   "outputs": [],
   "source": [
    "data_root = \"/Users/duuta/ppp/data/stringer/live_data/\"\n",
    "data_files = [fname.split(\"/\")[-1] for fname in glob(f\"{data_root}natimg2800_M*.mat\")]\n",
    "\n"
   ]
  },
  {
   "cell_type": "code",
   "execution_count": 5,
   "id": "0f65b544-9eba-4bc6-8735-bdca9fed249b",
   "metadata": {
    "collapsed": false,
    "jupyter": {
     "outputs_hidden": false
    }
   },
   "outputs": [],
   "source": [
    "def clean_unpack(data0):\n",
    "    \"\"\"returns clean and zscored signal\"\"\"\n",
    "    resp0, spon0, istim0 = h.unbox(data0)\n",
    "\n",
    "    resp0 = h.denoise_resp(resp0, spon0)\n",
    "\n",
    "    resp0 = h.dupSignal(resp0, istim0)\n",
    "\n",
    "    return resp0\n"
   ]
  },
  {
   "cell_type": "code",
   "execution_count": null,
   "id": "573e997c-5e8a-46a6-a597-7a888ae14ce5",
   "metadata": {},
   "outputs": [],
   "source": []
  },
  {
   "cell_type": "code",
   "execution_count": 6,
   "id": "c179c179-0968-400f-b123-9609fefed065",
   "metadata": {
    "collapsed": false,
    "jupyter": {
     "outputs_hidden": false
    }
   },
   "outputs": [],
   "source": [
    "data = loadmat( os.path.join(data_root, data_files[0]), simplify_cells=True)\n",
    "resp = clean_unpack(data)\n",
    "\n"
   ]
  },
  {
   "cell_type": "code",
   "execution_count": null,
   "id": "8ab2b66d-4316-41b9-a4bd-1690cbae4666",
   "metadata": {},
   "outputs": [],
   "source": []
  },
  {
   "cell_type": "code",
   "execution_count": 7,
   "id": "e99db8c1-fa88-4204-9baa-c23d0e958774",
   "metadata": {
    "collapsed": false,
    "jupyter": {
     "outputs_hidden": false
    }
   },
   "outputs": [],
   "source": [
    "x, y, z = data['med'].T\n"
   ]
  },
  {
   "cell_type": "code",
   "execution_count": null,
   "id": "2e2c21e1-ef10-44bd-88d7-c4a05e6405f4",
   "metadata": {},
   "outputs": [],
   "source": []
  },
  {
   "cell_type": "code",
   "execution_count": 8,
   "id": "a8074ff2-949d-49cd-b0c5-b0fa70b74be0",
   "metadata": {
    "collapsed": false,
    "jupyter": {
     "outputs_hidden": false
    }
   },
   "outputs": [],
   "source": [
    "def points_above_line(a, b, c, point_list):\n",
    "    above_indices, below_indices = [], []\n",
    "    \n",
    "    for i, point in enumerate(zip(point_list[0], point_list[1])):\n",
    "        x, y = point\n",
    "        if a*x + b*y + c > 0:\n",
    "            above_indices.append(i)\n",
    "        else:\n",
    "            below_indices.append(i)\n",
    "\n",
    "\n",
    "    return above_indices, below_indices\n",
    "\n"
   ]
  },
  {
   "cell_type": "code",
   "execution_count": null,
   "id": "b2e5b4ba-f19c-4d8d-8422-d1ab637895a9",
   "metadata": {
    "collapsed": false,
    "jupyter": {
     "outputs_hidden": false
    }
   },
   "outputs": [],
   "source": [
    "point_list = [x, y]\n"
   ]
  },
  {
   "cell_type": "code",
   "execution_count": null,
   "id": "df9751ac-8073-4bd4-a65c-13e5b881b732",
   "metadata": {},
   "outputs": [],
   "source": []
  },
  {
   "cell_type": "code",
   "execution_count": null,
   "id": "9089807f-f00c-40d3-a841-91986c3243d3",
   "metadata": {},
   "outputs": [],
   "source": []
  },
  {
   "cell_type": "code",
   "execution_count": 44,
   "id": "1f09b5df-442c-4e19-bf5d-f65d42c86277",
   "metadata": {
    "collapsed": false,
    "jupyter": {
     "outputs_hidden": false
    }
   },
   "outputs": [],
   "source": [
    "a, b, c = 59/70, 1, -1168.571"
   ]
  },
  {
   "cell_type": "code",
   "execution_count": 52,
   "id": "f8595e51-2e76-4a6b-91b5-5e79ab76aaf4",
   "metadata": {
    "collapsed": false,
    "jupyter": {
     "outputs_hidden": false
    }
   },
   "outputs": [],
   "source": [
    "above_points, below_points = points_above_line(a, b, c, point_list)"
   ]
  },
  {
   "cell_type": "code",
   "execution_count": 53,
   "id": "80bb0116-1b35-4ca8-9149-c00f33ffade2",
   "metadata": {
    "collapsed": false,
    "jupyter": {
     "outputs_hidden": false
    }
   },
   "outputs": [],
   "source": [
    "nab = resp[:, :, above_points]\n",
    "nbl = resp[:, :, below_points]\n"
   ]
  },
  {
   "cell_type": "code",
   "execution_count": 54,
   "id": "e9176ee5-20a4-4041-b420-a65b539d4d2d",
   "metadata": {
    "collapsed": false,
    "jupyter": {
     "outputs_hidden": false
    }
   },
   "outputs": [],
   "source": [
    "def compute_cvPCA(resp0):\n",
    "    ss0 = u.shuff_cvPCA(resp0, nshuff=10)\n",
    "    ss0 = ss0.mean(axis=0)\n",
    "    ss0 = ss0 / ss0.sum()\n",
    "\n",
    "    return ss0\n"
   ]
  },
  {
   "cell_type": "code",
   "execution_count": 55,
   "id": "ddb3de3c-79f4-4b09-a2f9-3db8ce6134bf",
   "metadata": {
    "collapsed": false,
    "jupyter": {
     "outputs_hidden": false
    }
   },
   "outputs": [],
   "source": [
    "ss0 = compute_cvPCA(nab)"
   ]
  },
  {
   "cell_type": "code",
   "execution_count": 56,
   "id": "9310160e-1556-43da-820e-2689087a2fe8",
   "metadata": {
    "collapsed": false,
    "jupyter": {
     "outputs_hidden": false
    }
   },
   "outputs": [],
   "source": [
    "ss1 = compute_cvPCA(nbl)"
   ]
  },
  {
   "cell_type": "code",
   "execution_count": 57,
   "id": "9874d199-bf4d-4394-bc0b-3a9c12339ddf",
   "metadata": {
    "collapsed": false,
    "jupyter": {
     "outputs_hidden": false
    }
   },
   "outputs": [],
   "source": [
    "aalpha, _ = u.get_powerlaw(ss0,np.arange(11, 200).astype('int') )\n",
    "balpha, _ = u.get_powerlaw(ss1, np.arange(11, 200).astype('int'))\n"
   ]
  },
  {
   "cell_type": "code",
   "execution_count": 50,
   "id": "b91c59d8-f759-4fb9-9e9b-488612de2d54",
   "metadata": {
    "collapsed": false,
    "jupyter": {
     "outputs_hidden": false
    }
   },
   "outputs": [
    {
     "data": {
      "text/plain": [
       "1.081978663083578"
      ]
     },
     "execution_count": 50,
     "metadata": {},
     "output_type": "execute_result"
    }
   ],
   "source": [
    "aalpha"
   ]
  },
  {
   "cell_type": "code",
   "execution_count": 58,
   "id": "12d154f2-96af-4b6e-b84b-0ecb8500d366",
   "metadata": {
    "collapsed": false,
    "jupyter": {
     "outputs_hidden": false
    }
   },
   "outputs": [
    {
     "data": {
      "text/plain": [
       "1.022544387723973"
      ]
     },
     "execution_count": 58,
     "metadata": {},
     "output_type": "execute_result"
    }
   ],
   "source": [
    "balpha"
   ]
  },
  {
   "cell_type": "code",
   "execution_count": null,
   "id": "7f17f46d-ec67-4aec-bc9b-9ff0c91be5d9",
   "metadata": {
    "collapsed": false,
    "jupyter": {
     "outputs_hidden": false
    }
   },
   "outputs": [],
   "source": []
  }
 ],
 "metadata": {
  "kernelspec": {
   "display_name": "Python 3 (ipykernel)",
   "language": "python",
   "name": "python3"
  },
  "language_info": {
   "codemirror_mode": {
    "name": "ipython",
    "version": 3
   },
   "file_extension": ".py",
   "mimetype": "text/x-python",
   "name": "python",
   "nbconvert_exporter": "python",
   "pygments_lexer": "ipython3",
   "version": "3.9.16"
  },
  "name": "alpha_computations_copy.ipynb"
 },
 "nbformat": 4,
 "nbformat_minor": 5
}
