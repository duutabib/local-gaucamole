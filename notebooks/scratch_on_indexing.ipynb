{
 "cells": [
  {
   "cell_type": "code",
   "execution_count": 1,
   "id": "d960575e",
   "metadata": {},
   "outputs": [],
   "source": [
    "import numpy as np"
   ]
  },
  {
   "cell_type": "code",
   "execution_count": 3,
   "id": "0958bc88",
   "metadata": {
    "scrolled": true
   },
   "outputs": [
    {
     "data": {
      "text/plain": [
       "array([[1., 0., 0.],\n",
       "       [0., 1., 0.],\n",
       "       [0., 0., 1.]])"
      ]
     },
     "execution_count": 3,
     "metadata": {},
     "output_type": "execute_result"
    }
   ],
   "source": [
    "np.array(((1,0, 0), (0,1, 0), (0, 0, 1)), dtype=float)"
   ]
  },
  {
   "cell_type": "code",
   "execution_count": 4,
   "id": "46d9fe88",
   "metadata": {},
   "outputs": [],
   "source": [
    " b , a= np.ones((3, )),  np.zeros((3, ))"
   ]
  },
  {
   "cell_type": "code",
   "execution_count": 5,
   "id": "225b15ab",
   "metadata": {},
   "outputs": [
    {
     "data": {
      "text/plain": [
       "array([0, 0, 0])"
      ]
     },
     "execution_count": 5,
     "metadata": {},
     "output_type": "execute_result"
    }
   ],
   "source": [
    "a.astype('int')"
   ]
  },
  {
   "cell_type": "code",
   "execution_count": 6,
   "id": "08f179e0",
   "metadata": {},
   "outputs": [],
   "source": [
    "a = np.linspace(1, 48, 48).reshape(3, 4, 4)"
   ]
  },
  {
   "cell_type": "code",
   "execution_count": 7,
   "id": "5c316aaa",
   "metadata": {
    "scrolled": true
   },
   "outputs": [
    {
     "data": {
      "text/plain": [
       "array([[[ 1.,  2.,  3.,  4.],\n",
       "        [ 5.,  6.,  7.,  8.],\n",
       "        [ 9., 10., 11., 12.],\n",
       "        [13., 14., 15., 16.]],\n",
       "\n",
       "       [[17., 18., 19., 20.],\n",
       "        [21., 22., 23., 24.],\n",
       "        [25., 26., 27., 28.],\n",
       "        [29., 30., 31., 32.]],\n",
       "\n",
       "       [[33., 34., 35., 36.],\n",
       "        [37., 38., 39., 40.],\n",
       "        [41., 42., 43., 44.],\n",
       "        [45., 46., 47., 48.]]])"
      ]
     },
     "execution_count": 7,
     "metadata": {},
     "output_type": "execute_result"
    }
   ],
   "source": [
    "a"
   ]
  },
  {
   "cell_type": "code",
   "execution_count": 8,
   "id": "035f34a0",
   "metadata": {},
   "outputs": [
    {
     "data": {
      "text/plain": [
       "20.0"
      ]
     },
     "execution_count": 8,
     "metadata": {},
     "output_type": "execute_result"
    }
   ],
   "source": [
    "a[(1, 0, 3)]"
   ]
  },
  {
   "cell_type": "code",
   "execution_count": 9,
   "id": "e985ac0c",
   "metadata": {
    "scrolled": false
   },
   "outputs": [
    {
     "data": {
      "text/plain": [
       "array([ 9., 10., 11., 12.])"
      ]
     },
     "execution_count": 9,
     "metadata": {},
     "output_type": "execute_result"
    }
   ],
   "source": [
    "a[0, 2, :]"
   ]
  },
  {
   "cell_type": "code",
   "execution_count": 10,
   "id": "18c03241",
   "metadata": {
    "collapsed": true
   },
   "outputs": [
    {
     "data": {
      "text/plain": [
       "array([[33., 34., 35., 36.],\n",
       "       [37., 38., 39., 40.],\n",
       "       [41., 42., 43., 44.],\n",
       "       [45., 46., 47., 48.]])"
      ]
     },
     "execution_count": 10,
     "metadata": {},
     "output_type": "execute_result"
    }
   ],
   "source": [
    "a[2]"
   ]
  },
  {
   "cell_type": "code",
   "execution_count": 11,
   "id": "ff551c08",
   "metadata": {
    "scrolled": false
   },
   "outputs": [
    {
     "data": {
      "text/plain": [
       "array([[ 5.,  6.],\n",
       "       [21., 22.],\n",
       "       [37., 38.]])"
      ]
     },
     "execution_count": 11,
     "metadata": {},
     "output_type": "execute_result"
    }
   ],
   "source": [
    "a[:, 1, :2]"
   ]
  },
  {
   "cell_type": "code",
   "execution_count": 26,
   "id": "e6f90824",
   "metadata": {},
   "outputs": [
    {
     "data": {
      "text/plain": [
       "array([[36., 40., 44., 48.],\n",
       "       [33., 37., 41., 45.]])"
      ]
     },
     "execution_count": 26,
     "metadata": {},
     "output_type": "execute_result"
    }
   ],
   "source": [
    "a[2, :, (3, 0)]"
   ]
  },
  {
   "cell_type": "code",
   "execution_count": 27,
   "id": "48e50e24",
   "metadata": {
    "collapsed": true
   },
   "outputs": [
    {
     "data": {
      "text/plain": [
       "array([[13.,  9.,  5.,  1.],\n",
       "       [29., 25., 21., 17.],\n",
       "       [45., 41., 37., 33.]])"
      ]
     },
     "execution_count": 27,
     "metadata": {},
     "output_type": "execute_result"
    }
   ],
   "source": [
    "a[:, ::-1, 0]"
   ]
  },
  {
   "cell_type": "code",
   "execution_count": 28,
   "id": "5b2daaa0",
   "metadata": {},
   "outputs": [
    {
     "data": {
      "text/plain": [
       "array([[[ 1.,  2.,  3.,  4.],\n",
       "        [ 5.,  6.,  7.,  8.],\n",
       "        [ 9., 10., 11., 12.],\n",
       "        [13., 14., 15., 16.]],\n",
       "\n",
       "       [[17., 18., 19., 20.],\n",
       "        [21., 22., 23., 24.],\n",
       "        [25., 26., 27., 28.],\n",
       "        [29., 30., 31., 32.]],\n",
       "\n",
       "       [[33., 34., 35., 36.],\n",
       "        [37., 38., 39., 40.],\n",
       "        [41., 42., 43., 44.],\n",
       "        [45., 46., 47., 48.]]])"
      ]
     },
     "execution_count": 28,
     "metadata": {},
     "output_type": "execute_result"
    }
   ],
   "source": [
    "a"
   ]
  },
  {
   "cell_type": "code",
   "execution_count": 32,
   "id": "ed14a2f5",
   "metadata": {},
   "outputs": [
    {
     "name": "stdout",
     "output_type": "stream",
     "text": [
      "1.0\n",
      "4.0\n"
     ]
    }
   ],
   "source": [
    "print(a[0, 0, 0])\n",
    "print(a[0, 0, 3])"
   ]
  },
  {
   "cell_type": "code",
   "execution_count": 33,
   "id": "83b881bf",
   "metadata": {},
   "outputs": [
    {
     "data": {
      "text/plain": [
       "array([1., 4.])"
      ]
     },
     "execution_count": 33,
     "metadata": {},
     "output_type": "execute_result"
    }
   ],
   "source": [
    "a[(0,0),(0,0),(0,3)]"
   ]
  },
  {
   "cell_type": "code",
   "execution_count": 36,
   "id": "3d0558df",
   "metadata": {},
   "outputs": [],
   "source": [
    "ia = np.array(((0, 0), (2, 2)))\n",
    "ja = np.array(((0, 0), (3,3)))\n",
    "za = np.array(((0,3), (0, 3)))"
   ]
  },
  {
   "cell_type": "code",
   "execution_count": null,
   "id": "a026ce7e",
   "metadata": {},
   "outputs": [],
   "source": [
    "a[(2, 3, 0), (2, 3, 3 )]"
   ]
  },
  {
   "cell_type": "code",
   "execution_count": 34,
   "id": "0e4e7399",
   "metadata": {},
   "outputs": [
    {
     "data": {
      "text/plain": [
       "array([45., 48.])"
      ]
     },
     "execution_count": 34,
     "metadata": {},
     "output_type": "execute_result"
    }
   ],
   "source": [
    "a[(2,2), (3, 3), (0, 3)]"
   ]
  },
  {
   "cell_type": "code",
   "execution_count": 37,
   "id": "2f65f520",
   "metadata": {},
   "outputs": [
    {
     "data": {
      "text/plain": [
       "array([[ 1.,  4.],\n",
       "       [45., 48.]])"
      ]
     },
     "execution_count": 37,
     "metadata": {},
     "output_type": "execute_result"
    }
   ],
   "source": [
    "a[ia, ja, za]"
   ]
  },
  {
   "cell_type": "code",
   "execution_count": 39,
   "id": "94bf68e8",
   "metadata": {},
   "outputs": [],
   "source": [
    "a = np.random.rand(4,4)*2"
   ]
  },
  {
   "cell_type": "code",
   "execution_count": 40,
   "id": "1de4bc83",
   "metadata": {},
   "outputs": [
    {
     "data": {
      "text/plain": [
       "array([[0.31056095, 1.95529295, 1.70176653, 0.4536323 ],\n",
       "       [1.8862577 , 0.07322627, 0.39307017, 0.42391245],\n",
       "       [1.24764424, 1.02372178, 1.91509674, 0.15181974],\n",
       "       [1.2405511 , 1.2675003 , 1.11758743, 1.11192305]])"
      ]
     },
     "execution_count": 40,
     "metadata": {},
     "output_type": "execute_result"
    }
   ],
   "source": [
    "a"
   ]
  },
  {
   "cell_type": "code",
   "execution_count": null,
   "id": "f853894e",
   "metadata": {},
   "outputs": [],
   "source": [
    "# Values between 0.5 and 1.5"
   ]
  },
  {
   "cell_type": "code",
   "execution_count": 42,
   "id": "ff31ec7d",
   "metadata": {
    "scrolled": true
   },
   "outputs": [],
   "source": [
    "b = (a>= 0.5) & (a<=1.5)"
   ]
  },
  {
   "cell_type": "code",
   "execution_count": 44,
   "id": "f3947979",
   "metadata": {},
   "outputs": [
    {
     "data": {
      "text/plain": [
       "array([[0, 0, 0, 0],\n",
       "       [0, 0, 0, 0],\n",
       "       [1, 1, 0, 0],\n",
       "       [1, 1, 1, 1]])"
      ]
     },
     "execution_count": 44,
     "metadata": {},
     "output_type": "execute_result"
    }
   ],
   "source": [
    "b.astype(int)"
   ]
  },
  {
   "cell_type": "code",
   "execution_count": 60,
   "id": "915f5c05",
   "metadata": {},
   "outputs": [],
   "source": [
    "ms =np.array([[17, 24,  1,  8, 15],\n",
    " [23,  5,  7, 14, 16],\n",
    " [ 4,  6, 13, 20, 22],\n",
    " [10, 12, 19, 21,  3],\n",
    " [11, 18, 25,  2,  9]])"
   ]
  },
  {
   "cell_type": "code",
   "execution_count": 51,
   "id": "8f06573c",
   "metadata": {},
   "outputs": [],
   "source": [
    "d = ms.ravel()"
   ]
  },
  {
   "cell_type": "code",
   "execution_count": 52,
   "id": "69536880",
   "metadata": {},
   "outputs": [],
   "source": [
    "checker = np.arange(1, 26)"
   ]
  },
  {
   "cell_type": "code",
   "execution_count": 54,
   "id": "71e59770",
   "metadata": {},
   "outputs": [],
   "source": [
    "d.sort()"
   ]
  },
  {
   "cell_type": "code",
   "execution_count": 56,
   "id": "f1bffd77",
   "metadata": {},
   "outputs": [
    {
     "data": {
      "text/plain": [
       "True"
      ]
     },
     "execution_count": 56,
     "metadata": {},
     "output_type": "execute_result"
    }
   ],
   "source": [
    "np.allclose(checker , d)"
   ]
  },
  {
   "cell_type": "code",
   "execution_count": 57,
   "id": "a4d2dc7b",
   "metadata": {},
   "outputs": [
    {
     "data": {
      "text/plain": [
       "True"
      ]
     },
     "execution_count": 57,
     "metadata": {},
     "output_type": "execute_result"
    }
   ],
   "source": [
    "all(checker == d)"
   ]
  },
  {
   "cell_type": "code",
   "execution_count": 64,
   "id": "91022285",
   "metadata": {},
   "outputs": [
    {
     "data": {
      "text/plain": [
       "array([ True,  True,  True,  True,  True])"
      ]
     },
     "execution_count": 64,
     "metadata": {},
     "output_type": "execute_result"
    }
   ],
   "source": [
    "65 == ms.sum(axis=0)"
   ]
  },
  {
   "cell_type": "code",
   "execution_count": 65,
   "id": "76c379e1",
   "metadata": {},
   "outputs": [],
   "source": [
    "b = np.random.randn(4,5,6)"
   ]
  },
  {
   "cell_type": "code",
   "execution_count": 66,
   "id": "71f99b61",
   "metadata": {},
   "outputs": [
    {
     "data": {
      "text/plain": [
       "array([[[ 1.50207808e+00,  4.55333251e-01,  8.52576969e-01,\n",
       "         -3.33290676e-03,  4.78891757e-02, -7.80349408e-01],\n",
       "        [ 1.30715104e+00, -1.97575662e+00, -5.62290267e-01,\n",
       "          1.55876052e+00, -1.64605056e-01, -3.43224968e-01],\n",
       "        [-1.59113123e+00, -8.53761843e-01,  5.10889072e-01,\n",
       "          7.00266645e-01, -7.54211462e-01, -7.75330838e-01],\n",
       "        [-1.53526286e+00,  2.12374062e-01,  2.70745007e-01,\n",
       "         -8.29798887e-01, -1.57100959e+00,  2.99791962e+00],\n",
       "        [ 7.11146941e-01,  8.36925194e-01,  2.12063764e+00,\n",
       "         -5.11097579e-01, -4.51666551e-01,  6.42288447e-01]],\n",
       "\n",
       "       [[-7.14736806e-01,  1.11424514e+00,  4.75261622e-01,\n",
       "         -2.47332987e-01,  2.44054113e+00,  1.42212406e+00],\n",
       "        [ 4.80801796e-01,  1.40391201e+00, -3.07867992e-01,\n",
       "          1.18818212e+00, -1.53944784e-01, -1.93677835e+00],\n",
       "        [ 4.57893279e-01,  8.89716390e-01,  1.42235030e-01,\n",
       "         -1.61460824e+00,  6.11112358e-01, -8.26994283e-02],\n",
       "        [-1.48374558e+00, -1.15864033e+00,  8.32417793e-02,\n",
       "         -1.15553221e+00, -1.33839097e+00, -1.70853329e+00],\n",
       "        [-8.05613341e-01,  3.89479582e-01, -6.17723803e-01,\n",
       "          9.03333437e-01, -9.05722738e-01,  3.41030274e-01]],\n",
       "\n",
       "       [[-2.32486426e+00,  1.04961525e+00, -7.50173280e-01,\n",
       "         -1.47433009e+00,  1.50507770e+00, -9.54172194e-01],\n",
       "        [-8.20830750e-01, -2.32068420e-01, -7.78440723e-01,\n",
       "         -1.21600301e-01,  6.42730241e-01,  2.28872324e-01],\n",
       "        [-1.79769268e+00,  1.36407068e+00, -1.09577326e+00,\n",
       "          3.34053946e-01, -1.57014422e-01, -2.20126731e-01],\n",
       "        [ 1.34359152e+00, -1.39749793e+00, -8.75546627e-01,\n",
       "         -1.54939739e+00, -2.69980705e-01,  6.40127090e-01],\n",
       "        [-8.85168982e-01,  1.28446476e+00, -1.37756668e-01,\n",
       "          1.80090680e+00, -1.14044417e+00,  4.19390623e-01]],\n",
       "\n",
       "       [[ 8.63795822e-02, -9.37951456e-01,  1.12331265e+00,\n",
       "          5.27858182e-01,  5.57036872e-01,  2.40656156e-01],\n",
       "        [ 1.83637370e-02, -2.17382450e+00,  1.38458609e+00,\n",
       "          2.99553989e+00,  3.62652568e-01,  1.19838782e+00],\n",
       "        [-1.11302825e-01,  7.27887287e-01,  8.42759993e-01,\n",
       "         -4.29677940e-01, -6.07959395e-01, -9.30898060e-01],\n",
       "        [-7.27740011e-01,  5.00235356e-01, -4.08396025e-02,\n",
       "         -5.78868055e-01, -1.50916352e-01, -6.31647749e-01],\n",
       "        [-4.08881396e-01, -4.04710184e-01,  5.19049449e-01,\n",
       "         -1.30187970e+00,  1.15822077e+00,  1.20789094e-03]]])"
      ]
     },
     "execution_count": 66,
     "metadata": {},
     "output_type": "execute_result"
    }
   ],
   "source": [
    "b"
   ]
  },
  {
   "cell_type": "code",
   "execution_count": 70,
   "id": "deaa7b20",
   "metadata": {},
   "outputs": [
    {
     "data": {
      "text/plain": [
       "120"
      ]
     },
     "execution_count": 70,
     "metadata": {},
     "output_type": "execute_result"
    }
   ],
   "source": [
    "# Give me the number of elements in b\n",
    "np.product(b.shape)"
   ]
  }
 ],
 "metadata": {
  "kernelspec": {
   "display_name": "Python 3 (ipykernel)",
   "language": "python",
   "name": "python3"
  },
  "language_info": {
   "codemirror_mode": {
    "name": "ipython",
    "version": 3
   },
   "file_extension": ".py",
   "mimetype": "text/x-python",
   "name": "python",
   "nbconvert_exporter": "python",
   "pygments_lexer": "ipython3",
   "version": "3.9.16"
  }
 },
 "nbformat": 4,
 "nbformat_minor": 5
}
