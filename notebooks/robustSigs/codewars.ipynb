{
 "cells": [
  {
   "cell_type": "code",
   "execution_count": 67,
   "metadata": {},
   "outputs": [],
   "source": [
    "import numpy as np\n",
    "from sklearn.decomposition import PCA\n",
    "import matplotlib.pyplot as plt"
   ]
  },
  {
   "cell_type": "code",
   "execution_count": null,
   "id": "4abea846-11c3-4834-854c-2c495717d96b",
   "metadata": {
    "collapsed": false,
    "jupyter": {
     "outputs_hidden": false
    }
   },
   "outputs": [],
   "source": [
    "def narcissistic( value ):\n",
    "    STORE_VAL = value\n",
    "    val_str = str(value)\n",
    "    list_digits = [int(j) for j in val_str]\n",
    "    ndigits = list_digits.__len__()\n",
    "    sum_digits = 0\n",
    "    for digit in list_digits:\n",
    "        sum_digits += digit**ndigits \n",
    "        \n",
    "    return STORE_VAL == sum_digits "
   ]
  },
  {
   "cell_type": "code",
   "execution_count": 10,
   "id": "70569c29-8701-49bc-bfb7-729b9605d2d0",
   "metadata": {
    "collapsed": false,
    "jupyter": {
     "outputs_hidden": false
    }
   },
   "outputs": [],
   "source": [
    "def get_count(sentence):\n",
    "    VOWELS='aeiouAEIOU'\n",
    "    count = sum([1 for char in sentence if char in VOWELS])\n",
    "    return count\n",
    "\n",
    "\n",
    "def get_count(sentence):\n",
    "    return sum([ for char in ])"
   ]
  },
  {
   "cell_type": "code",
   "execution_count": 42,
   "id": "5cdd8952-2997-43bc-932f-88b280edd5a0",
   "metadata": {
    "collapsed": false,
    "jupyter": {
     "outputs_hidden": false
    }
   },
   "outputs": [],
   "source": [
    "def get_middle(s):\n",
    "    n = s.__len__()\n",
    "    half = int(n/2)\n",
    "    if n % 2 == 0 :\n",
    "        print('running here')\n",
    "        return s[half-1: half+1]\n",
    "    else:\n",
    "        return s[half]\n",
    "\n",
    "\n",
    "def get_middle0(s):\n",
    "    index, odd = divmod(s.__len__(), 2)\n",
    "    return s[index] if odd else s[index-1 : index+1]"
   ]
  },
  {
   "cell_type": "code",
   "execution_count": 70,
   "id": "934b2342-929f-4380-87d9-a2a1898294cf",
   "metadata": {
    "collapsed": false,
    "jupyter": {
     "outputs_hidden": false
    }
   },
   "outputs": [],
   "source": [
    "def find_even_index(arr):\n",
    "    n = len(arr)\n",
    "    index = 0\n",
    "    while index < n:\n",
    "        if sum(arr[:index]) == sum(arr[index+1:]):\n",
    "            return index\n",
    "        else:\n",
    "            index +=1 \n",
    "            \n",
    "    return -1\n",
    "\n",
    "\n",
    "def find_even_index(arr):\n",
    "    for index in range(len(arr)):\n",
    "     if sum(arr[:index]) == sum(arr[index+1:]):\n",
    "            return index\n",
    "    return -1"
   ]
  },
  {
   "cell_type": "code",
   "execution_count": 108,
   "id": "f7b0c00b-2bc7-45ac-8be1-f9be48b3cfb8",
   "metadata": {
    "collapsed": false,
    "jupyter": {
     "outputs_hidden": false
    }
   },
   "outputs": [],
   "source": [
    "def to_camel_case(text):\n",
    "    text = text.translate(text.maketrans(\"_-\", \",,\"))\n",
    "    lead_word, *rest_word = text.split(\",\")\n",
    "\n",
    "    return lead_word+\"\".join([word.title() for word in rest_word])\n",
    "    \n",
    "\n",
    "def to_camel_case(text):\n",
    "    text = text.replace(\"-\", ',').replace(\"_\", ',')\n",
    "    "
   ]
  },
  {
   "cell_type": "code",
   "execution_count": 148,
   "id": "ada77e36-e4e2-4451-89e1-ca5bdda1d7b5",
   "metadata": {
    "collapsed": false,
    "jupyter": {
     "outputs_hidden": false
    }
   },
   "outputs": [],
   "source": [
    "def reverse_words(text):\n",
    "    return \" \".join([word[::-1] for word in text.split(\" \")]) "
   ]
  },
  {
   "cell_type": "code",
   "execution_count": null,
   "id": "5dffe759-00a4-4ea9-a51e-bd918300aad4",
   "metadata": {
    "collapsed": false,
    "jupyter": {
     "outputs_hidden": false
    }
   },
   "outputs": [],
   "source": [
    "def spot_fake(arr):\n",
    "    for i in range(len(arr)):\n",
    "        return arr"
   ]
  },
  {
   "cell_type": "code",
   "execution_count": 126,
   "id": "fce29f5a-7625-42a6-9b44-95cc4af95fab",
   "metadata": {
    "collapsed": false,
    "jupyter": {
     "outputs_hidden": false
    }
   },
   "outputs": [],
   "source": [
    "arr = [5, 2, 4, 6, 8, 12]\n",
    "\n",
    "def spot_fake(arr):\n",
    "    base_checker = arr[0] % 2\n",
    "    for num in arr[1:]:\n",
    "        if base_checker != num % 2:\n",
    "            return num\n",
    "     "
   ]
  },
  {
   "cell_type": "code",
   "execution_count": 135,
   "id": "9792f017-1df8-4675-9c20-6f1fc2ef8581",
   "metadata": {
    "collapsed": false,
    "jupyter": {
     "outputs_hidden": false
    }
   },
   "outputs": [],
   "source": [
    "def pig_it(text):\n",
    "    return \" \".join(word[1:] + word[0] + 'ay' if word.isalpha() else word for word in text.split(\" \"))"
   ]
  },
  {
   "cell_type": "code",
   "execution_count": 138,
   "id": "95ab06a7-878c-464a-a381-c8b239081ba1",
   "metadata": {
    "collapsed": false,
    "jupyter": {
     "outputs_hidden": false
    }
   },
   "outputs": [],
   "source": [
    "def six():\n",
    "    return 6\n",
    "\n",
    "def two():\n",
    "    return 2\n",
    "\n",
    "def times(n):\n",
    "    return []*n"
   ]
  },
  {
   "cell_type": "code",
   "execution_count": 139,
   "id": "0472aa50-a609-402c-bdb5-a93ef38b11f8",
   "metadata": {
    "collapsed": false,
    "jupyter": {
     "outputs_hidden": false
    }
   },
   "outputs": [
    {
     "ename": "TypeError",
     "evalue": "six() takes 0 positional arguments but 1 was given",
     "output_type": "error",
     "traceback": [
      "\u001b[0;31m---------------------------------------------------------------------------\u001b[0m",
      "\u001b[0;31mTypeError\u001b[0m                                 Traceback (most recent call last)",
      "Cell \u001b[0;32mIn[139], line 1\u001b[0m\n\u001b[0;32m----> 1\u001b[0m \u001b[43msix\u001b[49m\u001b[43m(\u001b[49m\u001b[43mtimes\u001b[49m\u001b[43m(\u001b[49m\u001b[43mtwo\u001b[49m\u001b[43m(\u001b[49m\u001b[43m)\u001b[49m\u001b[43m)\u001b[49m\u001b[43m)\u001b[49m\n",
      "\u001b[0;31mTypeError\u001b[0m: six() takes 0 positional arguments but 1 was given"
     ]
    }
   ],
   "source": [
    "six(times(two()))"
   ]
  },
  {
   "cell_type": "code",
   "execution_count": 143,
   "id": "74660f70-89f2-421a-a913-38e707a110ce",
   "metadata": {
    "collapsed": false,
    "jupyter": {
     "outputs_hidden": false
    }
   },
   "outputs": [
    {
     "data": {
      "text/plain": [
       "2"
      ]
     },
     "execution_count": 143,
     "metadata": {},
     "output_type": "execute_result"
    }
   ],
   "source": [
    "'100001'.count('1')"
   ]
  },
  {
   "cell_type": "code",
   "execution_count": 127,
   "id": "c8b1a8ea-06e2-4157-89b1-3441c53a2694",
   "metadata": {
    "collapsed": false,
    "jupyter": {
     "outputs_hidden": false
    }
   },
   "outputs": [
    {
     "data": {
      "text/plain": [
       "2"
      ]
     },
     "execution_count": 127,
     "metadata": {},
     "output_type": "execute_result"
    }
   ],
   "source": [
    "def count_ones(n):\n",
    "    return bin(n).count('1')"
   ]
  },
  {
   "cell_type": "code",
   "execution_count": 140,
   "id": "33ed9b82-bd7a-4f52-ba5b-391a9c6bb5cf",
   "metadata": {
    "collapsed": false,
    "jupyter": {
     "outputs_hidden": false
    }
   },
   "outputs": [
    {
     "data": {
      "text/plain": [
       "'theStealthWarrior'"
      ]
     },
     "execution_count": 140,
     "metadata": {},
     "output_type": "execute_result"
    }
   ],
   "source": [
    "to_camel_case(text)"
   ]
  },
  {
   "cell_type": "code",
   "execution_count": 114,
   "id": "19336b08-6a63-4b8c-9648-80016f81432f",
   "metadata": {
    "collapsed": false,
    "jupyter": {
     "outputs_hidden": false
    }
   },
   "outputs": [
    {
     "data": {
      "text/plain": [
       "'roirraw-htlaets-eht'"
      ]
     },
     "execution_count": 114,
     "metadata": {},
     "output_type": "execute_result"
    }
   ],
   "source": [
    "text[::-1]"
   ]
  },
  {
   "cell_type": "code",
   "execution_count": 112,
   "id": "9dad0da7-a28d-4476-9358-4b5fabafe209",
   "metadata": {
    "collapsed": false,
    "jupyter": {
     "outputs_hidden": false
    }
   },
   "outputs": [
    {
     "data": {
      "text/plain": [
       "'theStealthWarrior'"
      ]
     },
     "execution_count": 112,
     "metadata": {},
     "output_type": "execute_result"
    }
   ],
   "source": [
    "to_camel_case(text0)"
   ]
  },
  {
   "cell_type": "code",
   "execution_count": 4,
   "metadata": {},
   "outputs": [
    {
     "data": {
      "text/plain": [
       "10"
      ]
     },
     "execution_count": 4,
     "metadata": {},
     "output_type": "execute_result"
    }
   ],
   "source": [
    "(str([1, 2,3, 3,]).replace('3', '')).__len__()"
   ]
  },
  {
   "cell_type": "code",
   "execution_count": 5,
   "metadata": {},
   "outputs": [
    {
     "ename": "SyntaxError",
     "evalue": "starred assignment target must be in a list or tuple (796869116.py, line 1)",
     "output_type": "error",
     "traceback": [
      "\u001b[0;36m  Cell \u001b[0;32mIn[5], line 1\u001b[0;36m\u001b[0m\n\u001b[0;31m    *nums = [1, 2, 2, 3]\u001b[0m\n\u001b[0m    ^\u001b[0m\n\u001b[0;31mSyntaxError\u001b[0m\u001b[0;31m:\u001b[0m starred assignment target must be in a list or tuple\n"
     ]
    }
   ],
   "source": [
    "*nums = [1, 2, 2, 3]"
   ]
  },
  {
   "cell_type": "code",
   "execution_count": null,
   "metadata": {},
   "outputs": [],
   "source": [
    "x = [1,2,3,2,2,2,3,4]\n",
    ">>> list(filter((2).__ne__, x))\n",
    "[1, 3, 3, 4]"
   ]
  },
  {
   "cell_type": "code",
   "execution_count": 18,
   "metadata": {},
   "outputs": [
    {
     "data": {
      "text/plain": [
       "[1, 3, 4, 5]"
      ]
     },
     "execution_count": 18,
     "metadata": {},
     "output_type": "execute_result"
    }
   ],
   "source": [
    "nums0 = [1, 2, 3, 4,2, 5]\n",
    "list(filter((2).__ne__, nums0))"
   ]
  },
  {
   "cell_type": "code",
   "execution_count": 21,
   "metadata": {},
   "outputs": [],
   "source": [
    "class V(object):\n",
    "    def __init__(self, beta, mu0, t, R):\n",
    "        self.beta, self.mu0, self.t, self.R\n",
    "\n",
    "\n",
    "    def value(self, r):\n",
    "        beta, mu0, t, R = self.beta, self.mu0, self.t, self.R\n",
    "        t = float(t) # ensure float divisons\n",
    "        v = (beta/2*mu0)**t * 1/(t +1) * (R**(1+ t) - r**(1 + t))\n",
    "        return v"
   ]
  },
  {
   "cell_type": "code",
   "execution_count": 22,
   "metadata": {},
   "outputs": [],
   "source": [
    "class V0(object):\n",
    "    def __init__(self, beta, mu0, n, R):\n",
    "        self.beta, self.mu0, self.n, self.R\n",
    "\n",
    "    def value(self, r):\n",
    "        beta, mu0, n, R = self.beta, self.mu0, self.n, self.R\n",
    "        n = float(n)  # ensure float division\n",
    "        v = (beta/2*mu0)**(1/n) *  (n/n+1) * (R**(1 + (1/n)) - r**(1 + (1/n)))\n",
    "\n",
    "        return v"
   ]
  },
  {
   "cell_type": "code",
   "execution_count": 33,
   "metadata": {},
   "outputs": [],
   "source": [
    "class Y2(object):\n",
    "    def value(self, t, v0=None):\n",
    "        if v0 is not None:\n",
    "            self.v0 = v0\n",
    "        if not hasattr(self, 'v0'):\n",
    "            print(\"You cannot call value(t) without \"  \n",
    "                  \"first calling value(t, v0) to set v0\")\n",
    "            return None\n",
    "        g = 9.81\n",
    "        return self.v0*t - 0.5 * g*t**2"
   ]
  },
  {
   "cell_type": "code",
   "execution_count": 34,
   "metadata": {},
   "outputs": [],
   "source": [
    "def value(self, t, v0=None):\n",
    "    if v0 is not None:\n",
    "        self.v0 = v0\n",
    "    g = 9.81\n",
    "    try:\n",
    "        self.v0*t - 0.5 * g*t**2 \n",
    "    except AttributeError:\n",
    "        msg=\"You cannont call value(t) without first\"\\\n",
    "            \"calling value(t, v0) to set v0\"\n",
    "        raise TypeError(msg)\n",
    "\n",
    "    return value"
   ]
  },
  {
   "cell_type": "code",
   "execution_count": 25,
   "metadata": {},
   "outputs": [],
   "source": [
    "y = Y2() \n"
   ]
  },
  {
   "cell_type": "code",
   "execution_count": 27,
   "metadata": {},
   "outputs": [],
   "source": [
    "v=y.value(0.1, 5)"
   ]
  },
  {
   "cell_type": "code",
   "execution_count": 35,
   "metadata": {},
   "outputs": [
    {
     "data": {
      "text/plain": [
       "312.5733333333333"
      ]
     },
     "execution_count": 35,
     "metadata": {},
     "output_type": "execute_result"
    }
   ],
   "source": [
    "937.72 / 3"
   ]
  },
  {
   "cell_type": "code",
   "execution_count": 28,
   "metadata": {},
   "outputs": [
    {
     "data": {
      "text/plain": [
       "0.45094999999999996"
      ]
     },
     "execution_count": 28,
     "metadata": {},
     "output_type": "execute_result"
    }
   ],
   "source": [
    "v\n"
   ]
  },
  {
   "cell_type": "code",
   "execution_count": 31,
   "metadata": {},
   "outputs": [
    {
     "data": {
      "text/plain": [
       "0.8038"
      ]
     },
     "execution_count": 31,
     "metadata": {},
     "output_type": "execute_result"
    }
   ],
   "source": [
    "def value(self, t, v0=None):\n",
    "    "
   ]
  },
  {
   "cell_type": "code",
   "execution_count": 4,
   "metadata": {},
   "outputs": [],
   "source": [
    "sigma = np.array([[1, 0.5], [0.5, 1]])"
   ]
  },
  {
   "cell_type": "code",
   "execution_count": 5,
   "metadata": {},
   "outputs": [],
   "source": [
    "l = np.linalg.cholesky(sigma)"
   ]
  },
  {
   "cell_type": "code",
   "execution_count": 6,
   "metadata": {},
   "outputs": [
    {
     "data": {
      "text/plain": [
       "array([[1.       , 0.       ],\n",
       "       [0.5      , 0.8660254]])"
      ]
     },
     "execution_count": 6,
     "metadata": {},
     "output_type": "execute_result"
    }
   ],
   "source": [
    "l"
   ]
  },
  {
   "cell_type": "code",
   "execution_count": 10,
   "metadata": {},
   "outputs": [
    {
     "data": {
      "text/plain": [
       "array([[1. , 0.5],\n",
       "       [0.5, 1. ]])"
      ]
     },
     "execution_count": 10,
     "metadata": {},
     "output_type": "execute_result"
    }
   ],
   "source": [
    "l @l.conju().T"
   ]
  },
  {
   "cell_type": "code",
   "execution_count": 38,
   "metadata": {},
   "outputs": [],
   "source": [
    "def cvPCA(X, maxcols=np.inf):\n",
    "    \"\"\"X is 2 x stimuli x neurons\"\"\"\n",
    "    pca = PCA(n_components=min(maxcols, X.shape[1])).fit(X[0].T)\n",
    "    u = pca.components_.T # eigenvalues of training set\n",
    "    sv = pca.singular_values_ # singular values of training set \n",
    "    xproj = X[0].T @ (u / sv) # xproj is the cross-validated eigenvectors\n",
    "    cproj0 = X[0] @ xproj\n",
    "    cproj1 = X[1] @ xproj\n",
    "    ss = (cproj0 * cproj1).sum(axis=0)\n",
    "    return ss, u, sv"
   ]
  },
  {
   "cell_type": "code",
   "execution_count": 33,
   "metadata": {},
   "outputs": [],
   "source": [
    "X = np.random.randn(2, 2)"
   ]
  },
  {
   "cell_type": "code",
   "execution_count": 34,
   "metadata": {},
   "outputs": [],
   "source": [
    "y = l @ X.T"
   ]
  },
  {
   "cell_type": "code",
   "execution_count": 35,
   "metadata": {},
   "outputs": [],
   "source": [
    "X0 = np.array([X, X])"
   ]
  },
  {
   "cell_type": "code",
   "execution_count": 65,
   "metadata": {},
   "outputs": [
    {
     "data": {
      "text/plain": [
       "(2,)"
      ]
     },
     "execution_count": 65,
     "metadata": {},
     "output_type": "execute_result"
    }
   ],
   "source": [
    "ss0.shape"
   ]
  },
  {
   "cell_type": "code",
   "execution_count": 40,
   "metadata": {},
   "outputs": [],
   "source": [
    "ss0, u, sv = cvPCA(X0)"
   ]
  },
  {
   "cell_type": "code",
   "execution_count": 43,
   "metadata": {},
   "outputs": [
    {
     "data": {
      "text/plain": [
       "1.0"
      ]
     },
     "execution_count": 43,
     "metadata": {},
     "output_type": "execute_result"
    }
   ],
   "source": [
    "np.linalg.norm(u[1], 2)"
   ]
  },
  {
   "cell_type": "code",
   "execution_count": 50,
   "metadata": {},
   "outputs": [],
   "source": [
    "def removeDuplicates(nums):\n",
    "    nums = list(set(nums))\n",
    "    print(nums)\n",
    "    return len(nums)"
   ]
  },
  {
   "cell_type": "code",
   "execution_count": 52,
   "metadata": {},
   "outputs": [],
   "source": [
    "nums = [1,1,2]\n",
    "nums0 = [0,0,1,1,1,2,2,3,3,4]"
   ]
  },
  {
   "cell_type": "code",
   "execution_count": 53,
   "metadata": {},
   "outputs": [
    {
     "name": "stdout",
     "output_type": "stream",
     "text": [
      "[0, 1, 2, 3, 4]\n"
     ]
    },
    {
     "data": {
      "text/plain": [
       "5"
      ]
     },
     "execution_count": 53,
     "metadata": {},
     "output_type": "execute_result"
    }
   ],
   "source": [
    "removeDuplicates(nums0)"
   ]
  },
  {
   "cell_type": "code",
   "execution_count": 45,
   "metadata": {},
   "outputs": [
    {
     "data": {
      "text/plain": [
       "[1, 2, 4]"
      ]
     },
     "execution_count": 45,
     "metadata": {},
     "output_type": "execute_result"
    }
   ],
   "source": [
    "list(set([1, 1, 2, 4]))"
   ]
  },
  {
   "cell_type": "code",
   "execution_count": 60,
   "metadata": {},
   "outputs": [],
   "source": [
    "def rmDuplicates(nums):\n",
    "    for i, num in enumerate(nums):\n",
    "        print(i, num, nums)\n",
    "        if num == nums[i+1]:  # need to figure out edgecase\n",
    "            nums.pop(i+1)\n",
    "    return k\n"
   ]
  },
  {
   "cell_type": "code",
   "execution_count": 64,
   "metadata": {},
   "outputs": [
    {
     "name": "stdout",
     "output_type": "stream",
     "text": [
      "0 1 [1, 1, 2]\n",
      "1 2 [1, 2]\n"
     ]
    },
    {
     "ename": "IndexError",
     "evalue": "list index out of range",
     "output_type": "error",
     "traceback": [
      "\u001b[0;31m---------------------------------------------------------------------------\u001b[0m",
      "\u001b[0;31mIndexError\u001b[0m                                Traceback (most recent call last)",
      "\u001b[1;32m/Users/duuta/ppp/notebooks/robustSigs/codewars.ipynb Cell 47\u001b[0m line \u001b[0;36m1\n\u001b[0;32m----> <a href='vscode-notebook-cell:/Users/duuta/ppp/notebooks/robustSigs/codewars.ipynb#X62sZmlsZQ%3D%3D?line=0'>1</a>\u001b[0m rmDuplicates(nums)\n",
      "\u001b[1;32m/Users/duuta/ppp/notebooks/robustSigs/codewars.ipynb Cell 47\u001b[0m line \u001b[0;36m4\n\u001b[1;32m      <a href='vscode-notebook-cell:/Users/duuta/ppp/notebooks/robustSigs/codewars.ipynb#X62sZmlsZQ%3D%3D?line=1'>2</a>\u001b[0m \u001b[39mfor\u001b[39;00m i, num \u001b[39min\u001b[39;00m \u001b[39menumerate\u001b[39m(nums):\n\u001b[1;32m      <a href='vscode-notebook-cell:/Users/duuta/ppp/notebooks/robustSigs/codewars.ipynb#X62sZmlsZQ%3D%3D?line=2'>3</a>\u001b[0m     \u001b[39mprint\u001b[39m(i, num, nums)\n\u001b[0;32m----> <a href='vscode-notebook-cell:/Users/duuta/ppp/notebooks/robustSigs/codewars.ipynb#X62sZmlsZQ%3D%3D?line=3'>4</a>\u001b[0m     \u001b[39mif\u001b[39;00m num \u001b[39m==\u001b[39m nums[i\u001b[39m+\u001b[39;49m\u001b[39m1\u001b[39;49m]: \n\u001b[1;32m      <a href='vscode-notebook-cell:/Users/duuta/ppp/notebooks/robustSigs/codewars.ipynb#X62sZmlsZQ%3D%3D?line=4'>5</a>\u001b[0m         nums\u001b[39m.\u001b[39mpop(i\u001b[39m+\u001b[39m\u001b[39m1\u001b[39m)\n\u001b[1;32m      <a href='vscode-notebook-cell:/Users/duuta/ppp/notebooks/robustSigs/codewars.ipynb#X62sZmlsZQ%3D%3D?line=5'>6</a>\u001b[0m \u001b[39mreturn\u001b[39;00m k\n",
      "\u001b[0;31mIndexError\u001b[0m: list index out of range"
     ]
    }
   ],
   "source": [
    "rmDuplicates(nums)"
   ]
  },
  {
   "cell_type": "code",
   "execution_count": 63,
   "metadata": {},
   "outputs": [],
   "source": [
    "jjjnums = [1, 1, 2]"
   ]
  },
  {
   "cell_type": "code",
   "execution_count": 76,
   "metadata": {},
   "outputs": [
    {
     "data": {
      "image/png": "[encoded data removed]",
      "text/plain": [
       "<Figure size 640x480 with 1 Axes>"
      ]
     },
     "metadata": {},
     "output_type": "display_data"
    }
   ],
   "source": [
    "fig, ax = plt.subplots(frameon=True)\n",
    "plt.plot(list(range(100)))\n",
    "plt.box(True)\n",
    "ax.patch.set_visible(False)\n",
    "fig.patch.set_visible(False)"
   ]
  },
  {
   "cell_type": "code",
   "execution_count": null,
   "metadata": {},
   "outputs": [],
   "source": []
  },
  {
   "cell_type": "code",
   "execution_count": null,
   "metadata": {},
   "outputs": [],
   "source": []
  },
  {
   "cell_type": "code",
   "execution_count": null,
   "metadata": {},
   "outputs": [],
   "source": []
  },
  {
   "cell_type": "code",
   "execution_count": 46,
   "metadata": {},
   "outputs": [
    {
     "data": {
      "text/plain": [
       "array([[1. , 0.5],\n",
       "       [0.5, 1. ]])"
      ]
     },
     "execution_count": 46,
     "metadata": {},
     "output_type": "execute_result"
    }
   ],
   "source": [
    "l @ l.T"
   ]
  },
  {
   "cell_type": "code",
   "execution_count": null,
   "metadata": {},
   "outputs": [],
   "source": []
  }
 ],
 "metadata": {
  "kernelspec": {
   "display_name": "Python 3 (ipykernel)",
   "language": "python",
   "name": "python3"
  },
  "language_info": {
   "codemirror_mode": {
    "name": "ipython",
    "version": 3
   },
   "file_extension": ".py",
   "mimetype": "text/x-python",
   "name": "python",
   "nbconvert_exporter": "python",
   "pygments_lexer": "ipython3",
   "version": "3.9.16"
  },
  "name": "codewars.ipynb"
 },
 "nbformat": 4,
 "nbformat_minor": 5
}
