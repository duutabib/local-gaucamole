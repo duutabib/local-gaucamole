{
 "cells": [
  {
   "cell_type": "code",
   "execution_count": 1,
   "id": "b34cd196",
   "metadata": {},
   "outputs": [
    {
     "name": "stdout",
     "output_type": "stream",
     "text": [
      "%pylab is deprecated, use %matplotlib inline and import the required libraries.\n",
      "Populating the interactive namespace from numpy and matplotlib\n"
     ]
    }
   ],
   "source": [
    "%pylab inline\n",
    "\n",
    "import os, sys\n",
    "import scipy\n",
    "import helpers as h\n",
    "from glob import glob\n",
    "from pynwb import NWBHDF5IO\n",
    "from scipy.io import loadmat\n",
    "from scipy.sparse.linalg import eigsh\n",
    "from mpl_toolkits import mplot3d\n",
    "from scipy.stats import skewnorm \n",
    "from scipy.stats import skew, kurtosis\n",
    "import matplotlib.gridspec as Gridspec\n",
    "\n",
    "plt.rcParams['figure.figsize'] = (15, 10) "
   ]
  },
  {
   "cell_type": "code",
   "execution_count": 6,
   "id": "5d8cf06c",
   "metadata": {},
   "outputs": [],
   "source": [
    "def abib_cdf(r, r_min = -np.inf, **kwargs):\n",
    "    r_kept = r[r>r_min]\n",
    "    print(f\"Dropped {len(r) - len(r_kept)} values less than {r_min=}\")\n",
    "    x = sorted(r_kept)\n",
    "    y = arange(1, len(r_kept)+1)/(len(r_kept))\n",
    "    plot(x,y, **kwargs)\n",
    "    xlabel(\"Samples\"); ylabel(\"Cumulative Probability\")\n",
    "    return r_kept\n",
    "\n",
    "\n",
    "def abib_metric(X):\n",
    "    n = X.shape[0]\n",
    "    X2 = X**2\n",
    "    EX2 = mean(sum(X2, axis=0))\n",
    "    r = EX2/n\n",
    "    return r \n",
    "\n",
    "\n",
    "def subG_(xs, t=linspace(0.01, 1000, 10000)):\n",
    "    sxs = xs**2\n",
    "    for j in t:\n",
    "        d = exp(sxs/j**2)\n",
    "        if mean(d) <= 2:\n",
    "            return j        \n",
    "    return np.inf\n",
    "\n",
    "def nwbfile_reader(path, tag='lickPiezo', **qargs):\n",
    "    \n",
    "    reader= NWBHDF5IO(path, mode='r', **qargs)\n",
    "    f = reader.read()\n",
    "    data = nwbfile.acquistion['tag'].data[()]\n",
    "    \n",
    "    return data"
   ]
  },
  {
   "cell_type": "code",
   "execution_count": 2,
   "id": "b18eb340",
   "metadata": {},
   "outputs": [],
   "source": [
    "data_root = \"/Users/duuta/ppp/data/stringer/\"\n",
    "data_files = [fname.split(\"/\")[-1] for fname in glob(f\"{data_root}natimg2800_M*.mat\")]\n",
    "#data_files"
   ]
  },
  {
   "cell_type": "code",
   "execution_count": 3,
   "id": "560d349d",
   "metadata": {},
   "outputs": [],
   "source": [
    "data = loadmat(os.path.join(data_root, data_files[1])\n",
    "               ,simplify_cells = True) "
   ]
  },
  {
   "cell_type": "code",
   "execution_count": null,
   "id": "25616ad9",
   "metadata": {},
   "outputs": [],
   "source": []
  }
 ],
 "metadata": {
  "kernelspec": {
   "display_name": "Python 3 (ipykernel)",
   "language": "python",
   "name": "python3"
  },
  "language_info": {
   "codemirror_mode": {
    "name": "ipython",
    "version": 3
   },
   "file_extension": ".py",
   "mimetype": "text/x-python",
   "name": "python",
   "nbconvert_exporter": "python",
   "pygments_lexer": "ipython3",
   "version": "3.9.16"
  }
 },
 "nbformat": 4,
 "nbformat_minor": 5
}
