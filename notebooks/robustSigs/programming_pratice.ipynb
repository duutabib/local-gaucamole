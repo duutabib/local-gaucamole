{
 "cells": [
  {
   "cell_type": "code",
   "execution_count": 4,
   "id": "60a229b4-a3f2-4268-90c9-8fb694b5e6a1",
   "metadata": {
    "collapsed": false
   },
   "outputs": [],
   "source": [
    "import time\n",
    "import matplotlib.pyplot as plt\n",
    "import numpy as np"
   ]
  },
  {
   "cell_type": "code",
   "execution_count": 5,
   "id": "cc7ab77a-dae8-4af2-9c06-dcb355b9147e",
   "metadata": {
    "collapsed": false
   },
   "outputs": [],
   "source": [
    "def fib(n):\n",
    "    if n<=0:\n",
    "        return 0\n",
    "    if n<=1:\n",
    "        return 1\n",
    "    else:\n",
    "        return fib(n-1) + fib(n-2)"
   ]
  },
  {
   "cell_type": "code",
   "execution_count": 6,
   "id": "a8beb6ab-6d8a-4c04-8190-c76f32b6e1a4",
   "metadata": {
    "collapsed": false
   },
   "outputs": [],
   "source": [
    "calculated = {}\n",
    "def fib(n):\n",
    "    if n ==0:\n",
    "        return 0\n",
    "    if n == 1:\n",
    "        return 1\n",
    "    elif n in calcuated:\n",
    "        return calculated[n]\n",
    "    else:\n",
    "        calculated[n] = fib(n-1) + fib(n-2)\n",
    "        return calculated[n]\n",
    "showNumbers = False\n"
   ]
  },
  {
   "cell_type": "code",
   "execution_count": 7,
   "id": "63e37568-a998-4a63-a372-5718f779dfbf",
   "metadata": {
    "collapsed": false
   },
   "outputs": [],
   "source": [
    "numbers = np.arange(20)"
   ]
  },
  {
   "cell_type": "code",
   "execution_count": 9,
   "id": "2f294d98-e2dd-4fed-9653-fd127d675175",
   "metadata": {
    "collapsed": false
   },
   "outputs": [],
   "source": [
    "arr = [0, 1, 2, 3, 4]\n",
    "def max_subarray_sum(arr):\n",
    "    curr_max = 0\n",
    "    for i in range(len(arr)):\n",
    "        for j in range(i, len(arr)+1):\n",
    "            print(f'arr[{i}:{j}]', arr[i:j])\n",
    "            curr_max = max(curr_max , sum(arr[i:j]))\n",
    "    return curr_max "
   ]
  },
  {
   "cell_type": "code",
   "execution_count": 10,
   "id": "b566f130-f6d6-499e-b2ae-9bfb388539a1",
   "metadata": {
    "collapsed": false
   },
   "outputs": [
    {
     "name": "stdout",
     "output_type": "stream",
     "text": [
      "arr[0:0] []\n",
      "arr[0:1] [0]\n",
      "arr[0:2] [0, 1]\n",
      "arr[0:3] [0, 1, 2]\n",
      "arr[0:4] [0, 1, 2, 3]\n",
      "arr[0:5] [0, 1, 2, 3, 4]\n",
      "arr[1:1] []\n",
      "arr[1:2] [1]\n",
      "arr[1:3] [1, 2]\n",
      "arr[1:4] [1, 2, 3]\n",
      "arr[1:5] [1, 2, 3, 4]\n",
      "arr[2:2] []\n",
      "arr[2:3] [2]\n",
      "arr[2:4] [2, 3]\n",
      "arr[2:5] [2, 3, 4]\n",
      "arr[3:3] []\n",
      "arr[3:4] [3]\n",
      "arr[3:5] [3, 4]\n",
      "arr[4:4] []\n",
      "arr[4:5] [4]\n"
     ]
    },
    {
     "data": {
      "text/plain": [
       "10"
      ]
     },
     "execution_count": 10,
     "metadata": {},
     "output_type": "execute_result"
    }
   ],
   "source": [
    "max_subarray_sum(arr)"
   ]
  },
  {
   "cell_type": "code",
   "execution_count": 11,
   "id": "da25cc63-ffd1-4953-ace8-9dbbe9812e55",
   "metadata": {
    "collapsed": false
   },
   "outputs": [],
   "source": [
    "arr0 = [34, -50, 42, 14, -5, 86]"
   ]
  },
  {
   "cell_type": "code",
   "execution_count": 12,
   "id": "1bcf2ce7-9635-4784-92b3-2281414a19d1",
   "metadata": {
    "collapsed": false
   },
   "outputs": [
    {
     "name": "stdout",
     "output_type": "stream",
     "text": [
      "arr[0:0] []\n",
      "arr[0:1] [34]\n",
      "arr[0:2] [34, -50]\n",
      "arr[0:3] [34, -50, 42]\n",
      "arr[0:4] [34, -50, 42, 14]\n",
      "arr[0:5] [34, -50, 42, 14, -5]\n",
      "arr[0:6] [34, -50, 42, 14, -5, 86]\n",
      "arr[1:1] []\n",
      "arr[1:2] [-50]\n",
      "arr[1:3] [-50, 42]\n",
      "arr[1:4] [-50, 42, 14]\n",
      "arr[1:5] [-50, 42, 14, -5]\n",
      "arr[1:6] [-50, 42, 14, -5, 86]\n",
      "arr[2:2] []\n",
      "arr[2:3] [42]\n",
      "arr[2:4] [42, 14]\n",
      "arr[2:5] [42, 14, -5]\n",
      "arr[2:6] [42, 14, -5, 86]\n",
      "arr[3:3] []\n",
      "arr[3:4] [14]\n",
      "arr[3:5] [14, -5]\n",
      "arr[3:6] [14, -5, 86]\n",
      "arr[4:4] []\n",
      "arr[4:5] [-5]\n",
      "arr[4:6] [-5, 86]\n",
      "arr[5:5] []\n",
      "arr[5:6] [86]\n"
     ]
    },
    {
     "data": {
      "text/plain": [
       "137"
      ]
     },
     "execution_count": 12,
     "metadata": {},
     "output_type": "execute_result"
    }
   ],
   "source": [
    "max_subarray_sum(arr0)"
   ]
  },
  {
   "cell_type": "code",
   "execution_count": 13,
   "id": "2a1cd34e-023b-446c-b632-ca365f09d89e",
   "metadata": {
    "collapsed": false
   },
   "outputs": [],
   "source": [
    "arr1 = [8, -1, 3, 4]"
   ]
  },
  {
   "cell_type": "code",
   "execution_count": 14,
   "id": "24e59e5e-9d9b-4283-9a15-6da50ddbb4d5",
   "metadata": {
    "collapsed": false
   },
   "outputs": [
    {
     "name": "stdout",
     "output_type": "stream",
     "text": [
      "arr[0:0] []\n",
      "arr[0:1] [8]\n",
      "arr[0:2] [8, -1]\n",
      "arr[0:3] [8, -1, 3]\n",
      "arr[0:4] [8, -1, 3, 4]\n",
      "arr[1:1] []\n",
      "arr[1:2] [-1]\n",
      "arr[1:3] [-1, 3]\n",
      "arr[1:4] [-1, 3, 4]\n",
      "arr[2:2] []\n",
      "arr[2:3] [3]\n",
      "arr[2:4] [3, 4]\n",
      "arr[3:3] []\n",
      "arr[3:4] [4]\n"
     ]
    },
    {
     "data": {
      "text/plain": [
       "14"
      ]
     },
     "execution_count": 14,
     "metadata": {},
     "output_type": "execute_result"
    }
   ],
   "source": [
    "max_subarray_sum(arr1)\n"
   ]
  },
  {
   "cell_type": "code",
   "execution_count": 15,
   "id": "4585c94a-ab71-4012-ba17-3f4bfd1590c6",
   "metadata": {
    "collapsed": false
   },
   "outputs": [],
   "source": [
    "### Kadane alogrithm on max subarray problem\n",
    "\n",
    "def max_subarray_sum0(arr):\n",
    "    max_so_far = max_ending_here = 0\n",
    "    for x in arr:\n",
    "        max_ending_here = max(x, max_ending_here + x)\n",
    "        max_so_far = max(max_so_far, max_ending_here)\n",
    "\n",
    "    return max_so_far\n",
    "\n",
    "\n",
    "def min_subarray_sum0(arr):\n",
    "    min_so_far = min_ending_here = 0\n",
    "\n",
    "    for x in arr:\n",
    "        min_ending_here = min(x,  min__ending_here + x)\n",
    "        min_so_far = min(min_so_far , min_ending_here)\n",
    "    return min_so_far\n",
    "\n",
    "\n",
    "def maximum_circular_subarray(arr):\n",
    "    max_subarray_wraparound = max_subarray_sum0(arr) - min_subarray_sum0(arr)\n",
    "\n",
    "    return max(max_subarray_sum0(arr), max_subarray_wraparound)\n"
   ]
  },
  {
   "cell_type": "code",
   "execution_count": 16,
   "id": "9a2fef4e-43ec-4e22-b116-4ab5a8e76ddb",
   "metadata": {
    "collapsed": false
   },
   "outputs": [
    {
     "data": {
      "text/plain": [
       "137"
      ]
     },
     "execution_count": 16,
     "metadata": {},
     "output_type": "execute_result"
    }
   ],
   "source": [
    "max_subarray_sum0(arr0)"
   ]
  },
  {
   "cell_type": "code",
   "execution_count": 55,
   "id": "230507c2-c058-4da1-b74e-1f4c305a3862",
   "metadata": {
    "collapsed": false
   },
   "outputs": [],
   "source": [
    "def max_subarray(arr):\n",
    "    max_arr = []\n",
    "    curr_max = ult_max = 0\n",
    "    for x in arr:\n",
    "        curr_max = max(x, curr_max + x)\n",
    "        ult_max = max(curr_max, ult_max)\n",
    "        print(f'x: {x}  cmax: {curr_max} umax:{ult_max}')\n",
    "        if ult_max  curr_max :\n",
    "            max_arr.append(x)\n",
    "    return max_arr "
   ]
  },
  {
   "cell_type": "code",
   "execution_count": 56,
   "id": "dd54cfdf-212a-4883-80c6-5324804f5c3d",
   "metadata": {
    "collapsed": false
   },
   "outputs": [
    {
     "name": "stdout",
     "output_type": "stream",
     "text": [
      "x: 34  cmax: 34 umax:34\n",
      "x: -50  cmax: -16 umax:34\n",
      "x: 42  cmax: 42 umax:42\n",
      "x: 14  cmax: 56 umax:56\n",
      "x: -5  cmax: 51 umax:56\n",
      "x: 86  cmax: 137 umax:137\n"
     ]
    },
    {
     "data": {
      "text/plain": [
       "[34, -50, 42, 14, -5, 86]"
      ]
     },
     "execution_count": 56,
     "metadata": {},
     "output_type": "execute_result"
    }
   ],
   "source": [
    "max_subarray(arr0)"
   ]
  },
  {
   "cell_type": "code",
   "execution_count": 19,
   "id": "190ad418-56a9-4023-a30b-b03172647bb2",
   "metadata": {
    "collapsed": false
   },
   "outputs": [
    {
     "data": {
      "text/plain": [
       "[34, -50, 42, 14, -5, 86]"
      ]
     },
     "execution_count": 19,
     "metadata": {},
     "output_type": "execute_result"
    }
   ],
   "source": [
    "arr0"
   ]
  },
  {
   "cell_type": "code",
   "execution_count": 23,
   "id": "d0c5920c-2f09-4cac-8a21-ddc20c138ae0",
   "metadata": {
    "collapsed": false
   },
   "outputs": [
    {
     "data": {
      "text/plain": [
       "137"
      ]
     },
     "execution_count": 23,
     "metadata": {},
     "output_type": "execute_result"
    }
   ],
   "source": [
    "sum([ 42, 14, -5, 86])"
   ]
  },
  {
   "cell_type": "code",
   "execution_count": null,
   "id": "29e1899c-c56c-4b4b-9323-481176345e8d",
   "metadata": {
    "collapsed": false
   },
   "outputs": [],
   "source": [
    "def dynamic_sliding_window(arr):\n",
    "    min_length = float('inf')\n",
    "\n",
    "    # curr range and sum of sliding window\n",
    "    start = 0\n",
    "    end = 0\n",
    "    curr_sum = 0\n",
    "\n",
    "    # extend the sliding window until criteria is met\n",
    "    while end < len(arr):\n",
    "        curr_sum = curr_sum + arr[end]\n",
    "        end = end +1\n",
    "\n",
    "        # then contract the sliding window until it\n",
    "        # no longer meets our condition\n",
    "        while start < end and curr_sum >=x:\n",
    "            curr_sum = curr_sum  - arr[start]\n",
    "            start = start + 1\n",
    "\n",
    "            min_length = min(min_lenght, end - start + 1)\n",
    "\n",
    "    return min_length"
   ]
  },
  {
   "cell_type": "code",
   "execution_count": null,
   "id": "7d30b444-f6b1-49df-b903-ddd6ee249aa6",
   "metadata": {
    "collapsed": false
   },
   "outputs": [],
   "source": [
    "# Matrix determinant\n"
   ]
  },
  {
   "cell_type": "code",
   "execution_count": null,
   "id": "20c9be6d-bbc4-44b0-870b-66a98e251c6e",
   "metadata": {
    "collapsed": false
   },
   "outputs": [],
   "source": []
  }
 ],
 "metadata": {
  "kernelspec": {
   "argv": [
    "python",
    "-m",
    "ipykernel_launcher",
    "-f",
    "{connection_file}"
   ],
   "display_name": "Python 3 (ipykernel)",
   "env": null,
   "interrupt_mode": "signal",
   "language": "python",
   "metadata": {
    "debugger": true
   },
   "name": "python3"
  },
  "name": "programming_pratice.ipynb"
 },
 "nbformat": 4,
 "nbformat_minor": 5
}
