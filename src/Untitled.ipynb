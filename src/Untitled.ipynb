{
 "cells": [
  {
   "cell_type": "code",
   "execution_count": 1,
   "id": "17e70502",
   "metadata": {},
   "outputs": [
    {
     "name": "stdout",
     "output_type": "stream",
     "text": [
      "franctically getting all file paths...\n",
      "Here the data files  []\n",
      "here are all pickle paths ['/Users/duuta/ppp/data/stringer/dpickle/data_5.pickle', '/Users/duuta/ppp/data/stringer/dpickle/data_3.pickle', '/Users/duuta/ppp/data/stringer/dpickle/data_1.pickle', '/Users/duuta/ppp/data/stringer/dpickle/data_4.pickle', '/Users/duuta/ppp/data/stringer/dpickle/data_2.pickle', '/Users/duuta/ppp/data/stringer/dpickle/data_0.pickle']\n"
     ]
    }
   ],
   "source": [
    "import os\n",
    "import sys\n",
    "import pdb\n",
    "import scipy\n",
    "import math\n",
    "import time\n",
    "import pickle\n",
    "import random\n",
    "import utils as u\n",
    "import numpy as np\n",
    "import helpers as h\n",
    "from glob import glob\n",
    "from scipy.io import loadmat\n",
    "import matplotlib.pyplot as plt\n",
    "import matplotlib.gridspec as Gridspec\n",
    "from importlib import reload\n",
    "reload(u)\n",
    "\n",
    "print(\"franctically getting all file paths...\")\n",
    "data_root = \"/Users/duuta/ppp/data/stringer/dpickle/\"\n",
    "nroot = \"/Users/duuta/ppp/data/stringer/\"\n",
    "saveROOT=\"/Users/duuta/ppp/plots/makeplots/\"\n",
    "data_files = list(glob(f\"{nroot}natimg2800_M*.mat\"))\n",
    "data_names = [fname.split('/')[-1].strip('.mat').strip(\"natimg2800_\") for fname in data_files]\n",
    "print(\"Here the data files \", data_names)\n",
    "picklepaths = list(glob(f\"{data_root}data_*.pickle\"))\n",
    "print('here are all pickle paths', picklepaths)\n",
    "\n"
   ]
  },
  {
   "cell_type": "code",
   "execution_count": 3,
   "id": "02841d24",
   "metadata": {},
   "outputs": [
    {
     "name": "stdout",
     "output_type": "stream",
     "text": [
      "frantically reading all files ...\n"
     ]
    }
   ],
   "source": [
    "print(\"frantically reading all files ...\")\n",
    "# read files all \n",
    "ss_arr = [] # arr for  \n",
    "\n",
    "fpath = picklepaths[0]\n",
    "ofile = open(fpath, 'rb')\n",
    "data = pickle.load(ofile)\n",
    "ofile.close()"
   ]
  },
  {
   "cell_type": "code",
   "execution_count": 4,
   "id": "64681e71",
   "metadata": {},
   "outputs": [],
   "source": [
    "resp, spon, istim = h.unbox(data)\n",
    "resp = h.denoise_resp(resp, spon)\n",
    "    \n",
    "resp_ = h.dupSignal(resp, istim)\n"
   ]
  },
  {
   "cell_type": "code",
   "execution_count": 19,
   "id": "74207bb7",
   "metadata": {},
   "outputs": [
    {
     "ename": "TypeError",
     "evalue": "shuff_cvPCA() got an unexpected keyword argument 'maxcols'",
     "output_type": "error",
     "traceback": [
      "\u001b[0;31m---------------------------------------------------------------------------\u001b[0m",
      "\u001b[0;31mTypeError\u001b[0m                                 Traceback (most recent call last)",
      "Cell \u001b[0;32mIn[19], line 1\u001b[0m\n\u001b[0;32m----> 1\u001b[0m ss_resp \u001b[38;5;241m=\u001b[39m \u001b[43mu\u001b[49m\u001b[38;5;241;43m.\u001b[39;49m\u001b[43mshuff_cvPCA\u001b[49m\u001b[43m(\u001b[49m\u001b[43mresp_\u001b[49m\u001b[43m,\u001b[49m\u001b[43m \u001b[49m\u001b[43mnshuff\u001b[49m\u001b[38;5;241;43m=\u001b[39;49m\u001b[38;5;241;43m2\u001b[39;49m\u001b[43m,\u001b[49m\u001b[43m \u001b[49m\u001b[43mmaxcols\u001b[49m\u001b[38;5;241;43m=\u001b[39;49m\u001b[38;5;241;43m100\u001b[39;49m\u001b[43m)\u001b[49m\n\u001b[1;32m      2\u001b[0m ss_resp_ \u001b[38;5;241m=\u001b[39m ss_resp\u001b[38;5;241m.\u001b[39mmean(axis\u001b[38;5;241m=\u001b[39m\u001b[38;5;241m0\u001b[39m)\n",
      "\u001b[0;31mTypeError\u001b[0m: shuff_cvPCA() got an unexpected keyword argument 'maxcols'"
     ]
    }
   ],
   "source": [
    "ss_resp = u.shuff_cvPCA(resp_, nshuff=2, maxcols=100)\n",
    "ss_resp_ = ss_resp.mean(axis=0)"
   ]
  },
  {
   "cell_type": "code",
   "execution_count": 10,
   "id": "00ac3e58",
   "metadata": {},
   "outputs": [
    {
     "data": {
      "text/plain": [
       "(2, 2800, 10079)"
      ]
     },
     "execution_count": 10,
     "metadata": {},
     "output_type": "execute_result"
    }
   ],
   "source": [
    "resp_.shape"
   ]
  },
  {
   "cell_type": "code",
   "execution_count": 16,
   "id": "a167d065",
   "metadata": {},
   "outputs": [],
   "source": [
    "?u.shuff_cvPCA"
   ]
  },
  {
   "cell_type": "code",
   "execution_count": null,
   "id": "0fc9da25",
   "metadata": {},
   "outputs": [],
   "source": []
  }
 ],
 "metadata": {
  "kernelspec": {
   "display_name": "Python 3 (ipykernel)",
   "language": "python",
   "name": "python3"
  },
  "language_info": {
   "codemirror_mode": {
    "name": "ipython",
    "version": 3
   },
   "file_extension": ".py",
   "mimetype": "text/x-python",
   "name": "python",
   "nbconvert_exporter": "python",
   "pygments_lexer": "ipython3",
   "version": "3.9.16"
  }
 },
 "nbformat": 4,
 "nbformat_minor": 5
}
