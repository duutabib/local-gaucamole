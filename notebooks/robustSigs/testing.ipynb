{
 "cells": [
  {
   "cell_type": "code",
   "execution_count": 1,
   "id": "3154650d",
   "metadata": {},
   "outputs": [
    {
     "ename": "ModuleNotFoundError",
     "evalue": "No module named 'brainbox.io.one'",
     "output_type": "error",
     "traceback": [
      "\u001b[0;31m---------------------------------------------------------------------------\u001b[0m",
      "\u001b[0;31mModuleNotFoundError\u001b[0m                       Traceback (most recent call last)",
      "Cell \u001b[0;32mIn[1], line 2\u001b[0m\n\u001b[1;32m      1\u001b[0m \u001b[38;5;28;01mfrom\u001b[39;00m \u001b[38;5;21;01mone\u001b[39;00m\u001b[38;5;21;01m.\u001b[39;00m\u001b[38;5;21;01mapi\u001b[39;00m \u001b[38;5;28;01mimport\u001b[39;00m ONE\n\u001b[0;32m----> 2\u001b[0m \u001b[38;5;28;01mfrom\u001b[39;00m \u001b[38;5;21;01mbrainbox\u001b[39;00m\u001b[38;5;21;01m.\u001b[39;00m\u001b[38;5;21;01mio\u001b[39;00m\u001b[38;5;21;01m.\u001b[39;00m\u001b[38;5;21;01mone\u001b[39;00m \u001b[38;5;28;01mimport\u001b[39;00m SpikeSortingLoader\n\u001b[1;32m      3\u001b[0m \u001b[38;5;28;01mfrom\u001b[39;00m \u001b[38;5;21;01mibllib\u001b[39;00m\u001b[38;5;21;01m.\u001b[39;00m\u001b[38;5;21;01matlas\u001b[39;00m \u001b[38;5;28;01mimport\u001b[39;00m AllenAtlas\n\u001b[1;32m      5\u001b[0m one \u001b[38;5;241m=\u001b[39m ONE()\n",
      "\u001b[0;31mModuleNotFoundError\u001b[0m: No module named 'brainbox.io.one'"
     ]
    }
   ],
   "source": [
    "from one.api import ONE\n",
    "from brainbox.io.one import SpikeSortingLoader\n",
    "from ibllib.atlas import AllenAtlas\n",
    "\n",
    "one = ONE()\n",
    "ba = AllenAtlas()\n",
    "pid = 'da8dfec1-d265-44e8-84ce-6ae9c109b8bd'\n",
    "\n",
    "sl = SpikeSortingLoader(pid=pid, one=one, atlas=ba)\n",
    "spikes, clusters, channels = sl.load_spike_sorting()\n",
    "clusters = sl.merge_clusters(spikes, clusters, channels)"
   ]
  },
  {
   "cell_type": "code",
   "execution_count": 2,
   "id": "3b268798",
   "metadata": {},
   "outputs": [
    {
     "ename": "NameError",
     "evalue": "name 'brainbox' is not defined",
     "output_type": "error",
     "traceback": [
      "\u001b[0;31m---------------------------------------------------------------------------\u001b[0m",
      "\u001b[0;31mNameError\u001b[0m                                 Traceback (most recent call last)",
      "Cell \u001b[0;32mIn[2], line 2\u001b[0m\n\u001b[1;32m      1\u001b[0m \u001b[38;5;28;01mimport\u001b[39;00m \u001b[38;5;21;01mimportlib\u001b[39;00m\n\u001b[0;32m----> 2\u001b[0m importlib\u001b[38;5;241m.\u001b[39mreload(\u001b[43mbrainbox\u001b[49m\u001b[38;5;241m.\u001b[39mio\u001b[38;5;241m.\u001b[39mone)\n",
      "\u001b[0;31mNameError\u001b[0m: name 'brainbox' is not defined"
     ]
    }
   ],
   "source": [
    "import importlib\n",
    "importlib.reload(brainbox.io.one)"
   ]
  },
  {
   "cell_type": "code",
   "execution_count": null,
   "id": "cdace0e4",
   "metadata": {},
   "outputs": [],
   "source": []
  }
 ],
 "metadata": {
  "kernelspec": {
   "display_name": "Python 3 (ipykernel)",
   "language": "python",
   "name": "python3"
  },
  "language_info": {
   "codemirror_mode": {
    "name": "ipython",
    "version": 3
   },
   "file_extension": ".py",
   "mimetype": "text/x-python",
   "name": "python",
   "nbconvert_exporter": "python",
   "pygments_lexer": "ipython3",
   "version": "3.10.11"
  }
 },
 "nbformat": 4,
 "nbformat_minor": 5
}
