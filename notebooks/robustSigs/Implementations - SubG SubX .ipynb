{
 "cells": [
  {
   "cell_type": "code",
   "execution_count": 1,
   "id": "9042b426",
   "metadata": {},
   "outputs": [
    {
     "name": "stdout",
     "output_type": "stream",
     "text": [
      "%pylab is deprecated, use %matplotlib inline and import the required libraries.\n",
      "Populating the interactive namespace from numpy and matplotlib\n"
     ]
    }
   ],
   "source": [
    "%pylab inline"
   ]
  },
  {
   "cell_type": "code",
   "execution_count": 2,
   "id": "e6693083",
   "metadata": {},
   "outputs": [],
   "source": [
    "def subG(xs, t=linspace(0.01, 1000, 100000)):\n",
    "    sxs = xs**2\n",
    "    for j in t:\n",
    "        d = exp(sxs/j**2)\n",
    "        if mean(d) <= 2:\n",
    "            return j      \n",
    "    return np.inf\n",
    "\n",
    "def subE(xs, t = linspace(0.01, 1000, 100000)):\n",
    "    for j in t:\n",
    "        d = exp(abs(xs)/j)\n",
    "        if mean(d) <= 2:\n",
    "            print(mean(d))\n",
    "            return j\n",
    "    return np.inf\n",
    "\n"
   ]
  },
  {
   "cell_type": "code",
   "execution_count": null,
   "id": "c3bbe4af",
   "metadata": {},
   "outputs": [],
   "source": []
  }
 ],
 "metadata": {
  "kernelspec": {
   "display_name": "Python 3 (ipykernel)",
   "language": "python",
   "name": "python3"
  },
  "language_info": {
   "codemirror_mode": {
    "name": "ipython",
    "version": 3
   },
   "file_extension": ".py",
   "mimetype": "text/x-python",
   "name": "python",
   "nbconvert_exporter": "python",
   "pygments_lexer": "ipython3",
   "version": "3.9.16"
  }
 },
 "nbformat": 4,
 "nbformat_minor": 5
}
