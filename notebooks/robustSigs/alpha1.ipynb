{
 "cells": [
  {
   "cell_type": "code",
   "execution_count": 1,
   "id": "1d3e7afe-4eeb-412e-9606-6004552847e4",
   "metadata": {
    "collapsed": false,
    "jupyter": {
     "outputs_hidden": false
    }
   },
   "outputs": [
    {
     "name": "stdout",
     "output_type": "stream",
     "text": [
      "%pylab is deprecated, use %matplotlib inline and import the required libraries.\n",
      "Populating the interactive namespace from numpy and matplotlib\n"
     ]
    }
   ],
   "source": [
    "%pylab inline\n",
    "plt.style.use(\"default\")\n",
    "import os, sys\n",
    "import scipy\n",
    "import random\n",
    "import h5py\n",
    "import pandas as pd\n",
    "import helpers as h\n",
    "import spontHelpers as sh\n",
    "import utils as u\n",
    "import matplotlib as mpl\n",
    "from scipy.spatial.distance import pdist, squareform\n",
    "from glob import glob\n",
    "from scipy.io import loadmat\n",
    "from scipy.stats import skew, kurtosis\n",
    "from sklearn.cluster import KMeans\n",
    "from mpl_toolkits import mplot3d\n",
    "from sklearn.model_selection import cross_val_score\n",
    "from tqdm import tqdm\n",
    "from sklearn.discriminant_analysis import LinearDiscriminantAnalysis as LDA\n",
    "\n",
    "plt.rcParams['figure.figsize'] = (15, 10) \n"
   ]
  },
  {
   "cell_type": "code",
   "execution_count": null,
   "id": "6c7646c1-c812-4be4-97f0-7349c5b2ce96",
   "metadata": {},
   "outputs": [],
   "source": [
    "\n",
    "def compute_cvPCA(resp0, maxcols=np.inf):\n",
    "    ss0 = u.shuff_cvPCA(resp0, nshuff=10, maxcols=np.inf)\n",
    "    ss0 = ss0.mean(axis=0)\n",
    "    ss0 = ss0 / ss0.sum()\n",
    "\n",
    "    return ss0"
   ]
  },
  {
   "cell_type": "code",
   "execution_count": null,
   "id": "3c7001f0-29e7-4408-8efa-810b793ae1c1",
   "metadata": {},
   "outputs": [],
   "source": [
    "dp0='/camp/home/duuta/working/duuta/ppp0/data/zebf00/TimeSeries.h5'\n",
    "dp1='/camp/home/duuta/working/duuta/ppp0/data/zebf00/data_full.mat'\n"
   ]
  },
  {
   "cell_type": "code",
   "execution_count": null,
   "id": "40c9c22f-9b84-4d2e-9a4d-8852e2ea6ebe",
   "metadata": {},
   "outputs": [],
   "source": [
    "d1 = loadmat(dp1, simplify_cells=True)\n",
    "dholder = h5py.File(dp0, 'r')\n",
    "d0 = dholder['CellResp'][:]\n"
   ]
  },
  {
   "cell_type": "code",
   "execution_count": null,
   "id": "c2eac747-c5a7-4df7-a644-3cc0fce5cd12",
   "metadata": {},
   "outputs": [],
   "source": [
    "eliminated_rois = d1['data']['IX_inval_anat']"
   ]
  },
  {
   "cell_type": "code",
   "execution_count": null,
   "id": "0c0eb226-5ccf-4c00-b9ff-b4075a73ed57",
   "metadata": {},
   "outputs": [],
   "source": [
    "all_rois = d1['data']['CellXYZ']"
   ]
  },
  {
   "cell_type": "code",
   "execution_count": null,
   "id": "b84d154c-0d61-468c-8162-066a4999a9ec",
   "metadata": {},
   "outputs": [],
   "source": [
    "# these are the positions of the rois which have been recorded\n",
    "usd_rois = [row for j, row in enumerate(all_rois) if j not in list(eliminated_rois)]\n",
    "used_rois_coor = np.array(usd_rois)"
   ]
  },
  {
   "cell_type": "code",
   "execution_count": null,
   "id": "35fbdd3f-2305-4328-8f4e-83409ce56721",
   "metadata": {},
   "outputs": [],
   "source": [
    "for key in d1['data'].keys():\n",
    "    try:\n",
    "        print(f\"{key}: {d1['data'][key].shape}\")\n",
    "\n",
    "    except:\n",
    "        print(f\"{key}: no shape\")\n",
    "        print(f\"{key}: {d1['data'][key]}\")\n",
    "        continue\n"
   ]
  },
  {
   "cell_type": "code",
   "execution_count": null,
   "id": "84b29312-11e9-4bba-8895-1dee419e088e",
   "metadata": {},
   "outputs": [],
   "source": [
    "x, y, z = used_rois[:50000, :].T"
   ]
  },
  {
   "cell_type": "code",
   "execution_count": null,
   "id": "9256989e-c612-413d-ac1f-c4412a498c5c",
   "metadata": {},
   "outputs": [],
   "source": [
    "def find_nearest_nbrs(ds, roi_idx, n=10):\n",
    "    n_idx = np.argsort(ds[roi_idx,])[1:n+1]\n",
    "\n",
    "    return n_idx\n",
    "\n",
    "def compute_distance_matrix(x, y):\n",
    "    ds = squareform(pdist(np.array([x, y]).T, metric='euclidean'))\n",
    "\n",
    "    return ds\n",
    "\n",
    "\n",
    "def pick_random_nbrs(roi_idx, len0=100, n=10):\n",
    "\n",
    "    all_idx= list(range(len0))\n",
    "    all_idx.remove(roi_idx)\n",
    "    rsample = random.sample(all_idx, n)\n",
    "\n",
    "    return rsample\n",
    "\n"
   ]
  },
  {
   "cell_type": "code",
   "execution_count": null,
   "id": "76cfc381-81b8-4bfe-9fad-f307b5b764bc",
   "metadata": {},
   "outputs": [],
   "source": [
    "plt.scatter(x, y)\n",
    "plt.xlabel('X positions')\n",
    "plt.xlabel('Y positions')\n",
    "plt.title('X, Y positions of 50k ROIs')\n"
   ]
  },
  {
   "cell_type": "code",
   "execution_count": null,
   "id": "8c6d73ea-5553-4448-8ba0-383ee0b6bd42",
   "metadata": {},
   "outputs": [],
   "source": [
    "ncorr = []\n",
    "rcorr = []\n",
    "nrcorr = []\n",
    "rncorr = []\n",
    "nn_idxs = []\n",
    "rn_idxs = []\n",
    "collect_nc_min_max = []\n",
    "collect_rn_min_max = []\n",
    "\n",
    "for ridx in range(50000):\n",
    "    roi = d0[:, ridx]\n",
    "    nneigh_idx = find_nearest_nbrs(dS, ridx, n=10)\n",
    "    nn_roi = d0[:, nneigh_idx]\n",
    "    ri = pick_random_nbrs(ridx, len0=50000, n=10)\n",
    "    rn_roi = d0[:, ri]\n",
    "    nrcorr = []\n",
    "    rncorr = []\n",
    "    for j in range(nn_roi.shape[1]):\n",
    "        nc = np.corrcoef(roi, nn_roi[:, j])[0, 1]\n",
    "        rc = np.corrcoef(roi, rn_roi[:, j])[0, 1]\n",
    "\n",
    "        nrcorr.append(nc)\n",
    "        rncorr.append(rc)\n",
    "        collect_nc_min_max.append(nc)\n",
    "        collect_rn_min_max.append(rc)\n",
    "    nn_idxs.append(nneigh_idx)\n",
    "    rn_idxs.append(ri)  # need to rerun cell for the rn_idxs\n",
    "    ncorr.append(nrcorr)\n",
    "    rcorr.append(rncorr)\n",
    "    \n",
    "rnr_arr = np.array(collect_nc_min_max)/ np.array(collect_rn_min_max)\n",
    "PRN  = round(np.percentile(rnr_arr, 90), 3) "
   ]
  },
  {
   "cell_type": "code",
   "execution_count": null,
   "id": "f76f8e05-e24d-4680-a895-1c0641044328",
   "metadata": {},
   "outputs": [],
   "source": [
    "refined_rnr = [a for a in rnr_arr if a >0]"
   ]
  },
  {
   "cell_type": "code",
   "execution_count": null,
   "id": "e4bea13c-7e68-4655-a789-1a3bb10d8e17",
   "metadata": {},
   "outputs": [],
   "source": [
    "rn90 = [ a for a in rnr_arr if a>0 and a<= PRN]"
   ]
  },
  {
   "cell_type": "code",
   "execution_count": null,
   "id": "03c9fdb9-a04a-49c0-bc34-02aa11cad25c",
   "metadata": {},
   "outputs": [],
   "source": [
    "ax = plt.axes()\n",
    "for i in range(10000):\n",
    "    plt.scatter(x[nn_idxs[i]], y[nn_idxs[i]],marker='.', cmap='rainbow', c=np.array(ncorr[i])/np.array(rcorr[i]), vmin=min(rn90), vmax=max(rn90))\n",
    "\n",
    "plt.colorbar()\n",
    "plt.xlabel(\"X Positions\", fontsize=20)\n",
    "plt.ylabel(\"Y Positions\", fontsize=20)\n",
    "plt.title(\"postions of ROIs colored by the ratio of near correlations to random correlations of ROIs\", fontsize=20)\n",
    "ax.set_facecolor('black')"
   ]
  },
  {
   "cell_type": "code",
   "execution_count": null,
   "id": "73945a29-76d1-4794-bfa8-bd1b73c29515",
   "metadata": {},
   "outputs": [],
   "source": [
    "# checking for correctness\n",
    "fig0 = plt.figure(layout='constrained')\n",
    "gs = GridSpec(3, 20, figure=fig0)\n",
    "# frames for ROIs \n",
    "ax0 = fig0.add_subplot(gs[0, :10]) # nn\n",
    "ax0.plot(d0[:, 0])\n",
    "ax0.set_title(f'ROI of interest: avg={2}')\n",
    "ax1 = fig0.add_subplot(gs[0, 10:]) # rn\n",
    "ax1.plot(d0[:, 0])\n",
    "ax1.set_title(f'ROI of interest: avg={3}')\n",
    "\n",
    "nnrois = d0[:,nn_idxs[0]]\n",
    "# frames of dependent nnROIs\n",
    "ax2 = fig0.add_subplot(gs[1, 0:2])\n",
    "ax2.plot(d0[: nnrois[0]])\n",
    "ax2.set_title(f'ROI of id: avg={3}')\n",
    "\n",
    "ax3 = fig0.add_subplot(gs[1, 2:4])\n",
    "ax3.plot(d0[: nnrois[1]])\n",
    "ax3.set_title()\n",
    "\n",
    "ax4 = fig0.add_subplot(gs[1, 4:6])\n",
    "ax4.plot(d0[: nnrois[2]])\n",
    "ax4.set_title()\n",
    "\n",
    "ax5 = fig0.add_subplot(gs[1, 6:8])\n",
    "ax5.plot(d0[: nnrois[3]])\n",
    "ax5.set_title()\n",
    "\n",
    "ax6 = fig0.add_subplot(gs[1, 8:10])\n",
    "ax6.plot(d0[: nnrois[4]])\n",
    "ax6.set_title()\n",
    "\n",
    "ax7 = fig0.add_subplot(gs[2, 0:2])\n",
    "ax7.plot(d0[: nnrois[5]])\n",
    "ax7.set_title()\n",
    "\n",
    "ax8 = fig0.add_subplot(gs[2, 2:4])\n",
    "ax8.plot(d0[: nnrois[6]])\n",
    "ax8.set_title()\n",
    "\n",
    "ax9 = fig0.add_subplot(gs[2, 4:6])\n",
    "ax9.plot(d0[: nnrois[7]])\n",
    "ax9.set_title()\n",
    "\n",
    "ax10 = fig0.add_subplot(gs[2, 6:8])\n",
    "ax10.plot(d0[: nnrois[8]])\n",
    "ax10.title()\n",
    "\n",
    "ax11 = fig0.add_subplot(gs[2, 8:10])\n",
    "ax11.plot(d0[: nnrois[9]])\n",
    "ax11.set_title()\n",
    "\n",
    "rnrois = \n",
    "# frames dependent rnROIs\n",
    "ax12 = fig0.add_subplot(gs[1, 10:12])\n",
    "ax12.plot()\n",
    "ax12.set_title()\n",
    "\n",
    "ax13 = fig0.add_subplot(gs[1, 12:14])\n",
    "ax13.plot()\n",
    "ax13.set_title('')\n",
    "\n",
    "ax14 = fig0.add_subplot(gs[1, 14:16])\n",
    "ax14.plot()\n",
    "ax14.set_title('')\n",
    "\n",
    "ax15 = fig0.add_subplot(gs[1, 16:18])\n",
    "ax15.plot()\n",
    "ax15.set_title('')\n",
    "\n",
    "ax16 = fig0.add_subplot(gs[1, 18:20])\n",
    "ax16.plot()\n",
    "ax16.set_title('')\n",
    "\n",
    "ax17 = fig0.add_subplot(gs[2, 10:12])\n",
    "ax17.plot()\n",
    "ax17.set_title('')\n",
    "\n",
    "ax18 = fig0.add_subplot(gs[2, 12:14])\n",
    "ax18.plot()\n",
    "ax18.set_title('')\n",
    "\n",
    "ax19 = fig0.add_subplot(gs[2, 14:16])\n",
    "ax19.plot()\n",
    "ax19.set_title('')\n",
    "\n",
    "ax20 = fig0.add_subplot(gs[2, 16:18])\n",
    "ax20.plot()\n",
    "ax20.set_title('')\n",
    "\n",
    "ax21 = fig0.add_subplot(gs[2, 18:20])\n",
    "ax21.plot()\n",
    "ax21.set_title('')\n",
    "\n",
    "\n",
    "fig0.suptitle('checking correctness')\n"
   ]
  },
  {
   "cell_type": "code",
   "execution_count": null,
   "id": "ea4a204a-1c80-4bf2-a1ad-472494c0d59f",
   "metadata": {},
   "outputs": [],
   "source": []
  }
 ],
 "metadata": {
  "kernelspec": {
   "display_name": "Python 3 (ipykernel)",
   "language": "python",
   "name": "python3"
  },
  "language_info": {
   "codemirror_mode": {
    "name": "ipython",
    "version": 3
   },
   "file_extension": ".py",
   "mimetype": "text/x-python",
   "name": "python",
   "nbconvert_exporter": "python",
   "pygments_lexer": "ipython3",
   "version": "3.9.16"
  },
  "name": "Untitled1.ipynb"
 },
 "nbformat": 4,
 "nbformat_minor": 5
}
