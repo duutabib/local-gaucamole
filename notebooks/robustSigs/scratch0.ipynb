{
 "cells": [
  {
   "cell_type": "code",
   "execution_count": 3,
   "metadata": {},
   "outputs": [],
   "source": [
    "import os\n",
    "import re\n",
    "import random\n",
    "import time\n",
    "\n",
    "import h5py\n",
    "import matplotlib\n",
    "import matplotlib.pyplot as plt\n",
    "import numpy as np\n",
    "from matplotlib.colors import TwoSlopeNorm\n",
    "from scipy.io import loadmat\n",
    "from scipy.spatial.distance import pdist, squareform"
   ]
  },
  {
   "cell_type": "markdown",
   "metadata": {},
   "source": [
    "# method to compute the ratio of correlations given roi index\n",
    "\n",
    "* often I need to know the ratio of correlation for a specfic roi.\n",
    "* these are particulary useful for overlay plots \n",
    "* current implementation does not allow for this flexibility so I need to run the pipeline all \n",
    "* Also, to verify the roi's with high roc and low, it is useful to have this flexibility so that this is easily achieved.\n",
    "* need to think about how to implement this. \n",
    "* curr, I compute dS between all the arrays, or a subset of them, then return the nn for a given roi, "
   ]
  },
  {
   "cell_type": "code",
   "execution_count": 6,
   "metadata": {},
   "outputs": [],
   "source": [
    "path0 = '/Users/duuta/ppp/data/zebf00/TimeSeries.h5' \n",
    "path1 = '/Users/duuta/ppp/data/zebf00/data_full.mat' \n",
    "dholder = h5py.File(path0, \"r\")\n",
    "d0 = dholder[\"CellResp\"][:]  # responses\n",
    "d1 = loadmat(path1, simplify_cells=True)"
   ]
  },
  {
   "cell_type": "code",
   "execution_count": 16,
   "metadata": {},
   "outputs": [
    {
     "data": {
      "text/plain": [
       "<KeysViewHDF5 ['CellResp', 'CellRespAvr', 'CellRespAvrZ', 'CellRespZ', 'absIX']>"
      ]
     },
     "execution_count": 16,
     "metadata": {},
     "output_type": "execute_result"
    }
   ],
   "source": [
    "dholder.keys()"
   ]
  },
  {
   "cell_type": "code",
   "execution_count": 20,
   "metadata": {},
   "outputs": [
    {
     "data": {
      "text/plain": [
       "(83890, 3)"
      ]
     },
     "execution_count": 20,
     "metadata": {},
     "output_type": "execute_result"
    }
   ],
   "source": [
    "d1['data']['CellXYZ'].shape"
   ]
  },
  {
   "cell_type": "code",
   "execution_count": 43,
   "metadata": {},
   "outputs": [
    {
     "data": {
      "text/plain": [
       "dict_keys(['periods', 'timelists_names', 'stimuluskey_raw', 'CellXYZ', 'anat_stack', 'fpsec', 'Behavior_raw', 'numcell_full', 'CellXYZ_norm', 'IX_inval_anat', 'anat_yx', 'anat_yz', 'anat_zx', 'timelists', 'stim_full', 'stimAvr', 'Behavior_full', 'BehaviorAvr', 'Behavior_full_motorseed', 'BehaviorAvr_motorseed', 'Eye_full_motorseed', 'EyeAvr_motorseed', 'Eye_full', 'Eye_avr'])"
      ]
     },
     "execution_count": 43,
     "metadata": {},
     "output_type": "execute_result"
    }
   ],
   "source": [
    "d1['data'].keys()"
   ]
  },
  {
   "cell_type": "code",
   "execution_count": 48,
   "metadata": {},
   "outputs": [
    {
     "data": {
      "text/plain": [
       "dict_keys(['__header__', '__version__', '__globals__', 'data'])"
      ]
     },
     "execution_count": 48,
     "metadata": {},
     "output_type": "execute_result"
    }
   ],
   "source": [
    "d1.keys()"
   ]
  },
  {
   "cell_type": "code",
   "execution_count": 50,
   "metadata": {},
   "outputs": [
    {
     "data": {
      "text/plain": [
       "'1.0'"
      ]
     },
     "execution_count": 50,
     "metadata": {},
     "output_type": "execute_result"
    }
   ],
   "source": [
    "d1['__v__']"
   ]
  },
  {
   "cell_type": "code",
   "execution_count": 42,
   "metadata": {},
   "outputs": [
    {
     "data": {
      "text/plain": [
       "array([   1,    2,    3, ..., 2878, 2879, 2880], dtype=uint16)"
      ]
     },
     "execution_count": 42,
     "metadata": {},
     "output_type": "execute_result"
    }
   ],
   "source": [
    "d1['data']['timelists']"
   ]
  },
  {
   "cell_type": "code",
   "execution_count": 33,
   "metadata": {},
   "outputs": [
    {
     "data": {
      "text/plain": [
       "(2880, 83205)"
      ]
     },
     "execution_count": 33,
     "metadata": {},
     "output_type": "execute_result"
    }
   ],
   "source": [
    "d0.shape"
   ]
  },
  {
   "cell_type": "code",
   "execution_count": 34,
   "metadata": {},
   "outputs": [
    {
     "data": {
      "text/plain": [
       "239630400"
      ]
     },
     "execution_count": 34,
     "metadata": {},
     "output_type": "execute_result"
    }
   ],
   "source": [
    "83205 * 2880"
   ]
  },
  {
   "cell_type": "code",
   "execution_count": 36,
   "metadata": {},
   "outputs": [
    {
     "data": {
      "text/plain": [
       "array([45798, 45798, 45798, ..., 62432, 45798, 45798])"
      ]
     },
     "execution_count": 36,
     "metadata": {},
     "output_type": "execute_result"
    }
   ],
   "source": [
    "d0.argmax(axis=1)"
   ]
  },
  {
   "cell_type": "code",
   "execution_count": 22,
   "metadata": {},
   "outputs": [
    {
     "data": {
      "text/plain": [
       "241603200"
      ]
     },
     "execution_count": 22,
     "metadata": {},
     "output_type": "execute_result"
    }
   ],
   "source": [
    "83890 * 2880"
   ]
  },
  {
   "cell_type": "code",
   "execution_count": 28,
   "metadata": {},
   "outputs": [],
   "source": [
    "dummy = np.random.randn(2, 2)"
   ]
  },
  {
   "cell_type": "code",
   "execution_count": 30,
   "metadata": {},
   "outputs": [
    {
     "data": {
      "text/plain": [
       "1"
      ]
     },
     "execution_count": 30,
     "metadata": {},
     "output_type": "execute_result"
    }
   ],
   "source": [
    "dummy.argmax()"
   ]
  },
  {
   "cell_type": "code",
   "execution_count": 31,
   "metadata": {},
   "outputs": [
    {
     "data": {
      "text/plain": [
       "(2, 2)"
      ]
     },
     "execution_count": 31,
     "metadata": {},
     "output_type": "execute_result"
    }
   ],
   "source": [
    "dummy.shape "
   ]
  },
  {
   "cell_type": "code",
   "execution_count": null,
   "metadata": {},
   "outputs": [],
   "source": [
    "def compute_nncorr_roi(roi_index, nn,  metric='euclidean'):\n",
    "    ds = squareform(pdist(np.array([x, y]).T, metric=metric))\n",
    "    \n",
    "\n",
    "    return roc_for_roi "
   ]
  },
  {
   "cell_type": "code",
   "execution_count": null,
   "metadata": {},
   "outputs": [],
   "source": [
    "def draw_plot(x, \n",
    "              y, \n",
    "              d0, \n",
    "              dS, \n",
    "              config_options, \n",
    "              postion_top_left,\n",
    "              position_bottom_left,\n",
    "              top_rois_list, \n",
    "              bottom_rois_list, \n",
    "              top_left_labels, \n",
    "              bottom_left_labels,\n",
    "              canvas,\n",
    "):\n",
    "    plot = init_plot(canvas, config_options)\n",
    "    \n",
    "    inset_axes_top_left=plt.gca().inset_axes(position_top_left, facecolor='white')\n",
    "\n",
    "    annotations_top_left = [\n",
    "        {'label':f'ROI:{tar0_idx_high}', 'color': 'white', 'xy': (1050, 950), 'xytext':(tar0_high_x, tar0_high_y), \n",
    "         'arrowprops': dict(arrowstyle=\"fancy\",\n",
    "                                        facecolor='blue',patchB=inset_axes_top_left, shrinkB=5,connectionstyle=\"arc3,rad=0.3\"),},\n",
    "        {'label':f'ROI:{tar0_nn_idx_high[0]}', 'color': 'white', 'xy': (1050, 950), 'xytext':(tar0_high_nn0_x, tar0_high_nn0_y), \n",
    "         'arrowprops': dict(arrowstyle=\"fancy\",\n",
    "                                        facecolor='orange',patchB=inset_axes_top_left, shrinkB=5,connectionstyle=\"arc3,rad=0.3\"),}, \n",
    "        {'label':f'ROI:{tar0_nn_idx_high[1]}', 'color': 'white', 'xy': (1050, 950), 'xytext':(tar0_high_nn1_x, tar0_high_nn1_y), \n",
    "         'arrowprops': dict(arrowstyle=\"fancy\",\n",
    "                                       facecolor='green',patchB=inset_axes_top_left, shrinkB=5,connectionstyle=\"arc3,rad=0.3\"),},\n",
    "        {'label':f'ROI:{random_neighbors_for_idx0[0]}', 'color': 'white', 'xy': (1050, 950), 'xytext':(rand_idx00_x, rand_idx00_y), \n",
    "         'arrowprops': dict(arrowstyle=\"fancy\",\n",
    "                                        facecolor='red',patchB=inset_axes_top_left, shrinkB=5,connectionstyle=\"arc3,rad=0.3\"),}, \n",
    "        {'label':f'ROI:{random_neighbors_for_idx0[1]}', 'color': 'white', 'xy': (1050, 950), 'xytext':(rand_idx01_x, rand_idx01_y), \n",
    "         'arrowprops': dict(arrowstyle=\"fancy\",\n",
    "                                       facecolor='magenta',patchB=inset_axes_top_left, shrinkB=5,connectionstyle=\"arc3,rad=0.3\"),},\n",
    "    ]\n",
    "      \n",
    "    labels_top_left = [\n",
    "                   f'Target Neuron {tar0_idx_high} : roc={round(roc[tar0_idx_high], 3)}', \n",
    "                   f'NN0:{tar0_nn_idx_high[0]} : cor={round(tar0_nn_corr_high[0], 3)}', \n",
    "                   f'NN1:{tar0_nn_idx_high[1]} : cor={round(tar0_nn_corr_high[1], 3)}',\n",
    "                   f'RN0:{random_neighbors_for_idx0[0]} : cor={round(corr00_idx0, 3)}',\n",
    "                   f'RN1:{random_neighbors_for_idx0[1]} : cor={round(corr01_idx0, 3)}',\n",
    "    ]\n",
    "\n",
    "    add_inset_plot_seg(\n",
    "      inset_axes_top_left,\n",
    "      roc, \n",
    "      annotations_top_left,\n",
    "      labels=labels_top_left,\n",
    "      target_rois_list = high_target_rois_list,\n",
    "    )\n",
    "    inset_axes_bottom_left = plt.gca().inset_axes((0.01, 0.2, 0.5, 0.1), facecolor='white')\n",
    "\n",
    "    annotations_bottom_left = [\n",
    "        {'label':f'ROI:{tar0_idx}', 'color': 'white', 'xy': (1050, 350), 'xytext':(tar0_x, tar0_y), 'arrowprops': dict(arrowstyle=\"fancy\",\n",
    "                                        facecolor='blue',patchB=inset_axes_bottom_left, shrinkB=5,connectionstyle=\"arc3,rad=0.3\"),},\n",
    "        {'label':f'ROI:{tar00_idx}', 'color': 'white', 'xy': (1050, 350), 'xytext':(tar00_x, tar00_y), 'arrowprops': dict(arrowstyle=\"fancy\",\n",
    "                                        facecolor='orange',patchB=inset_axes_bottom_left, shrinkB=5,connectionstyle=\"arc3,rad=0.3\"),}, \n",
    "        {'label':f'ROI:{tar01_idx}', 'color': 'white', 'xy': (1050, 350), 'xytext':(tar01_x, tar01_y), 'arrowprops': dict(arrowstyle=\"fancy\",\n",
    "                                           facecolor='green',patchB=inset_axes_bottom_left, shrinkB=5,connectionstyle=\"arc3,rad=0.3\"),},\n",
    "        {'label':f'ROI:{random_neighbors_for_idx1[0]}', 'color': 'white', 'xy': (1050, 350), 'xytext':(rand_idx10_x, rand_idx10_y), 'arrowprops': dict(arrowstyle=\"fancy\",\n",
    "                                        facecolor='red',patchB=inset_axes_bottom_left, shrinkB=5,connectionstyle=\"arc3,rad=0.3\"),}, \n",
    "        {'label':f'ROI:{random_neighbors_for_idx1[1]}', 'color': 'white', 'xy': (1050, 350), 'xytext':(rand_idx11_x, rand_idx11_y), 'arrowprops': dict(arrowstyle=\"fancy\",\n",
    "                                       facecolor='magenta',patchB=inset_axes_bottom_left, shrinkB=5,connectionstyle=\"arc3,rad=0.3\"),},\n",
    "\n",
    "    ]      \n",
    "\n",
    "    labels_bottom_left = [f'Target Neuron {tar0_idx_high} : roc={round(roc[tar0_idx_high], 3)}', \n",
    "                      f'NN0:{tar0_nn_idx_high[0]} : cor={round(tar0_nn_corr_high[0], 3)}', \n",
    "                      f'NN1:{tar0_nn_idx_high[1]} : cor={round(tar0_nn_corr_high[1], 3)}',\n",
    "                      f'RN0{random_neighbors_for_idx1[0]} : cor={round(corr00_idx1, 3)}',\n",
    "                      f'RN1:{random_neighbors_for_idx1[1]} : cor={round(corr01_idx1, 3)}',\n",
    "                   ]\n",
    "\n",
    "    add_inset_plot_seg(\n",
    "        inset_axes_bottom_left,\n",
    "        roc,\n",
    "        annotations_bottom_left,\n",
    "        labels=labels_bottom_left,\n",
    "        target_rois_list = target_rois_list, \n",
    " \n",
    "    )\n",
    "\n",
    "    configure_plot(plt, plot, config_options)\n",
    "\n",
    " "
   ]
  }
 ],
 "metadata": {
  "kernelspec": {
   "display_name": "Python 3",
   "language": "python",
   "name": "python3"
  },
  "language_info": {
   "codemirror_mode": {
    "name": "ipython",
    "version": 3
   },
   "file_extension": ".py",
   "mimetype": "text/x-python",
   "name": "python",
   "nbconvert_exporter": "python",
   "pygments_lexer": "ipython3",
   "version": "3.9.16"
  }
 },
 "nbformat": 4,
 "nbformat_minor": 2
}
