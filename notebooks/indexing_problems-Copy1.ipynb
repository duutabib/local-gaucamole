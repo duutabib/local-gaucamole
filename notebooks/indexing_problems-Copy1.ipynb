{
 "cells": [
  {
   "cell_type": "code",
   "execution_count": 1,
   "id": "2f8e0f89-772d-4ca7-999f-71b852fdf313",
   "metadata": {
    "collapsed": false,
    "jupyter": {
     "outputs_hidden": false
    }
   },
   "outputs": [],
   "source": [
    "import numpy as np\n",
    "import matplotlib.pyplot as plt"
   ]
  },
  {
   "cell_type": "code",
   "execution_count": 2,
   "id": "9ae39700-dcf0-4aae-bf67-768bb471a83f",
   "metadata": {
    "collapsed": false,
    "jupyter": {
     "outputs_hidden": false
    }
   },
   "outputs": [],
   "source": [
    "x = np.arange(2, 6).reshape(4)"
   ]
  },
  {
   "cell_type": "code",
   "execution_count": 3,
   "id": "5372e31e-015f-4012-9370-c903b2449282",
   "metadata": {
    "collapsed": false,
    "jupyter": {
     "outputs_hidden": false
    }
   },
   "outputs": [
    {
     "data": {
      "text/plain": [
       "array([2, 3, 4, 5])"
      ]
     },
     "execution_count": 3,
     "metadata": {},
     "output_type": "execute_result"
    }
   ],
   "source": [
    "x"
   ]
  },
  {
   "cell_type": "code",
   "execution_count": 4,
   "id": "b3053b1d-b296-44f4-a72c-91e5cfede7fa",
   "metadata": {
    "collapsed": false,
    "jupyter": {
     "outputs_hidden": false
    }
   },
   "outputs": [
    {
     "data": {
      "text/plain": [
       "(4,)"
      ]
     },
     "execution_count": 4,
     "metadata": {},
     "output_type": "execute_result"
    }
   ],
   "source": [
    "x.shape"
   ]
  },
  {
   "cell_type": "code",
   "execution_count": 5,
   "id": "1dfdd336-b9df-4cbb-856e-cad8f42273d2",
   "metadata": {
    "collapsed": false,
    "jupyter": {
     "outputs_hidden": false
    }
   },
   "outputs": [],
   "source": [
    "x = np.arange(2, 10).reshape(2, 4)"
   ]
  },
  {
   "cell_type": "code",
   "execution_count": 6,
   "id": "6b25ee9b-3d49-4ce6-b772-b0ddac5d8f9f",
   "metadata": {
    "collapsed": false,
    "jupyter": {
     "outputs_hidden": false
    }
   },
   "outputs": [
    {
     "data": {
      "text/plain": [
       "(2, 4)"
      ]
     },
     "execution_count": 6,
     "metadata": {},
     "output_type": "execute_result"
    }
   ],
   "source": [
    "x.shape"
   ]
  },
  {
   "cell_type": "code",
   "execution_count": 7,
   "id": "1ce1efb6-8e6d-4e3c-8f4e-c9e4b4d2f554",
   "metadata": {
    "collapsed": false,
    "jupyter": {
     "outputs_hidden": false
    }
   },
   "outputs": [
    {
     "data": {
      "text/plain": [
       "array([2, 3, 4, 5])"
      ]
     },
     "execution_count": 7,
     "metadata": {},
     "output_type": "execute_result"
    }
   ],
   "source": [
    "x[0]"
   ]
  },
  {
   "cell_type": "code",
   "execution_count": 8,
   "id": "682e84ab-77ed-4c99-9639-e2ba98fe67c2",
   "metadata": {
    "collapsed": false,
    "jupyter": {
     "outputs_hidden": false
    }
   },
   "outputs": [
    {
     "data": {
      "text/plain": [
       "array([2, 3, 4, 5])"
      ]
     },
     "execution_count": 8,
     "metadata": {},
     "output_type": "execute_result"
    }
   ],
   "source": [
    "x[0, :]"
   ]
  },
  {
   "cell_type": "code",
   "execution_count": 9,
   "id": "75fd2a12-32c3-47be-899e-284cc4a61b37",
   "metadata": {
    "collapsed": false,
    "jupyter": {
     "outputs_hidden": false
    }
   },
   "outputs": [
    {
     "data": {
      "text/plain": [
       "array([2, 3, 4, 5])"
      ]
     },
     "execution_count": 9,
     "metadata": {},
     "output_type": "execute_result"
    }
   ],
   "source": [
    "x[0,]"
   ]
  },
  {
   "cell_type": "code",
   "execution_count": 10,
   "id": "17a52a25-3ccb-458b-9afb-e12a47c2dad7",
   "metadata": {
    "collapsed": false,
    "jupyter": {
     "outputs_hidden": false
    }
   },
   "outputs": [
    {
     "data": {
      "text/plain": [
       "2"
      ]
     },
     "execution_count": 10,
     "metadata": {},
     "output_type": "execute_result"
    }
   ],
   "source": [
    "x.ndim"
   ]
  },
  {
   "cell_type": "code",
   "execution_count": 11,
   "id": "19ccd6ce-c7c2-419b-a165-e04fc2703fba",
   "metadata": {
    "collapsed": false,
    "jupyter": {
     "outputs_hidden": false
    }
   },
   "outputs": [
    {
     "data": {
      "text/plain": [
       "dtype('int64')"
      ]
     },
     "execution_count": 11,
     "metadata": {},
     "output_type": "execute_result"
    }
   ],
   "source": [
    "x.dtype"
   ]
  },
  {
   "cell_type": "code",
   "execution_count": 12,
   "id": "1522eef5-378a-4d09-9814-2fac91f31413",
   "metadata": {
    "collapsed": false,
    "jupyter": {
     "outputs_hidden": false
    }
   },
   "outputs": [
    {
     "data": {
      "text/plain": [
       "array([6, 7, 8, 9])"
      ]
     },
     "execution_count": 12,
     "metadata": {},
     "output_type": "execute_result"
    }
   ],
   "source": [
    "x[1,]"
   ]
  },
  {
   "cell_type": "code",
   "execution_count": 13,
   "id": "5f6dc68d-4850-464e-b6d4-2e1e12167b13",
   "metadata": {
    "collapsed": false,
    "jupyter": {
     "outputs_hidden": false
    }
   },
   "outputs": [],
   "source": [
    "x = np.arange(24).reshape(4, 3, 2)"
   ]
  },
  {
   "cell_type": "code",
   "execution_count": 14,
   "id": "8db98bd9-e182-464e-ba1d-79ca98f91510",
   "metadata": {
    "collapsed": false,
    "jupyter": {
     "outputs_hidden": false
    }
   },
   "outputs": [
    {
     "data": {
      "text/plain": [
       "(4, 3, 2)"
      ]
     },
     "execution_count": 14,
     "metadata": {},
     "output_type": "execute_result"
    }
   ],
   "source": [
    "x.shape"
   ]
  },
  {
   "cell_type": "code",
   "execution_count": 30,
   "id": "75449679-1f7e-4615-98c8-8922bc0f26da",
   "metadata": {
    "collapsed": false,
    "jupyter": {
     "outputs_hidden": false
    }
   },
   "outputs": [
    {
     "data": {
      "text/plain": [
       "array([[[ 0,  1],\n",
       "        [ 2,  3],\n",
       "        [ 4,  5]],\n",
       "\n",
       "       [[ 6,  7],\n",
       "        [ 8,  9],\n",
       "        [10, 11]],\n",
       "\n",
       "       [[12, 13],\n",
       "        [14, 15],\n",
       "        [16, 17]],\n",
       "\n",
       "       [[18, 19],\n",
       "        [20, 21],\n",
       "        [22, 23]]])"
      ]
     },
     "execution_count": 30,
     "metadata": {},
     "output_type": "execute_result"
    }
   ],
   "source": [
    "x\n"
   ]
  },
  {
   "cell_type": "code",
   "execution_count": 28,
   "id": "81b5e352-7c7e-4a39-8886-9de8798d72db",
   "metadata": {
    "collapsed": false,
    "jupyter": {
     "outputs_hidden": false
    }
   },
   "outputs": [
    {
     "data": {
      "text/plain": [
       "'1.23.5'"
      ]
     },
     "execution_count": 28,
     "metadata": {},
     "output_type": "execute_result"
    }
   ],
   "source": [
    "np.__version__"
   ]
  },
  {
   "cell_type": "code",
   "execution_count": 31,
   "id": "d8f4053f-39fa-437a-984d-db8b3e86afa2",
   "metadata": {
    "collapsed": false,
    "jupyter": {
     "outputs_hidden": false
    }
   },
   "outputs": [],
   "source": [
    "d = [12.23, 13.32, 100, 36.32]"
   ]
  },
  {
   "cell_type": "code",
   "execution_count": 32,
   "id": "8b9f54e3-d168-420b-96da-b8f4b8385fdb",
   "metadata": {
    "collapsed": false,
    "jupyter": {
     "outputs_hidden": false
    }
   },
   "outputs": [],
   "source": [
    "d = np.array(d)"
   ]
  },
  {
   "cell_type": "code",
   "execution_count": 33,
   "id": "08eaf951-fe9a-4b78-bce6-d64d5f3e0e75",
   "metadata": {
    "collapsed": false,
    "jupyter": {
     "outputs_hidden": false
    }
   },
   "outputs": [
    {
     "data": {
      "text/plain": [
       "1"
      ]
     },
     "execution_count": 33,
     "metadata": {},
     "output_type": "execute_result"
    }
   ],
   "source": [
    "d.ndim"
   ]
  },
  {
   "cell_type": "code",
   "execution_count": 35,
   "id": "420b40ee-b273-442d-8c5a-b9178bfd9991",
   "metadata": {
    "collapsed": false,
    "jupyter": {
     "outputs_hidden": false
    }
   },
   "outputs": [],
   "source": [
    "d = np.arange(2, 11).reshape(3, 3)"
   ]
  },
  {
   "cell_type": "code",
   "execution_count": 36,
   "id": "234c1394-2374-41cb-a5ab-227a49f7ae9a",
   "metadata": {
    "collapsed": false,
    "jupyter": {
     "outputs_hidden": false
    }
   },
   "outputs": [
    {
     "data": {
      "text/plain": [
       "(3, 3)"
      ]
     },
     "execution_count": 36,
     "metadata": {},
     "output_type": "execute_result"
    }
   ],
   "source": [
    "d.shape"
   ]
  },
  {
   "cell_type": "code",
   "execution_count": 37,
   "id": "ab938056-e37a-4f64-b65e-12641bb9e6f2",
   "metadata": {
    "collapsed": false,
    "jupyter": {
     "outputs_hidden": false
    }
   },
   "outputs": [
    {
     "data": {
      "text/plain": [
       "array([[ 2,  3,  4],\n",
       "       [ 5,  6,  7],\n",
       "       [ 8,  9, 10]])"
      ]
     },
     "execution_count": 37,
     "metadata": {},
     "output_type": "execute_result"
    }
   ],
   "source": [
    "d"
   ]
  },
  {
   "cell_type": "code",
   "execution_count": 43,
   "id": "ba6ce611-4f7c-4f10-a5d3-c87d1316d593",
   "metadata": {
    "collapsed": false,
    "jupyter": {
     "outputs_hidden": false
    }
   },
   "outputs": [],
   "source": [
    "d = np.zeros(10)"
   ]
  },
  {
   "cell_type": "code",
   "execution_count": 44,
   "id": "f56a38c6-6801-4f5f-8861-ee7d4ac8d322",
   "metadata": {
    "collapsed": false,
    "jupyter": {
     "outputs_hidden": false
    }
   },
   "outputs": [],
   "source": [
    "d[6] = 11"
   ]
  },
  {
   "cell_type": "code",
   "execution_count": 45,
   "id": "d94dac29-9027-43aa-b8dd-d6e69194918c",
   "metadata": {
    "collapsed": false,
    "jupyter": {
     "outputs_hidden": false
    }
   },
   "outputs": [
    {
     "data": {
      "text/plain": [
       "array([ 0.,  0.,  0.,  0.,  0.,  0., 11.,  0.,  0.,  0.])"
      ]
     },
     "execution_count": 45,
     "metadata": {},
     "output_type": "execute_result"
    }
   ],
   "source": [
    "d"
   ]
  },
  {
   "cell_type": "code",
   "execution_count": 47,
   "id": "89ce162c-a0a0-412a-8d21-217cbe7bfa7c",
   "metadata": {
    "collapsed": false,
    "jupyter": {
     "outputs_hidden": false
    }
   },
   "outputs": [],
   "source": [
    "a = np.arange(12, 38)"
   ]
  },
  {
   "cell_type": "code",
   "execution_count": 48,
   "id": "d1d143df-71c4-49ce-af9e-956750a65f9f",
   "metadata": {
    "collapsed": false,
    "jupyter": {
     "outputs_hidden": false
    }
   },
   "outputs": [
    {
     "data": {
      "text/plain": [
       "array([12, 13, 14, 15, 16, 17, 18, 19, 20, 21, 22, 23, 24, 25, 26, 27, 28,\n",
       "       29, 30, 31, 32, 33, 34, 35, 36, 37])"
      ]
     },
     "execution_count": 48,
     "metadata": {},
     "output_type": "execute_result"
    }
   ],
   "source": [
    "a"
   ]
  },
  {
   "cell_type": "code",
   "execution_count": 49,
   "id": "b90a3701-dcc5-48bc-9cde-baa98aeb7e43",
   "metadata": {
    "collapsed": false,
    "jupyter": {
     "outputs_hidden": false
    }
   },
   "outputs": [
    {
     "data": {
      "text/plain": [
       "array([12, 13, 14, 15, 16, 17, 18, 19, 20, 21, 22, 23, 24, 25, 26, 27, 28,\n",
       "       29, 30, 31, 32, 33, 34, 35, 36, 37, 38])"
      ]
     },
     "execution_count": 49,
     "metadata": {},
     "output_type": "execute_result"
    }
   ],
   "source": [
    "np.arange(12, 39)"
   ]
  },
  {
   "cell_type": "code",
   "execution_count": 50,
   "id": "0f58aed1-cb5a-4eef-a742-381d1f747439",
   "metadata": {
    "collapsed": false,
    "jupyter": {
     "outputs_hidden": false
    }
   },
   "outputs": [
    {
     "data": {
      "text/plain": [
       "array([37, 36, 35, 34, 33, 32, 31, 30, 29, 28, 27, 26, 25, 24, 23, 22, 21,\n",
       "       20, 19, 18, 17, 16, 15, 14, 13, 12])"
      ]
     },
     "execution_count": 50,
     "metadata": {},
     "output_type": "execute_result"
    }
   ],
   "source": [
    "a[::-1]"
   ]
  },
  {
   "cell_type": "code",
   "execution_count": 51,
   "id": "08bb71cb-d438-494a-804b-15985815b6de",
   "metadata": {
    "collapsed": false,
    "jupyter": {
     "outputs_hidden": false
    }
   },
   "outputs": [
    {
     "data": {
      "text/plain": [
       "array([12., 13., 14., 15., 16., 17., 18., 19., 20., 21., 22., 23., 24.,\n",
       "       25., 26., 27., 28., 29., 30., 31., 32., 33., 34., 35., 36., 37.])"
      ]
     },
     "execution_count": 51,
     "metadata": {},
     "output_type": "execute_result"
    }
   ],
   "source": [
    "a.astype('float')"
   ]
  },
  {
   "cell_type": "code",
   "execution_count": 59,
   "id": "753e6e5a-ffbe-4899-a389-89205865dade",
   "metadata": {
    "collapsed": false,
    "jupyter": {
     "outputs_hidden": false
    }
   },
   "outputs": [],
   "source": [
    "d0 = np.ones((3, 5))"
   ]
  },
  {
   "cell_type": "code",
   "execution_count": 60,
   "id": "6298627a-9057-4f54-a477-3ba5339e3a81",
   "metadata": {
    "collapsed": false,
    "jupyter": {
     "outputs_hidden": false
    }
   },
   "outputs": [
    {
     "data": {
      "text/plain": [
       "array([[1., 1., 1., 1., 1.],\n",
       "       [1., 1., 1., 1., 1.],\n",
       "       [1., 1., 1., 1., 1.]])"
      ]
     },
     "execution_count": 60,
     "metadata": {},
     "output_type": "execute_result"
    }
   ],
   "source": [
    "d0 "
   ]
  },
  {
   "cell_type": "code",
   "execution_count": 61,
   "id": "0e17e0a9-aa54-41a1-8782-3def30fdb121",
   "metadata": {
    "collapsed": false,
    "jupyter": {
     "outputs_hidden": false
    }
   },
   "outputs": [],
   "source": [
    "d0[1, :] = 0"
   ]
  },
  {
   "cell_type": "code",
   "execution_count": 62,
   "id": "f7262e4f-eabc-431e-9ff9-07500aa65048",
   "metadata": {
    "collapsed": false,
    "jupyter": {
     "outputs_hidden": false
    }
   },
   "outputs": [
    {
     "data": {
      "text/plain": [
       "array([[1., 1., 1., 1., 1.],\n",
       "       [0., 0., 0., 0., 0.],\n",
       "       [1., 1., 1., 1., 1.]])"
      ]
     },
     "execution_count": 62,
     "metadata": {},
     "output_type": "execute_result"
    }
   ],
   "source": [
    "d0"
   ]
  },
  {
   "cell_type": "code",
   "execution_count": 63,
   "id": "11521a67-a712-41c7-a3dd-8564e72750a2",
   "metadata": {
    "collapsed": false,
    "jupyter": {
     "outputs_hidden": false
    }
   },
   "outputs": [],
   "source": [
    "e0 = np.ones((3, 3))"
   ]
  },
  {
   "cell_type": "code",
   "execution_count": 64,
   "id": "4f428d39-3b8c-4f95-be3b-5490a7f2ee35",
   "metadata": {
    "collapsed": false,
    "jupyter": {
     "outputs_hidden": false
    }
   },
   "outputs": [
    {
     "data": {
      "text/plain": [
       "array([[1., 1., 1.],\n",
       "       [1., 1., 1.],\n",
       "       [1., 1., 1.]])"
      ]
     },
     "execution_count": 64,
     "metadata": {},
     "output_type": "execute_result"
    }
   ],
   "source": [
    "e0"
   ]
  },
  {
   "cell_type": "code",
   "execution_count": 67,
   "id": "277ca050-bc0d-4279-8353-86adf5ff5ab5",
   "metadata": {
    "collapsed": false,
    "jupyter": {
     "outputs_hidden": false
    }
   },
   "outputs": [
    {
     "data": {
      "text/plain": [
       "array([[0., 0., 0.],\n",
       "       [1., 1., 1.],\n",
       "       [1., 1., 1.],\n",
       "       [1., 1., 1.],\n",
       "       [0., 0., 0.]])"
      ]
     },
     "execution_count": 67,
     "metadata": {},
     "output_type": "execute_result"
    }
   ],
   "source": [
    "np.vstack((np.zeros(3), e0, np.zeros(3)))"
   ]
  },
  {
   "cell_type": "code",
   "execution_count": 70,
   "id": "5b860bbd-e742-488c-9d08-6c2d32130990",
   "metadata": {
    "collapsed": false,
    "jupyter": {
     "outputs_hidden": false
    }
   },
   "outputs": [
    {
     "data": {
      "text/plain": [
       "array([1, 2, 3, 4, 5, 6, 7, 8])"
      ]
     },
     "execution_count": 70,
     "metadata": {},
     "output_type": "execute_result"
    }
   ],
   "source": [
    "np.array([1, 2, 3, 4, 5, 6, 7, 8\n",
    "          ])"
   ]
  },
  {
   "cell_type": "code",
   "execution_count": 79,
   "id": "04f18fe5-c236-47ed-af2e-5c2082055273",
   "metadata": {
    "collapsed": false,
    "jupyter": {
     "outputs_hidden": false
    }
   },
   "outputs": [
    {
     "data": {
      "text/plain": [
       "array([[8, 4, 6],\n",
       "       [1, 2, 3]])"
      ]
     },
     "execution_count": 79,
     "metadata": {},
     "output_type": "execute_result"
    }
   ],
   "source": [
    "np.array([[8, 4, 6], [1, 2, 3]])"
   ]
  },
  {
   "cell_type": "code",
   "execution_count": 80,
   "id": "3e4775be-fcfa-4397-9ee3-2b6da904bbea",
   "metadata": {
    "collapsed": false,
    "jupyter": {
     "outputs_hidden": false
    }
   },
   "outputs": [],
   "source": [
    "append_arr  = np.arange(40, 100, 10)"
   ]
  },
  {
   "cell_type": "code",
   "execution_count": 90,
   "id": "687944de-8fbf-4b57-a9fa-7b8d7298eb0e",
   "metadata": {
    "collapsed": false,
    "jupyter": {
     "outputs_hidden": false
    }
   },
   "outputs": [
    {
     "data": {
      "text/plain": [
       "[40, 50, 60, 70, 80, 90]"
      ]
     },
     "execution_count": 90,
     "metadata": {},
     "output_type": "execute_result"
    }
   ],
   "source": [
    "append_arr.tolist()"
   ]
  },
  {
   "cell_type": "code",
   "execution_count": 99,
   "id": "562ce1d6-80b6-44ec-b503-f2762b82470c",
   "metadata": {
    "collapsed": false,
    "jupyter": {
     "outputs_hidden": false
    }
   },
   "outputs": [],
   "source": [
    " t = [10, 20, 30]"
   ]
  },
  {
   "cell_type": "code",
   "execution_count": 100,
   "id": "9d1a8c55-2d6b-4dbb-b435-a3d050d69a49",
   "metadata": {
    "collapsed": false,
    "jupyter": {
     "outputs_hidden": false
    }
   },
   "outputs": [
    {
     "data": {
      "text/plain": [
       "[10, 20, 30]"
      ]
     },
     "execution_count": 100,
     "metadata": {},
     "output_type": "execute_result"
    }
   ],
   "source": [
    "t"
   ]
  },
  {
   "cell_type": "code",
   "execution_count": 95,
   "id": "c7a3d798-ca6c-466f-aef3-5774505cde42",
   "metadata": {
    "collapsed": false,
    "jupyter": {
     "outputs_hidden": false
    }
   },
   "outputs": [],
   "source": [
    "t.append(append_arr.tolist())"
   ]
  },
  {
   "cell_type": "code",
   "execution_count": 96,
   "id": "4d2fe43e-0d11-4730-b7a8-8cffb470c51e",
   "metadata": {
    "collapsed": false,
    "jupyter": {
     "outputs_hidden": false
    }
   },
   "outputs": [
    {
     "data": {
      "text/plain": [
       "[10, 20, 30, [40, 50, 60, 70, 80, 90]]"
      ]
     },
     "execution_count": 96,
     "metadata": {},
     "output_type": "execute_result"
    }
   ],
   "source": [
    "t"
   ]
  },
  {
   "cell_type": "code",
   "execution_count": 101,
   "id": "e648fb83-05bc-42d6-8d2d-64465afae45a",
   "metadata": {
    "collapsed": false,
    "jupyter": {
     "outputs_hidden": false
    }
   },
   "outputs": [],
   "source": [
    "t.extend(append_arr.tolist())"
   ]
  },
  {
   "cell_type": "code",
   "execution_count": 102,
   "id": "265e265f-ea3c-496f-a15a-c12222704889",
   "metadata": {
    "collapsed": false,
    "jupyter": {
     "outputs_hidden": false
    }
   },
   "outputs": [
    {
     "data": {
      "text/plain": [
       "[10, 20, 30, 40, 50, 60, 70, 80, 90]"
      ]
     },
     "execution_count": 102,
     "metadata": {},
     "output_type": "execute_result"
    }
   ],
   "source": [
    "t"
   ]
  },
  {
   "cell_type": "code",
   "execution_count": 103,
   "id": "9df9a868-f502-4ee3-b447-de2c017307f8",
   "metadata": {
    "collapsed": false,
    "jupyter": {
     "outputs_hidden": false
    }
   },
   "outputs": [
    {
     "data": {
      "text/plain": [
       "array([[1., 1., 1., 1.],\n",
       "       [1., 1., 1., 1.],\n",
       "       [1., 0., 0., 0.]])"
      ]
     },
     "execution_count": 103,
     "metadata": {},
     "output_type": "execute_result"
    }
   ],
   "source": [
    "np.empty((3, 4))"
   ]
  },
  {
   "cell_type": "code",
   "execution_count": 104,
   "id": "edbe2f61-6681-4e82-8e62-424f0bb9de81",
   "metadata": {
    "collapsed": false,
    "jupyter": {
     "outputs_hidden": false
    }
   },
   "outputs": [
    {
     "data": {
      "text/plain": [
       "array([[6., 6., 6.],\n",
       "       [6., 6., 6.],\n",
       "       [6., 6., 6.]])"
      ]
     },
     "execution_count": 104,
     "metadata": {},
     "output_type": "execute_result"
    }
   ],
   "source": [
    "np.ones((3, 3)) * 6"
   ]
  },
  {
   "cell_type": "code",
   "execution_count": 106,
   "id": "99147187-b96f-45f4-b9a4-11fa0f3f41e6",
   "metadata": {
    "collapsed": false,
    "jupyter": {
     "outputs_hidden": false
    }
   },
   "outputs": [],
   "source": [
    "q =[ 1.00000000+0.j, 0.70710678+0.70710678j]"
   ]
  },
  {
   "cell_type": "code",
   "execution_count": 110,
   "id": "00fbecc0-550a-4470-9828-28a67495323d",
   "metadata": {
    "collapsed": false,
    "jupyter": {
     "outputs_hidden": false
    }
   },
   "outputs": [
    {
     "data": {
      "text/plain": [
       "array([False,  True])"
      ]
     },
     "execution_count": 110,
     "metadata": {},
     "output_type": "execute_result"
    }
   ],
   "source": [
    "np.iscomplex(q)"
   ]
  },
  {
   "cell_type": "code",
   "execution_count": 111,
   "id": "495b2bf1-407b-4a8f-9138-c793504e45c2",
   "metadata": {
    "collapsed": false,
    "jupyter": {
     "outputs_hidden": false
    }
   },
   "outputs": [],
   "source": [
    "q0 = q[0]\n",
    "q1 = q[1]"
   ]
  },
  {
   "cell_type": "code",
   "execution_count": 112,
   "id": "60ac842f-58b3-4ee0-b74b-b8adce3144a9",
   "metadata": {
    "collapsed": false,
    "jupyter": {
     "outputs_hidden": false
    }
   },
   "outputs": [
    {
     "data": {
      "text/plain": [
       "(1+0j)"
      ]
     },
     "execution_count": 112,
     "metadata": {},
     "output_type": "execute_result"
    }
   ],
   "source": [
    "q0"
   ]
  },
  {
   "cell_type": "code",
   "execution_count": 113,
   "id": "0e07621d-21d4-47e9-866c-563a1747be3e",
   "metadata": {
    "collapsed": false,
    "jupyter": {
     "outputs_hidden": false
    }
   },
   "outputs": [
    {
     "data": {
      "text/plain": [
       "(0.70710678+0.70710678j)"
      ]
     },
     "execution_count": 113,
     "metadata": {},
     "output_type": "execute_result"
    }
   ],
   "source": [
    "q1"
   ]
  },
  {
   "cell_type": "code",
   "execution_count": 114,
   "id": "b97bacaf-12d5-44ce-b981-445cc0220b23",
   "metadata": {
    "collapsed": false,
    "jupyter": {
     "outputs_hidden": false
    }
   },
   "outputs": [
    {
     "data": {
      "text/plain": [
       "0.70710678"
      ]
     },
     "execution_count": 114,
     "metadata": {},
     "output_type": "execute_result"
    }
   ],
   "source": [
    "q1.imag"
   ]
  },
  {
   "cell_type": "code",
   "execution_count": 115,
   "id": "12362384-d1ea-4b05-b2e3-6049fa7c5c04",
   "metadata": {
    "collapsed": false,
    "jupyter": {
     "outputs_hidden": false
    }
   },
   "outputs": [
    {
     "data": {
      "text/plain": [
       "0.70710678"
      ]
     },
     "execution_count": 115,
     "metadata": {},
     "output_type": "execute_result"
    }
   ],
   "source": [
    "q1.real"
   ]
  },
  {
   "cell_type": "code",
   "execution_count": 116,
   "id": "f84ea3d3-f4dd-481f-8712-79c6347145dd",
   "metadata": {
    "collapsed": false,
    "jupyter": {
     "outputs_hidden": false
    }
   },
   "outputs": [
    {
     "data": {
      "text/plain": [
       "1.0"
      ]
     },
     "execution_count": 116,
     "metadata": {},
     "output_type": "execute_result"
    }
   ],
   "source": [
    "q0.real"
   ]
  },
  {
   "cell_type": "code",
   "execution_count": 117,
   "id": "1b9bf4e6-7fa2-4826-b732-7c9fac9e1fcc",
   "metadata": {
    "collapsed": false,
    "jupyter": {
     "outputs_hidden": false
    }
   },
   "outputs": [
    {
     "data": {
      "text/plain": [
       "0.0"
      ]
     },
     "execution_count": 117,
     "metadata": {},
     "output_type": "execute_result"
    }
   ],
   "source": [
    "q0.imag"
   ]
  },
  {
   "cell_type": "code",
   "execution_count": 118,
   "id": "b2082f44-059a-4f43-9571-31e4c4e08b81",
   "metadata": {
    "collapsed": false,
    "jupyter": {
     "outputs_hidden": false
    }
   },
   "outputs": [],
   "source": [
    "a = np.arange(3)"
   ]
  },
  {
   "cell_type": "code",
   "execution_count": 119,
   "id": "ff80ca11-508c-4c02-9498-aeaa586979e7",
   "metadata": {
    "collapsed": false,
    "jupyter": {
     "outputs_hidden": false
    }
   },
   "outputs": [
    {
     "data": {
      "text/plain": [
       "array([0, 1, 2])"
      ]
     },
     "execution_count": 119,
     "metadata": {},
     "output_type": "execute_result"
    }
   ],
   "source": [
    "a"
   ]
  },
  {
   "cell_type": "code",
   "execution_count": 120,
   "id": "48f79023-5ef4-4430-8de8-a6f36ce2afd3",
   "metadata": {
    "collapsed": false,
    "jupyter": {
     "outputs_hidden": false
    }
   },
   "outputs": [
    {
     "data": {
      "text/plain": [
       "3"
      ]
     },
     "execution_count": 120,
     "metadata": {},
     "output_type": "execute_result"
    }
   ],
   "source": [
    "a.size"
   ]
  },
  {
   "cell_type": "code",
   "execution_count": 122,
   "id": "ed5d54b0-86ad-43ed-b604-7b5078dc7b8e",
   "metadata": {
    "collapsed": false,
    "jupyter": {
     "outputs_hidden": false
    }
   },
   "outputs": [
    {
     "data": {
      "text/plain": [
       "8"
      ]
     },
     "execution_count": 122,
     "metadata": {},
     "output_type": "execute_result"
    }
   ],
   "source": [
    "a.itemsize"
   ]
  },
  {
   "cell_type": "code",
   "execution_count": 123,
   "id": "46274f26-34f7-451b-8794-564cd8fae782",
   "metadata": {
    "collapsed": false,
    "jupyter": {
     "outputs_hidden": false
    }
   },
   "outputs": [
    {
     "data": {
      "text/plain": [
       "24"
      ]
     },
     "execution_count": 123,
     "metadata": {},
     "output_type": "execute_result"
    }
   ],
   "source": [
    "a.size*a.itemsize"
   ]
  },
  {
   "cell_type": "code",
   "execution_count": 125,
   "id": "60824cc5-2637-41a7-b180-096936812057",
   "metadata": {
    "collapsed": false,
    "jupyter": {
     "outputs_hidden": false
    }
   },
   "outputs": [],
   "source": [
    "a =np.array(((1,0,0), (0,1,0), (0,0,1)), dtype=float) "
   ]
  },
  {
   "cell_type": "code",
   "execution_count": 126,
   "id": "6e15a26c-ca21-4f7d-abf0-6e2345f51d0f",
   "metadata": {
    "collapsed": false,
    "jupyter": {
     "outputs_hidden": false
    }
   },
   "outputs": [],
   "source": [
    "a = np.array([0,  0, 0])"
   ]
  },
  {
   "cell_type": "code",
   "execution_count": 127,
   "id": "813cc963-0e89-4b7e-b82e-4502680e801d",
   "metadata": {
    "collapsed": false,
    "jupyter": {
     "outputs_hidden": false
    }
   },
   "outputs": [
    {
     "data": {
      "text/plain": [
       "array([0, 0, 0])"
      ]
     },
     "execution_count": 127,
     "metadata": {},
     "output_type": "execute_result"
    }
   ],
   "source": [
    "a"
   ]
  },
  {
   "cell_type": "code",
   "execution_count": 128,
   "id": "8c682c93-5f7e-47bc-ac65-db46a281b225",
   "metadata": {
    "collapsed": false,
    "jupyter": {
     "outputs_hidden": false
    }
   },
   "outputs": [],
   "source": [
    "a = np.array([[0, 0, 0]])"
   ]
  },
  {
   "cell_type": "code",
   "execution_count": 129,
   "id": "a79f5fe7-6282-4b3e-b309-2f131adb1bb5",
   "metadata": {
    "collapsed": false,
    "jupyter": {
     "outputs_hidden": false
    }
   },
   "outputs": [
    {
     "data": {
      "text/plain": [
       "array([[0, 0, 0]])"
      ]
     },
     "execution_count": 129,
     "metadata": {},
     "output_type": "execute_result"
    }
   ],
   "source": [
    "a"
   ]
  },
  {
   "cell_type": "code",
   "execution_count": 140,
   "id": "a69db19a-df7e-4192-bdbe-cb615d4bd9d2",
   "metadata": {
    "collapsed": false,
    "jupyter": {
     "outputs_hidden": false
    }
   },
   "outputs": [],
   "source": [
    "a, b = np.zeros((3,)), np.ones((3,))"
   ]
  },
  {
   "cell_type": "code",
   "execution_count": 141,
   "id": "bdb623fd-8c55-4048-b96f-6f980c718426",
   "metadata": {
    "collapsed": false,
    "jupyter": {
     "outputs_hidden": false
    }
   },
   "outputs": [
    {
     "data": {
      "text/plain": [
       "array([0., 0., 0.])"
      ]
     },
     "execution_count": 141,
     "metadata": {},
     "output_type": "execute_result"
    }
   ],
   "source": [
    "a"
   ]
  },
  {
   "cell_type": "code",
   "execution_count": 142,
   "id": "2b5d1975-5120-4659-ae67-ddd523da5c7c",
   "metadata": {
    "collapsed": false,
    "jupyter": {
     "outputs_hidden": false
    }
   },
   "outputs": [
    {
     "data": {
      "text/plain": [
       "array([1., 1., 1.])"
      ]
     },
     "execution_count": 142,
     "metadata": {},
     "output_type": "execute_result"
    }
   ],
   "source": [
    "b"
   ]
  },
  {
   "cell_type": "code",
   "execution_count": 143,
   "id": "d47f1855-ed09-44f5-8333-3d50459db47f",
   "metadata": {
    "collapsed": false,
    "jupyter": {
     "outputs_hidden": false
    }
   },
   "outputs": [],
   "source": [
    "a.dtype = 'int'"
   ]
  },
  {
   "cell_type": "code",
   "execution_count": 134,
   "id": "45c5a04c-91d1-4907-a93f-2dc55562c5e0",
   "metadata": {
    "collapsed": false,
    "jupyter": {
     "outputs_hidden": false
    }
   },
   "outputs": [
    {
     "data": {
      "text/plain": [
       "array([0, 0, 0])"
      ]
     },
     "execution_count": 134,
     "metadata": {},
     "output_type": "execute_result"
    }
   ],
   "source": [
    "a"
   ]
  },
  {
   "cell_type": "code",
   "execution_count": 138,
   "id": "14ba3ad7-3889-4464-b187-32e105d7e1ea",
   "metadata": {
    "collapsed": false,
    "jupyter": {
     "outputs_hidden": false
    }
   },
   "outputs": [],
   "source": [
    "b.dtype = 'int'"
   ]
  },
  {
   "cell_type": "code",
   "execution_count": 144,
   "id": "ee613544-a8ef-4146-b283-4f02432c446e",
   "metadata": {
    "collapsed": false,
    "jupyter": {
     "outputs_hidden": false
    }
   },
   "outputs": [
    {
     "data": {
      "text/plain": [
       "array([1., 1., 1.])"
      ]
     },
     "execution_count": 144,
     "metadata": {},
     "output_type": "execute_result"
    }
   ],
   "source": [
    "b"
   ]
  },
  {
   "cell_type": "code",
   "execution_count": 145,
   "id": "c8de13a9-2245-4bde-92dd-085210a907f0",
   "metadata": {
    "collapsed": false,
    "jupyter": {
     "outputs_hidden": false
    }
   },
   "outputs": [
    {
     "data": {
      "text/plain": [
       "array([1, 1, 1])"
      ]
     },
     "execution_count": 145,
     "metadata": {},
     "output_type": "execute_result"
    }
   ],
   "source": [
    "b.astype('int')"
   ]
  },
  {
   "cell_type": "code",
   "execution_count": 219,
   "id": "a3709465-3c2f-4fb4-a71b-25708ca9e9ba",
   "metadata": {
    "collapsed": false,
    "jupyter": {
     "outputs_hidden": false
    }
   },
   "outputs": [],
   "source": [
    "a = np.linspace(1, 48, 48).reshape(3, 4, 4)"
   ]
  },
  {
   "cell_type": "code",
   "execution_count": 220,
   "id": "a63e75be-5478-41e1-a620-e596f3af9291",
   "metadata": {
    "collapsed": false,
    "jupyter": {
     "outputs_hidden": false
    }
   },
   "outputs": [
    {
     "data": {
      "text/plain": [
       "48"
      ]
     },
     "execution_count": 220,
     "metadata": {},
     "output_type": "execute_result"
    }
   ],
   "source": [
    "a.size"
   ]
  },
  {
   "cell_type": "code",
   "execution_count": 221,
   "id": "6e2c9969-8a8a-46b6-b032-3783fd65193b",
   "metadata": {
    "collapsed": false,
    "jupyter": {
     "outputs_hidden": false
    }
   },
   "outputs": [
    {
     "data": {
      "text/plain": [
       "array([[[ 1.,  2.,  3.,  4.],\n",
       "        [ 5.,  6.,  7.,  8.],\n",
       "        [ 9., 10., 11., 12.],\n",
       "        [13., 14., 15., 16.]],\n",
       "\n",
       "       [[17., 18., 19., 20.],\n",
       "        [21., 22., 23., 24.],\n",
       "        [25., 26., 27., 28.],\n",
       "        [29., 30., 31., 32.]],\n",
       "\n",
       "       [[33., 34., 35., 36.],\n",
       "        [37., 38., 39., 40.],\n",
       "        [41., 42., 43., 44.],\n",
       "        [45., 46., 47., 48.]]])"
      ]
     },
     "execution_count": 221,
     "metadata": {},
     "output_type": "execute_result"
    }
   ],
   "source": [
    "a"
   ]
  },
  {
   "cell_type": "code",
   "execution_count": 222,
   "id": "c2b1bee6-6cf6-4cea-887f-96526e0b4e3f",
   "metadata": {
    "collapsed": false,
    "jupyter": {
     "outputs_hidden": false
    }
   },
   "outputs": [
    {
     "data": {
      "text/plain": [
       "20.0"
      ]
     },
     "execution_count": 222,
     "metadata": {},
     "output_type": "execute_result"
    }
   ],
   "source": [
    "a[(1, 0, 3) ]"
   ]
  },
  {
   "cell_type": "code",
   "execution_count": 153,
   "id": "c72707e7-5a69-43fa-ab18-902ea94472e6",
   "metadata": {
    "collapsed": false,
    "jupyter": {
     "outputs_hidden": false
    }
   },
   "outputs": [
    {
     "data": {
      "text/plain": [
       "20.0"
      ]
     },
     "execution_count": 153,
     "metadata": {},
     "output_type": "execute_result"
    }
   ],
   "source": [
    "a[1, 0, 3]"
   ]
  },
  {
   "cell_type": "code",
   "execution_count": 154,
   "id": "3bbaa88b-bf26-479c-adc3-4699a01420db",
   "metadata": {
    "collapsed": false,
    "jupyter": {
     "outputs_hidden": false
    }
   },
   "outputs": [
    {
     "data": {
      "text/plain": [
       "20.0"
      ]
     },
     "execution_count": 154,
     "metadata": {},
     "output_type": "execute_result"
    }
   ],
   "source": [
    "a[1][0, 3]"
   ]
  },
  {
   "cell_type": "code",
   "execution_count": 156,
   "id": "03b8ede0-09f5-4c07-88cc-16f6ba805f94",
   "metadata": {
    "collapsed": false,
    "jupyter": {
     "outputs_hidden": false
    }
   },
   "outputs": [
    {
     "data": {
      "text/plain": [
       "array([ 9., 10., 11., 12.])"
      ]
     },
     "execution_count": 156,
     "metadata": {},
     "output_type": "execute_result"
    }
   ],
   "source": [
    "a[0, 2, :]"
   ]
  },
  {
   "cell_type": "code",
   "execution_count": 157,
   "id": "8ebb8665-3e74-420e-9db5-7c3f700f92c5",
   "metadata": {
    "collapsed": false,
    "jupyter": {
     "outputs_hidden": false
    }
   },
   "outputs": [
    {
     "data": {
      "text/plain": [
       "array([[33., 34., 35., 36.],\n",
       "       [37., 38., 39., 40.],\n",
       "       [41., 42., 43., 44.],\n",
       "       [45., 46., 47., 48.]])"
      ]
     },
     "execution_count": 157,
     "metadata": {},
     "output_type": "execute_result"
    }
   ],
   "source": [
    "a[2]"
   ]
  },
  {
   "cell_type": "code",
   "execution_count": 158,
   "id": "c9e09914-26ce-46d5-9bdf-1db920891fdc",
   "metadata": {
    "collapsed": false,
    "jupyter": {
     "outputs_hidden": false
    }
   },
   "outputs": [
    {
     "data": {
      "text/plain": [
       "array([[ 5.,  6.],\n",
       "       [21., 22.],\n",
       "       [37., 38.]])"
      ]
     },
     "execution_count": 158,
     "metadata": {},
     "output_type": "execute_result"
    }
   ],
   "source": [
    "a[:, 1, :2]"
   ]
  },
  {
   "cell_type": "code",
   "execution_count": 223,
   "id": "05d281bd-e9ba-474c-97aa-731d28966e61",
   "metadata": {
    "collapsed": false,
    "jupyter": {
     "outputs_hidden": false
    }
   },
   "outputs": [
    {
     "data": {
      "text/plain": [
       "array([[36., 35.],\n",
       "       [40., 39.],\n",
       "       [44., 43.],\n",
       "       [48., 47.]])"
      ]
     },
     "execution_count": 223,
     "metadata": {},
     "output_type": "execute_result"
    }
   ],
   "source": [
    "a[2, :, -1:-3:-1]"
   ]
  },
  {
   "cell_type": "code",
   "execution_count": 224,
   "id": "53dc3e87-13e9-43ac-b4a3-ad49aeed8664",
   "metadata": {
    "collapsed": false,
    "jupyter": {
     "outputs_hidden": false
    }
   },
   "outputs": [],
   "source": [
    "p =[2, 3, 4, 5]"
   ]
  },
  {
   "cell_type": "code",
   "execution_count": 225,
   "id": "0adc936e-9b5c-4a20-ac4d-05c724be0e00",
   "metadata": {
    "collapsed": false,
    "jupyter": {
     "outputs_hidden": false
    }
   },
   "outputs": [
    {
     "data": {
      "text/plain": [
       "[5, 4, 3, 2]"
      ]
     },
     "execution_count": 225,
     "metadata": {},
     "output_type": "execute_result"
    }
   ],
   "source": [
    "p[::-1]"
   ]
  },
  {
   "cell_type": "code",
   "execution_count": 226,
   "id": "e404de41-ab1c-4f28-a727-70db86fb5cb0",
   "metadata": {
    "collapsed": false,
    "jupyter": {
     "outputs_hidden": false
    }
   },
   "outputs": [
    {
     "data": {
      "text/plain": [
       "[4, 3]"
      ]
     },
     "execution_count": 226,
     "metadata": {},
     "output_type": "execute_result"
    }
   ],
   "source": [
    "p[2:0:-1]"
   ]
  },
  {
   "cell_type": "code",
   "execution_count": 227,
   "id": "661af1c5-439b-496b-9dbd-d4fdfc8d4770",
   "metadata": {
    "collapsed": false,
    "jupyter": {
     "outputs_hidden": false
    }
   },
   "outputs": [
    {
     "data": {
      "text/plain": [
       "[2, 3, 4, 5]"
      ]
     },
     "execution_count": 227,
     "metadata": {},
     "output_type": "execute_result"
    }
   ],
   "source": [
    "p[0:4]"
   ]
  },
  {
   "cell_type": "code",
   "execution_count": 228,
   "id": "2d5309bd-74dd-4d22-9465-fd57cae564ce",
   "metadata": {
    "collapsed": false,
    "jupyter": {
     "outputs_hidden": false
    }
   },
   "outputs": [],
   "source": [
    "a0 = ['spam', 'egg', 'bacon', 'tomato', 'ham', 'lobster']"
   ]
  },
  {
   "cell_type": "code",
   "execution_count": 230,
   "id": "670a0ae8-d3fb-4a35-9c68-10336730acc5",
   "metadata": {
    "collapsed": false,
    "jupyter": {
     "outputs_hidden": false
    }
   },
   "outputs": [
    {
     "data": {
      "text/plain": [
       "['lobster', 'ham']"
      ]
     },
     "execution_count": 230,
     "metadata": {},
     "output_type": "execute_result"
    }
   ],
   "source": [
    "a0[-1:-3:-1]"
   ]
  },
  {
   "cell_type": "code",
   "execution_count": 230,
   "id": "a0532db9-4f7e-47d4-bf0f-e87423eb6b04",
   "metadata": {
    "collapsed": false,
    "jupyter": {
     "outputs_hidden": false
    }
   },
   "outputs": [],
   "source": []
  },
  {
   "cell_type": "code",
   "execution_count": 234,
   "id": "dd33bcdb-8609-4219-8e10-1b95b3666d69",
   "metadata": {
    "collapsed": false,
    "jupyter": {
     "outputs_hidden": false
    }
   },
   "outputs": [
    {
     "data": {
      "text/plain": [
       "array([[13.,  9.,  5.,  1.],\n",
       "       [29., 25., 21., 17.],\n",
       "       [45., 41., 37., 33.]])"
      ]
     },
     "execution_count": 234,
     "metadata": {},
     "output_type": "execute_result"
    }
   ],
   "source": [
    "a[:, ::-1, 0]"
   ]
  },
  {
   "cell_type": "code",
   "execution_count": 235,
   "id": "f434761e-732a-454f-ab2b-e6e3f5286106",
   "metadata": {
    "collapsed": false,
    "jupyter": {
     "outputs_hidden": false
    }
   },
   "outputs": [
    {
     "data": {
      "text/plain": [
       "array([[[ 1.,  2.,  3.,  4.],\n",
       "        [ 5.,  6.,  7.,  8.],\n",
       "        [ 9., 10., 11., 12.],\n",
       "        [13., 14., 15., 16.]],\n",
       "\n",
       "       [[17., 18., 19., 20.],\n",
       "        [21., 22., 23., 24.],\n",
       "        [25., 26., 27., 28.],\n",
       "        [29., 30., 31., 32.]],\n",
       "\n",
       "       [[33., 34., 35., 36.],\n",
       "        [37., 38., 39., 40.],\n",
       "        [41., 42., 43., 44.],\n",
       "        [45., 46., 47., 48.]]])"
      ]
     },
     "execution_count": 235,
     "metadata": {},
     "output_type": "execute_result"
    }
   ],
   "source": [
    "a"
   ]
  },
  {
   "cell_type": "code",
   "execution_count": 252,
   "id": "c4a1670a-29db-48f4-9177-5a8f6076d204",
   "metadata": {
    "collapsed": false,
    "jupyter": {
     "outputs_hidden": false
    }
   },
   "outputs": [],
   "source": [
    "ia = np.array(((0,0), (0,2)))\n",
    "ja = np.array(((0,0), (2,3)))\n",
    "za = np.array(((0,3), (3, 3)))"
   ]
  },
  {
   "cell_type": "code",
   "execution_count": 253,
   "id": "0001609d-a8e2-4cef-8c57-fff3951e6406",
   "metadata": {
    "collapsed": false,
    "jupyter": {
     "outputs_hidden": false
    }
   },
   "outputs": [
    {
     "data": {
      "text/plain": [
       "array([[[ 1.,  2.,  3.,  4.],\n",
       "        [ 5.,  6.,  7.,  8.],\n",
       "        [ 9., 10., 11., 12.],\n",
       "        [13., 14., 15., 16.]],\n",
       "\n",
       "       [[17., 18., 19., 20.],\n",
       "        [21., 22., 23., 24.],\n",
       "        [25., 26., 27., 28.],\n",
       "        [29., 30., 31., 32.]],\n",
       "\n",
       "       [[33., 34., 35., 36.],\n",
       "        [37., 38., 39., 40.],\n",
       "        [41., 42., 43., 44.],\n",
       "        [45., 46., 47., 48.]]])"
      ]
     },
     "execution_count": 253,
     "metadata": {},
     "output_type": "execute_result"
    }
   ],
   "source": [
    "a"
   ]
  },
  {
   "cell_type": "code",
   "execution_count": 254,
   "id": "176b4de4-d522-499e-a7dc-0f75adc7c4bd",
   "metadata": {
    "collapsed": false,
    "jupyter": {
     "outputs_hidden": false
    }
   },
   "outputs": [
    {
     "data": {
      "text/plain": [
       "array([[ 1.,  4.],\n",
       "       [12., 48.]])"
      ]
     },
     "execution_count": 254,
     "metadata": {},
     "output_type": "execute_result"
    }
   ],
   "source": [
    "a[ia, ja, za]"
   ]
  },
  {
   "cell_type": "code",
   "execution_count": 255,
   "id": "2ec45cfb-dec4-4a28-bd3d-a709df77a187",
   "metadata": {
    "collapsed": false,
    "jupyter": {
     "outputs_hidden": false
    }
   },
   "outputs": [],
   "source": [
    "pp = np.linspace(0, 2, 100)"
   ]
  },
  {
   "cell_type": "code",
   "execution_count": 256,
   "id": "2a60dd99-0b99-430a-9846-430b1d72b14b",
   "metadata": {
    "collapsed": false,
    "jupyter": {
     "outputs_hidden": false
    }
   },
   "outputs": [
    {
     "data": {
      "text/plain": [
       "array([0.        , 0.02020202, 0.04040404, 0.06060606, 0.08080808,\n",
       "       0.1010101 , 0.12121212, 0.14141414, 0.16161616, 0.18181818,\n",
       "       0.2020202 , 0.22222222, 0.24242424, 0.26262626, 0.28282828,\n",
       "       0.3030303 , 0.32323232, 0.34343434, 0.36363636, 0.38383838,\n",
       "       0.4040404 , 0.42424242, 0.44444444, 0.46464646, 0.48484848,\n",
       "       0.50505051, 0.52525253, 0.54545455, 0.56565657, 0.58585859,\n",
       "       0.60606061, 0.62626263, 0.64646465, 0.66666667, 0.68686869,\n",
       "       0.70707071, 0.72727273, 0.74747475, 0.76767677, 0.78787879,\n",
       "       0.80808081, 0.82828283, 0.84848485, 0.86868687, 0.88888889,\n",
       "       0.90909091, 0.92929293, 0.94949495, 0.96969697, 0.98989899])"
      ]
     },
     "execution_count": 256,
     "metadata": {},
     "output_type": "execute_result"
    }
   ],
   "source": [
    "pp[(pp>= 0) & (pp <=1)] "
   ]
  },
  {
   "cell_type": "code",
   "execution_count": 261,
   "id": "6f763066-9340-4e60-8213-35782ee83783",
   "metadata": {
    "collapsed": false,
    "jupyter": {
     "outputs_hidden": false
    }
   },
   "outputs": [
    {
     "name": "stdout",
     "output_type": "stream",
     "text": [
      "[[17 24  1  8 15]\n",
      " [23  5  7 14 16]\n",
      " [ 4  6 13 20 22]\n",
      " [10 12 19 21  3]\n",
      " [11 18 25  2  9]]\n"
     ]
    }
   ],
   "source": [
    "N=5\n",
    "\n",
    "magic_square = np.zeros((N, N), dtype=int)\n",
    "n = 1\n",
    "i, j = 0, N//2\n",
    "\n",
    "while n <= N**2:\n",
    "    magic_square[i, j] = n\n",
    "    n +=1\n",
    "    newi, newj = (i-1) % N, (j+1)%N\n",
    "    if magic_square[newi, newj]:\n",
    "        i +=1\n",
    "    else:\n",
    "        i, j = newi, newj\n",
    "\n",
    "print(magic_square)"
   ]
  },
  {
   "cell_type": "code",
   "execution_count": 263,
   "id": "32d01d39-0eea-4536-bfdd-436646be4eef",
   "metadata": {
    "collapsed": false,
    "jupyter": {
     "outputs_hidden": false
    }
   },
   "outputs": [],
   "source": [
    "def magic_checksum(N):\n",
    "    return N * (N**2 +1)/2"
   ]
  },
  {
   "cell_type": "code",
   "execution_count": 264,
   "id": "688c1cc1-450e-457f-90bc-2827e6610741",
   "metadata": {
    "collapsed": false,
    "jupyter": {
     "outputs_hidden": false
    }
   },
   "outputs": [
    {
     "data": {
      "text/plain": [
       "65.0"
      ]
     },
     "execution_count": 264,
     "metadata": {},
     "output_type": "execute_result"
    }
   ],
   "source": [
    "magic_checksum(5)"
   ]
  },
  {
   "cell_type": "code",
   "execution_count": 267,
   "id": "8ed3d1e4-4423-40ad-8906-14362cb1da3c",
   "metadata": {
    "collapsed": false,
    "jupyter": {
     "outputs_hidden": false
    }
   },
   "outputs": [
    {
     "data": {
      "text/plain": [
       "65"
      ]
     },
     "execution_count": 267,
     "metadata": {},
     "output_type": "execute_result"
    }
   ],
   "source": [
    "sum(magic_square.diagonal())"
   ]
  },
  {
   "cell_type": "code",
   "execution_count": 268,
   "id": "4e61229c-75ac-4705-ba7a-61e14b48e53c",
   "metadata": {
    "collapsed": false,
    "jupyter": {
     "outputs_hidden": false
    }
   },
   "outputs": [
    {
     "name": "stdout",
     "output_type": "stream",
     "text": [
      "65\n",
      "65\n",
      "65\n",
      "65\n",
      "65\n"
     ]
    }
   ],
   "source": [
    "for row in magic_square:\n",
    "    print(sum(row))"
   ]
  },
  {
   "cell_type": "code",
   "execution_count": 269,
   "id": "3da349a1-8e3a-4378-89b1-9f46d948a830",
   "metadata": {
    "collapsed": false,
    "jupyter": {
     "outputs_hidden": false
    }
   },
   "outputs": [
    {
     "name": "stdout",
     "output_type": "stream",
     "text": [
      "65\n",
      "65\n",
      "65\n",
      "65\n",
      "65\n"
     ]
    }
   ],
   "source": [
    "for col in range(5):\n",
    "    print(sum(magic_square[:, col]))"
   ]
  },
  {
   "cell_type": "code",
   "execution_count": 271,
   "id": "b121ac11-1bc4-4f77-8091-b3bca45fcc77",
   "metadata": {
    "collapsed": false,
    "jupyter": {
     "outputs_hidden": false
    }
   },
   "outputs": [],
   "source": [
    "checker = np.arange(1, N**2+1)"
   ]
  },
  {
   "cell_type": "code",
   "execution_count": 272,
   "id": "23213ad1-4625-4f55-992f-3b74789458bd",
   "metadata": {
    "collapsed": false,
    "jupyter": {
     "outputs_hidden": false
    }
   },
   "outputs": [
    {
     "data": {
      "text/plain": [
       "array([ 1,  2,  3,  4,  5,  6,  7,  8,  9, 10, 11, 12, 13, 14, 15, 16, 17,\n",
       "       18, 19, 20, 21, 22, 23, 24, 25])"
      ]
     },
     "execution_count": 272,
     "metadata": {},
     "output_type": "execute_result"
    }
   ],
   "source": [
    "checker"
   ]
  },
  {
   "cell_type": "code",
   "execution_count": 273,
   "id": "7712a009-0722-4ce0-a754-c7b0b40805d5",
   "metadata": {
    "collapsed": false,
    "jupyter": {
     "outputs_hidden": false
    }
   },
   "outputs": [],
   "source": [
    "base_arr = magic_square.ravel()"
   ]
  },
  {
   "cell_type": "code",
   "execution_count": 275,
   "id": "4aa1466b-a126-4f28-aa85-6abd59478489",
   "metadata": {
    "collapsed": false,
    "jupyter": {
     "outputs_hidden": false
    }
   },
   "outputs": [],
   "source": [
    "base_arr.sort()"
   ]
  },
  {
   "cell_type": "code",
   "execution_count": 276,
   "id": "76de9a90-dcb1-474e-a92b-5eb9480395ba",
   "metadata": {
    "collapsed": false,
    "jupyter": {
     "outputs_hidden": false
    }
   },
   "outputs": [
    {
     "data": {
      "text/plain": [
       "array([ True,  True,  True,  True,  True,  True,  True,  True,  True,\n",
       "        True,  True,  True,  True,  True,  True,  True,  True,  True,\n",
       "        True,  True,  True,  True,  True,  True,  True])"
      ]
     },
     "execution_count": 276,
     "metadata": {},
     "output_type": "execute_result"
    }
   ],
   "source": [
    "checker == base_arr"
   ]
  },
  {
   "cell_type": "code",
   "execution_count": 277,
   "id": "c26ce79e-eb20-4b62-856b-de0330645d43",
   "metadata": {
    "collapsed": false,
    "jupyter": {
     "outputs_hidden": false
    }
   },
   "outputs": [
    {
     "data": {
      "text/plain": [
       "True"
      ]
     },
     "execution_count": 277,
     "metadata": {},
     "output_type": "execute_result"
    }
   ],
   "source": [
    "np.allclose(checker, base_arr)"
   ]
  },
  {
   "cell_type": "code",
   "execution_count": 279,
   "id": "3d74ab03-0ce3-442a-83e5-57fae3b4a88b",
   "metadata": {
    "collapsed": false,
    "jupyter": {
     "outputs_hidden": false
    }
   },
   "outputs": [],
   "source": [
    "mon= np.arange(1, 40, 2)"
   ]
  },
  {
   "cell_type": "code",
   "execution_count": 280,
   "id": "b31d2820-9062-4ce1-aea0-4b554cafac0d",
   "metadata": {
    "collapsed": false,
    "jupyter": {
     "outputs_hidden": false
    }
   },
   "outputs": [
    {
     "data": {
      "text/plain": [
       "True"
      ]
     },
     "execution_count": 280,
     "metadata": {},
     "output_type": "execute_result"
    }
   ],
   "source": [
    "np.all(np.diff(mon)>=0)"
   ]
  },
  {
   "cell_type": "code",
   "execution_count": null,
   "id": "5a85e3bc-91f5-4b33-b22d-a266641351fc",
   "metadata": {
    "collapsed": false,
    "jupyter": {
     "outputs_hidden": false
    }
   },
   "outputs": [],
   "source": [
    "The dtypes of scalars and arrays\n",
    "\n",
    "Question Q6.1.11\n",
    "The dtype np.uint8 represents an unsigned integer in 8 bits. Its value may therefore be in the range 0−255\n",
    ".Explain the following behaviour\n"
   ]
  }
 ],
 "metadata": {
  "kernelspec": {
   "display_name": "Python 3 (ipykernel)",
   "language": "python",
   "name": "python3"
  },
  "language_info": {
   "codemirror_mode": {
    "name": "ipython",
    "version": 3
   },
   "file_extension": ".py",
   "mimetype": "text/x-python",
   "name": "python",
   "nbconvert_exporter": "python",
   "pygments_lexer": "ipython3",
   "version": "3.9.16"
  },
  "name": "indexing_problems.ipynb"
 },
 "nbformat": 4,
 "nbformat_minor": 5
}
