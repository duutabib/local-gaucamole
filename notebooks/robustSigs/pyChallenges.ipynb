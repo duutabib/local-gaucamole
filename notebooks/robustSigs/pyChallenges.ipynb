{
 "cells": [
  {
   "cell_type": "code",
   "execution_count": 2,
   "metadata": {},
   "outputs": [
    {
     "name": "stdout",
     "output_type": "stream",
     "text": [
      "[2, 11, 30, 14, 333, 100, 4444, 2222]\n"
     ]
    }
   ],
   "source": [
    "numbers = [11, 2, 30, 333, 14, 4444, 100, 2222]\n",
    "\n",
    "\n",
    "numbers.sort(key=lambda x: len(str(x)))\n",
    "print(numbers)"
   ]
  },
  {
   "cell_type": "code",
   "execution_count": 4,
   "metadata": {},
   "outputs": [
    {
     "name": "stdout",
     "output_type": "stream",
     "text": [
      "None\n",
      "[2, 11, 14, 30, 100, 333, 2222, 4444]\n"
     ]
    }
   ],
   "source": [
    "numbers = [11, 2, 30, 333, 14, 4444, 100, 2222]\n",
    "print(numbers.sort(key=lambda x: (len(str(x)), x, )))\n",
    "print(numbers)"
   ]
  },
  {
   "cell_type": "code",
   "execution_count": null,
   "metadata": {},
   "outputs": [],
   "source": []
  },
  {
   "cell_type": "code",
   "execution_count": null,
   "metadata": {},
   "outputs": [],
   "source": []
  },
  {
   "cell_type": "code",
   "execution_count": null,
   "metadata": {},
   "outputs": [],
   "source": []
  }
 ],
 "metadata": {
  "kernelspec": {
   "display_name": "Python 3",
   "language": "python",
   "name": "python3"
  },
  "language_info": {
   "codemirror_mode": {
    "name": "ipython",
    "version": 3
   },
   "file_extension": ".py",
   "mimetype": "text/x-python",
   "name": "python",
   "nbconvert_exporter": "python",
   "pygments_lexer": "ipython3",
   "version": "3.9.16"
  }
 },
 "nbformat": 4,
 "nbformat_minor": 2
}
